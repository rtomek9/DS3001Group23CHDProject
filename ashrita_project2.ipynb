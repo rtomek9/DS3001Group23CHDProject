{
  "cells": [
    {
      "cell_type": "markdown",
      "metadata": {
        "id": "view-in-github",
        "colab_type": "text"
      },
      "source": [
        "<a href=\"https://colab.research.google.com/github/rtomek9/DS3001Group23CHDProject/blob/main/ashrita_project2.ipynb\" target=\"_parent\"><img src=\"https://colab.research.google.com/assets/colab-badge.svg\" alt=\"Open In Colab\"/></a>"
      ]
    },
    {
      "cell_type": "markdown",
      "id": "b1bace51-d646-4ab1-abdf-4e2e65a091c8",
      "metadata": {
        "id": "b1bace51-d646-4ab1-abdf-4e2e65a091c8"
      },
      "source": [
        "# Project #2\n",
        "## Foundations of Machine Learning\n",
        "\n",
        "The purpose of this project is to build predictive algorithms that predict the likelihood a person develops coronary heart disease (CHD). This is a subset of the data available for the Framingham Heart Study, a longitudinal data set following a sample of patients from Framingham, MA., that began in 1948 and is now on its third generation of participants.\n",
        "\n",
        "The data include:\n",
        "  \n",
        "- `sex` : the recorded sex of the observationsm with 1 denoting an participant coded as male\n",
        "- `age` : Age at the time of medical examination in years.\n",
        "- `education`: A categorical variable of the participants education, with the levels: Some high school (1), high school/GED (2), some college/vocational school (3), college (4)\n",
        "- `currentSmoker`: Current cigarette smoking at the time of examinations\n",
        "- `cigsPerDay`: Number of cigarettes smoked each day\n",
        "- `BPmeds`: Use of Anti-hypertensive medication at exam\n",
        "- `prevalentStroke`: Prevalent Stroke (0 = free of disease)\n",
        "- `prevalentHyp`: Prevalent Hypertensive. Subject was defined as hypertensive if treated\n",
        "- `diabetes`: Diabetic according to criteria of first exam treated\n",
        "- `totChol`: Total cholesterol (mg/dL)\n",
        "- `sysBP`: Systolic Blood Pressure (mmHg)\n",
        "- `diaBP`: Diastolic blood pressure (mmHg)\n",
        "- `BMI`: Body Mass Index, weight (kg)/height (m)^2\n",
        "- `heartRate`: Heart rate (beats/minute)\n",
        "- `glucose`: Blood glucose level (mg/dL)\n",
        "- `TenYearCHD` : The 10 year risk of coronary heart disease(CHD)\n",
        "\n",
        "The data come in two files: `training_data.csv`, which you should use to build your models, and `testing_data.csv`, which you should use to test your models. The models must be trained on the training data and tested on the testing data, but providing both files allows you to experiment with your choices and iterate on model designs (e.g. if performance drops on the testing data, you know you're likely over-fitting).\n",
        "  \n",
        "You can use any of the tools presented in class: $k$ nearest neighbor, linear models, or decision trees. In principle, $k$ means clustering might also be helpful for looking for patterns in the data that the other methods might miss. Using canned versions of more advanced tools (boosting, bagging, random forests, neural networks, etc.) is unsporting at this point in the class and thus not allowed. You can be creative about transforming variables, or combining decision trees with linear models or $k$NN. Try something interesting. Fail extravagantly. The goal is to work on an intellectually interesting question that is similar to the tasks that data scientists are called on to do every day.\n",
        "  \n",
        "We will compare the groups' models to see if there are common trends or significant differences, and also to declare **The Winners** on the basis of whichever team achieves the highest $R^2$ on the testing data. I am mostly interested in the choices you make about cleaning the data, transforming variables, and building models, not the $R^2$, but it is a useful summary statistic to consider and motivate thoughtful choices. It might be the case that an $R^2$ of .8 is easy to achieve, or it might be the case that it's hard to break .3. Comparative model performance in this assignment is relative, not absolute: \"Is model $A$ better or worse than model $B$?\" rather than \"Is model $A$ good enough to use in a clinical setting?\".\n",
        "  \n",
        "This is supposed to be fairly \"fun,\" so please do not turn it into a combinatorial nightmare of comparing thousands of model specifications. Settle on a strategy you think is promising, crank it out, and write up the results. Your time and energy are valuable, so learn to recognize when the marginal cost of another twenty minutes on a project exceeds the benefit in terms of improving the results and your grade.\n",
        "  \n",
        "## Paper format\n",
        "\n",
        "The format of the paper should be:\n",
        "\n",
        "  - Summary: A one paragraph description of the question, methods, and results (about 350 words).\n",
        "  - Data: One to two pages discussing the data and key variables, and any challenges in reading, cleaning, and preparing them for analysis.\n",
        "  - Results: Two to five pages providing visualizations, statistics, a discussion of your methodology, and a presentation of your main findings.\n",
        "  - Conclusion: One to two pages summarizing the project, defending it from criticism, and suggesting additional work that was outside the scope of the project.\n",
        "  - Appendix: If you have a significant number of additional plots or table that you feel are essential to the project, you can put any amount of extra content at the end and reference it from the body of the paper.\n",
        "\n",
        "## Group Work and Submission\n",
        "\n",
        "Each group will submit their work in a GitHub repo. The repo can be managed by a group member or arranged by github.com/DS3001.\n",
        "\n",
        "Half of each student's grade is based on their commits to the repo. Each student is expected to do something\n",
        "specific that contributes to the overall project outcome. Since commits are recorded explicitly by Git/GitHub,\n",
        "this is observable. A student can contribute by cleaning data, creating visualizations, or writing about results,\n",
        "but everyone has to do something substantial. A student's work doesn't need to make it into the final report\n",
        "to be valuable and substantial, and fulfill the requirement to make a contribution to the project.\n",
        "\n",
        "The other half of each student's grade is based on the report. Groups will work together on combining\n",
        "results and writing up findings in a Jupyter notebook, using code chunks to execute Python commands and\n",
        "markdown chunks to structure the paper and provide exposition. The notebook should run on Colab or\n",
        "Rivana from beginning to end without any errors.*italicized text*"
      ]
    },
    {
      "cell_type": "code",
      "source": [
        "! git clone https://github.com/DS3001/project_chd/"
      ],
      "metadata": {
        "colab": {
          "base_uri": "https://localhost:8080/"
        },
        "id": "pvd9uDYZHha1",
        "outputId": "208376a7-4282-4484-ab8d-7d8b7fdcd1ff"
      },
      "id": "pvd9uDYZHha1",
      "execution_count": 2,
      "outputs": [
        {
          "output_type": "stream",
          "name": "stdout",
          "text": [
            "Cloning into 'project_chd'...\n",
            "remote: Enumerating objects: 13, done.\u001b[K\n",
            "remote: Counting objects: 100% (3/3), done.\u001b[K\n",
            "remote: Compressing objects: 100% (2/2), done.\u001b[K\n",
            "remote: Total 13 (delta 2), reused 1 (delta 1), pack-reused 10\u001b[K\n",
            "Receiving objects: 100% (13/13), 635.39 KiB | 1.89 MiB/s, done.\n",
            "Resolving deltas: 100% (5/5), done.\n"
          ]
        }
      ]
    },
    {
      "cell_type": "code",
      "source": [
        "import numpy as np\n",
        "import pandas as pd\n",
        "import matplotlib.pyplot as plt\n",
        "import seaborn as sns"
      ],
      "metadata": {
        "id": "yH9oUcrnH-RM"
      },
      "id": "yH9oUcrnH-RM",
      "execution_count": 3,
      "outputs": []
    },
    {
      "cell_type": "code",
      "source": [
        "# importing the data set\n",
        "\n",
        "df1 = pd.read_csv('/content/project_chd/fhs_train.csv')\n",
        "df1.shape"
      ],
      "metadata": {
        "colab": {
          "base_uri": "https://localhost:8080/"
        },
        "id": "IOsFFOj-F3xA",
        "outputId": "fc853361-9d8b-4993-ad16-b6b90a81c920"
      },
      "id": "IOsFFOj-F3xA",
      "execution_count": 19,
      "outputs": [
        {
          "output_type": "execute_result",
          "data": {
            "text/plain": [
              "(3180, 17)"
            ]
          },
          "metadata": {},
          "execution_count": 19
        }
      ]
    },
    {
      "cell_type": "code",
      "source": [
        "# cleaning the data\n",
        "### will drop any row with na's since dataset is quite large\n",
        "\n",
        "df2 = df1.dropna()\n",
        "row_nan_count = df2.isna().sum(axis=0)\n",
        "print(row_nan_count)\n"
      ],
      "metadata": {
        "colab": {
          "base_uri": "https://localhost:8080/"
        },
        "id": "9jYS4ZQOK1D7",
        "outputId": "a00ba020-f891-474b-8d92-99d38e4d9031"
      },
      "id": "9jYS4ZQOK1D7",
      "execution_count": 20,
      "outputs": [
        {
          "output_type": "stream",
          "name": "stdout",
          "text": [
            "Unnamed: 0         0\n",
            "sex                0\n",
            "age                0\n",
            "education          0\n",
            "currentSmoker      0\n",
            "cigsPerDay         0\n",
            "BPMeds             0\n",
            "prevalentStroke    0\n",
            "prevalentHyp       0\n",
            "diabetes           0\n",
            "totChol            0\n",
            "sysBP              0\n",
            "diaBP              0\n",
            "BMI                0\n",
            "heartRate          0\n",
            "glucose            0\n",
            "TenYearCHD         0\n",
            "dtype: int64\n"
          ]
        }
      ]
    },
    {
      "cell_type": "code",
      "source": [
        "# scatter plot of the response variable\n",
        "df2['TenYearCHD'].hist(bins = 20)\n",
        "\n",
        "# looking at the spread of the response variable, it appears that there are way more observations for\n",
        "# individuals who did not develop CHD versus those who did.\n",
        "\n",
        "# CHD is a categorical variable (it may be better to do logistic regression)\n",
        "\n",
        "df2.groupby(\"TenYearCHD\").mean()\n",
        "\n",
        "# looking at the averages across the variables for quantitative variables:\n",
        "### total chol seems to have somewhat of a difference (a difference of 14 mg/dL)\n",
        "### cigPerday is only different by 1 cigarette (maybe an outlier to get rid of)\n",
        "### sysBP  has a large difference of 14\n",
        "### diaBP does not have a large difference\n",
        "### BMI, heartRate don't have a lot of differences\n",
        "### glucose has a difference of 8\n",
        "\n",
        "# looking at the averages across quantitative variables\n",
        "### sex, age, education, and smoking status don't seem to have a large difference\n",
        "\n",
        "## Make scatterplots of quantitative variables --> since we will be doing\n",
        "## logistic regression, we want an s-shaped curve\n",
        "\n"
      ],
      "metadata": {
        "colab": {
          "base_uri": "https://localhost:8080/",
          "height": 1000
        },
        "id": "5XC0yUPsdaNL",
        "outputId": "3a824a5c-8530-4e47-8708-582873f705f1"
      },
      "id": "5XC0yUPsdaNL",
      "execution_count": 42,
      "outputs": [
        {
          "output_type": "execute_result",
          "data": {
            "text/plain": [
              "cigsPerDay\n",
              "0.0     1404\n",
              "20.0     475\n",
              "30.0     151\n",
              "15.0     137\n",
              "10.0      95\n",
              "5.0       79\n",
              "9.0       71\n",
              "3.0       59\n",
              "40.0      57\n",
              "1.0       47\n",
              "43.0      36\n",
              "25.0      28\n",
              "6.0       14\n",
              "35.0      14\n",
              "2.0       12\n",
              "7.0        8\n",
              "8.0        8\n",
              "60.0       8\n",
              "18.0       7\n",
              "11.0       5\n",
              "23.0       4\n",
              "17.0       4\n",
              "50.0       4\n",
              "4.0        4\n",
              "16.0       3\n",
              "12.0       2\n",
              "19.0       2\n",
              "70.0       1\n",
              "45.0       1\n",
              "14.0       1\n",
              "29.0       1\n",
              "38.0       1\n",
              "13.0       1\n",
              "Name: count, dtype: int64"
            ]
          },
          "metadata": {},
          "execution_count": 42
        },
        {
          "output_type": "display_data",
          "data": {
            "text/plain": [
              "<Figure size 640x480 with 1 Axes>"
            ],
            "image/png": "[encoded data removed]"
          },
          "metadata": {}
        }
      ]
    },
    {
      "cell_type": "code",
      "source": [
        "## LINEAR REGRESSION MODEL\n",
        "# One-step multilinear regression: # only for quantitative variables\n",
        "def mlr(X,y): # Multiple linear regression, matrix algebra approach\n",
        "    XpX = X.T@X # Compute X'X\n",
        "    Xpy = X.T@y # Compute X'y\n",
        "    b = np.linalg.solve(XpX, Xpy) # Solve normal equations\n",
        "    y_hat = X@b # Compute predictions\n",
        "    residuals = y-y_hat # Compute residuals\n",
        "    SSE =  np.inner(residuals,residuals) # Compute SSE\n",
        "    rsq = 1 - SSE/np.inner( y-np.mean(y),y-np.mean(y)) # Compute Rsq\n",
        "    return({'b':b,'y_hat':y_hat,'residuals':residuals,'rsq':rsq,'SSE':SSE})\n",
        "\n",
        "y = df2[\"TenYearCHD\"]\n",
        "vars= df2.loc[:, [\"prevalentHyp\", \"cigsPerDay\", \"totChol\", \"sysBP\", \"glucose\"]]\n",
        "\n",
        "# transforming the predictor variables -- REASON: because CHD is a categorical variable\n",
        "# that can take values 0 and 1, it might be better to get everything in between that\n",
        "# range so the coefficients makes sense\n",
        "\n",
        "# Sine Transformation - NOT A GOOD MODEL - THE R^2 is -0.03?\n",
        "X_sine = vars\n",
        "\n",
        "X_sine[\"cigsPerDay\"] = np.sin(X_sine[\"cigsPerDay\"])\n",
        "X_sine[\"totChol\"] = np.sin(X_sine[\"totChol\"])\n",
        "X_sine[\"sysBP\"] = np.sin(X_sine[\"sysBP\"])\n",
        "X_sine[\"glucose\"] = np.sin(X_sine[\"glucose\"])\n",
        "\n",
        "reg = mlr(X_sine,y) # Run multiple linear regression\n",
        "print(reg['b']) # Print coefficients\n",
        "reg['residuals'].plot.kde() # Plot residuals\n",
        "print(reg['rsq']) # R-squared measure of model fit"
      ],
      "metadata": {
        "colab": {
          "base_uri": "https://localhost:8080/",
          "height": 464
        },
        "id": "qqYOrZjTrFG_",
        "outputId": "10797036-8ab9-43af-a0e9-0f15b66c35c1"
      },
      "id": "qqYOrZjTrFG_",
      "execution_count": 34,
      "outputs": [
        {
          "output_type": "stream",
          "name": "stdout",
          "text": [
            "[ 0.23994838  0.0290718  -0.0012863   0.01237135  0.00668803]\n",
            "-0.03437610867456953\n"
          ]
        },
        {
          "output_type": "display_data",
          "data": {
            "text/plain": [
              "<Figure size 640x480 with 1 Axes>"
            ],
            "image/png": "[encoded data removed]"
          },
          "metadata": {}
        }
      ]
    },
    {
      "cell_type": "code",
      "source": [
        "from sklearn.metrics import accuracy_score, classification_report, confusion_matrix, roc_curve, auc\n",
        "\n",
        "# Log Transformation - BETTER THAN SINE TRANSFORMATION\n",
        "## LINEAR REGRESSION MODEL\n",
        "# One-step multilinear regression: # only for quantitative variables\n",
        "def mlr(X,y): # Multiple linear regression, matrix algebra approach\n",
        "    XpX = X.T@X # Compute X'X\n",
        "    Xpy = X.T@y # Compute X'y\n",
        "    b = np.linalg.solve(XpX, Xpy) # Solve normal equations\n",
        "    y_hat = X@b # Compute predictions\n",
        "    residuals = y-y_hat # Compute residuals\n",
        "    SSE =  np.inner(residuals,residuals) # Compute SSE\n",
        "    rsq = 1 - SSE/np.inner( y-np.mean(y),y-np.mean(y)) # Compute Rsq\n",
        "    return({'b':b,'y_hat':y_hat,'residuals':residuals,'rsq':rsq,'SSE':SSE})\n",
        "\n",
        "y = df2[\"TenYearCHD\"]\n",
        "vars= df2.loc[:, [\"prevalentHyp\", \"totChol\", \"sysBP\",]]\n",
        "X_log = vars\n",
        "X_log[\"totChol\"] = np.log(X_log[\"totChol\"])\n",
        "X_log[\"sysBP\"] = np.log(X_log[\"sysBP\"])\n",
        "\n",
        "reg = mlr(X_log,y) # Run multiple linear regression\n",
        "print(reg['b']) # Print coefficients\n",
        "reg['residuals'].plot.kde() # Plot residuals\n",
        "print(reg['rsq']) # R-squared measure of model fit\n",
        "\n",
        "y_pred = reg.predict(X)\n",
        "accuracy = accuracy_score(y, y_pred)\n",
        "print(\"Accuracy: {:.2f}%\".format(accuracy * 100))\n",
        "\n",
        "print(\"Confusion Matrix:\\n\", confusion_matrix(y, y_pred))\n",
        "print(\"\\nClassification Report:\\n\", classification_report(y, y_pred))\n"
      ],
      "metadata": {
        "colab": {
          "base_uri": "https://localhost:8080/",
          "height": 654
        },
        "id": "9XmLtIams7sV",
        "outputId": "0da6077a-3dd0-4d79-fcde-ec3a2b009020"
      },
      "id": "9XmLtIams7sV",
      "execution_count": 47,
      "outputs": [
        {
          "output_type": "stream",
          "name": "stdout",
          "text": [
            "[ 0.1218107  -0.00774335  0.03249759]\n",
            "0.030363443751756924\n"
          ]
        },
        {
          "output_type": "error",
          "ename": "AttributeError",
          "evalue": "'dict' object has no attribute 'predict'",
          "traceback": [
            "\u001b[0;31m---------------------------------------------------------------------------\u001b[0m",
            "\u001b[0;31mAttributeError\u001b[0m                            Traceback (most recent call last)",
            "\u001b[0;32m<ipython-input-47-17782af0ddac>\u001b[0m in \u001b[0;36m<cell line: 27>\u001b[0;34m()\u001b[0m\n\u001b[1;32m     25\u001b[0m \u001b[0mprint\u001b[0m\u001b[0;34m(\u001b[0m\u001b[0mreg\u001b[0m\u001b[0;34m[\u001b[0m\u001b[0;34m'rsq'\u001b[0m\u001b[0;34m]\u001b[0m\u001b[0;34m)\u001b[0m \u001b[0;31m# R-squared measure of model fit\u001b[0m\u001b[0;34m\u001b[0m\u001b[0;34m\u001b[0m\u001b[0m\n\u001b[1;32m     26\u001b[0m \u001b[0;34m\u001b[0m\u001b[0m\n\u001b[0;32m---> 27\u001b[0;31m \u001b[0my_pred\u001b[0m \u001b[0;34m=\u001b[0m \u001b[0mreg\u001b[0m\u001b[0;34m.\u001b[0m\u001b[0mpredict\u001b[0m\u001b[0;34m(\u001b[0m\u001b[0mX\u001b[0m\u001b[0;34m)\u001b[0m\u001b[0;34m\u001b[0m\u001b[0;34m\u001b[0m\u001b[0m\n\u001b[0m\u001b[1;32m     28\u001b[0m \u001b[0maccuracy\u001b[0m \u001b[0;34m=\u001b[0m \u001b[0maccuracy_score\u001b[0m\u001b[0;34m(\u001b[0m\u001b[0my\u001b[0m\u001b[0;34m,\u001b[0m \u001b[0my_pred\u001b[0m\u001b[0;34m)\u001b[0m\u001b[0;34m\u001b[0m\u001b[0;34m\u001b[0m\u001b[0m\n\u001b[1;32m     29\u001b[0m \u001b[0mprint\u001b[0m\u001b[0;34m(\u001b[0m\u001b[0;34m\"Accuracy: {:.2f}%\"\u001b[0m\u001b[0;34m.\u001b[0m\u001b[0mformat\u001b[0m\u001b[0;34m(\u001b[0m\u001b[0maccuracy\u001b[0m \u001b[0;34m*\u001b[0m \u001b[0;36m100\u001b[0m\u001b[0;34m)\u001b[0m\u001b[0;34m)\u001b[0m\u001b[0;34m\u001b[0m\u001b[0;34m\u001b[0m\u001b[0m\n",
            "\u001b[0;31mAttributeError\u001b[0m: 'dict' object has no attribute 'predict'"
          ]
        },
        {
          "output_type": "display_data",
          "data": {
            "text/plain": [
              "<Figure size 640x480 with 1 Axes>"
            ],
            "image/png": "[encoded data removed]"
          },
          "metadata": {}
        }
      ]
    },
    {
      "cell_type": "code",
      "source": [
        "## LOGISTIC REGRESSION MODEL\n",
        "\n",
        "# One-step multilinear regression: # only for quantitative variables\n",
        "def mlr(X,y): # Multiple linear regression, matrix algebra approach\n",
        "    XpX = X.T@X # Compute X'X\n",
        "    Xpy = X.T@y # Compute X'y\n",
        "    b = np.linalg.solve(XpX, Xpy) # Solve normal equations\n",
        "    y_hat = X@b # Compute predictions\n",
        "    residuals = y-y_hat # Compute residuals\n",
        "    SSE =  np.inner(residuals,residuals) # Compute SSE\n",
        "    rsq = 1 - SSE/np.inner( y-np.mean(y),y-np.mean(y)) # Compute Rsq\n",
        "    return({'b':b,'y_hat':y_hat,'residuals':residuals,'rsq':rsq,'SSE':SSE})\n",
        "\n",
        "X = df2.loc[:,['totChol','sysBP', 'glucose'] ]\n",
        "y = df2['TenYearCHD']\n",
        "reg = mlr(X,y)\n",
        "#print('MLR coefficients: ', reg['b']) # Same values!\n",
        "\n",
        "from sklearn.linear_model import LinearRegression # Import linear regression model\n",
        "\n",
        "## Dummy variables:\n",
        "X2 = pd.get_dummies(df2['prevalentHyp'], dtype=float) # Create dummies\n",
        "y_train = pd.get_dummies(df2['TenYearCHD'], dtype=float)\n",
        "## Concatenate:\n",
        "X = pd.concat([X,X2],axis=1) # Concatenate engineered features\n",
        "X.head()\n",
        "\n",
        "from sklearn.preprocessing import StandardScaler\n",
        "from sklearn.linear_model import LogisticRegression\n",
        "from sklearn.metrics import accuracy_score, classification_report, confusion_matrix, roc_curve, auc\n",
        "\n",
        "X.columns = X.columns.astype(str)\n",
        "model = LogisticRegression()\n",
        "model.fit(X, y)\n",
        "\n",
        "\n",
        "# Evaluate the model\n",
        "y_pred = model.predict(X)\n",
        "accuracy = accuracy_score(y, y_pred)\n",
        "print(\"Accuracy: {:.2f}%\".format(accuracy * 100))\n",
        "\n",
        "print(\"Confusion Matrix:\\n\", confusion_matrix(y, y_pred))\n",
        "print(\"\\nClassification Report:\\n\", classification_report(y, y_pred))"
      ],
      "metadata": {
        "colab": {
          "base_uri": "https://localhost:8080/"
        },
        "id": "dAkLA6p5YWgz",
        "outputId": "4b3aabd0-0b99-4fc4-d113-48693453dfef"
      },
      "id": "dAkLA6p5YWgz",
      "execution_count": 30,
      "outputs": [
        {
          "output_type": "stream",
          "name": "stdout",
          "text": [
            "Accuracy: 84.77%\n",
            "Confusion Matrix:\n",
            " [[2311    9]\n",
            " [ 409   15]]\n",
            "\n",
            "Classification Report:\n",
            "               precision    recall  f1-score   support\n",
            "\n",
            "           0       0.85      1.00      0.92      2320\n",
            "           1       0.62      0.04      0.07       424\n",
            "\n",
            "    accuracy                           0.85      2744\n",
            "   macro avg       0.74      0.52      0.49      2744\n",
            "weighted avg       0.81      0.85      0.79      2744\n",
            "\n"
          ]
        },
        {
          "output_type": "stream",
          "name": "stderr",
          "text": [
            "/usr/local/lib/python3.10/dist-packages/sklearn/linear_model/_logistic.py:458: ConvergenceWarning: lbfgs failed to converge (status=1):\n",
            "STOP: TOTAL NO. of ITERATIONS REACHED LIMIT.\n",
            "\n",
            "Increase the number of iterations (max_iter) or scale the data as shown in:\n",
            "    https://scikit-learn.org/stable/modules/preprocessing.html\n",
            "Please also refer to the documentation for alternative solver options:\n",
            "    https://scikit-learn.org/stable/modules/linear_model.html#logistic-regression\n",
            "  n_iter_i = _check_optimize_result(\n"
          ]
        }
      ]
    }
  ],
  "metadata": {
    "kernelspec": {
      "display_name": "Python 3 (ipykernel)",
      "language": "python",
      "name": "python3"
    },
    "language_info": {
      "codemirror_mode": {
        "name": "ipython",
        "version": 3
      },
      "file_extension": ".py",
      "mimetype": "text/x-python",
      "name": "python",
      "nbconvert_exporter": "python",
      "pygments_lexer": "ipython3",
      "version": "3.10.4"
    },
    "colab": {
      "provenance": [],
      "include_colab_link": true
    }
  },
  "nbformat": 4,
  "nbformat_minor": 5
}