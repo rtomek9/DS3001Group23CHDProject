{
  "cells": [
    {
      "cell_type": "markdown",
      "metadata": {
        "id": "view-in-github",
        "colab_type": "text"
      },
      "source": [
        "<a href=\"https://colab.research.google.com/github/rtomek9/DS3001Group23CHDProject/blob/main/cleaned_variables.ipynb\" target=\"_parent\"><img src=\"https://colab.research.google.com/assets/colab-badge.svg\" alt=\"Open In Colab\"/></a>"
      ]
    },
    {
      "cell_type": "code",
      "source": [
        "! git clone https://github.com/DS3001/project_chd/\n"
      ],
      "metadata": {
        "id": "VG9KfQVTC_uz",
        "outputId": "4b786ebd-bbc5-403b-8f86-03833daf3031",
        "colab": {
          "base_uri": "https://localhost:8080/"
        }
      },
      "id": "VG9KfQVTC_uz",
      "execution_count": 5,
      "outputs": [
        {
          "output_type": "stream",
          "name": "stdout",
          "text": [
            "fatal: destination path 'project_chd' already exists and is not an empty directory.\n"
          ]
        }
      ]
    },
    {
      "cell_type": "markdown",
      "id": "b1bace51-d646-4ab1-abdf-4e2e65a091c8",
      "metadata": {
        "id": "b1bace51-d646-4ab1-abdf-4e2e65a091c8"
      },
      "source": [
        "# Project #2\n",
        "## Foundations of Machine Learning\n",
        "\n",
        "The purpose of this project is to build predictive algorithms that predict the likelihood a person develops coronary heart disease (CHD). This is a subset of the data available for the Framingham Heart Study, a longitudinal data set following a sample of patients from Framingham, MA., that began in 1948 and is now on its third generation of participants.\n",
        "\n",
        "The data include:\n",
        "  \n",
        "- `sex` : the recorded sex of the observationsm with 1 denoting an participant coded as male\n",
        "- `age` : Age at the time of medical examination in years.\n",
        "- `education`: A categorical variable of the participants education, with the levels: Some high school (1), high school/GED (2), some college/vocational school (3), college (4)\n",
        "- `currentSmoker`: Current cigarette smoking at the time of examinations\n",
        "- `cigsPerDay`: Number of cigarettes smoked each day\n",
        "- `BPmeds`: Use of Anti-hypertensive medication at exam\n",
        "- `prevalentStroke`: Prevalent Stroke (0 = free of disease)\n",
        "- `prevalentHyp`: Prevalent Hypertensive. Subject was defined as hypertensive if treated\n",
        "- `diabetes`: Diabetic according to criteria of first exam treated\n",
        "- `totChol`: Total cholesterol (mg/dL)\n",
        "- `sysBP`: Systolic Blood Pressure (mmHg)\n",
        "- `diaBP`: Diastolic blood pressure (mmHg)\n",
        "- `BMI`: Body Mass Index, weight (kg)/height (m)^2\n",
        "- `heartRate`: Heart rate (beats/minute)\n",
        "- `glucose`: Blood glucose level (mg/dL)\n",
        "- `TenYearCHD` : The 10 year risk of coronary heart disease(CHD)\n",
        "\n",
        "The data come in two files: `training_data.csv`, which you should use to build your models, and `testing_data.csv`, which you should use to test your models. The models must be trained on the training data and tested on the testing data, but providing both files allows you to experiment with your choices and iterate on model designs (e.g. if performance drops on the testing data, you know you're likely over-fitting).\n",
        "  \n",
        "You can use any of the tools presented in class: $k$ nearest neighbor, linear models, or decision trees. In principle, $k$ means clustering might also be helpful for looking for patterns in the data that the other methods might miss. Using canned versions of more advanced tools (boosting, bagging, random forests, neural networks, etc.) is unsporting at this point in the class and thus not allowed. You can be creative about transforming variables, or combining decision trees with linear models or $k$NN. Try something interesting. Fail extravagantly. The goal is to work on an intellectually interesting question that is similar to the tasks that data scientists are called on to do every day.\n",
        "  \n",
        "We will compare the groups' models to see if there are common trends or significant differences, and also to declare **The Winners** on the basis of whichever team achieves the highest $R^2$ on the testing data. I am mostly interested in the choices you make about cleaning the data, transforming variables, and building models, not the $R^2$, but it is a useful summary statistic to consider and motivate thoughtful choices. It might be the case that an $R^2$ of .8 is easy to achieve, or it might be the case that it's hard to break .3. Comparative model performance in this assignment is relative, not absolute: \"Is model $A$ better or worse than model $B$?\" rather than \"Is model $A$ good enough to use in a clinical setting?\".\n",
        "  \n",
        "This is supposed to be fairly \"fun,\" so please do not turn it into a combinatorial nightmare of comparing thousands of model specifications. Settle on a strategy you think is promising, crank it out, and write up the results. Your time and energy are valuable, so learn to recognize when the marginal cost of another twenty minutes on a project exceeds the benefit in terms of improving the results and your grade.\n",
        "  \n",
        "## Paper format\n",
        "\n",
        "The format of the paper should be:\n",
        "\n",
        "  - Summary: A one paragraph description of the question, methods, and results (about 350 words).\n",
        "  - Data: One to two pages discussing the data and key variables, and any challenges in reading, cleaning, and preparing them for analysis.\n",
        "  - Results: Two to five pages providing visualizations, statistics, a discussion of your methodology, and a presentation of your main findings.\n",
        "  - Conclusion: One to two pages summarizing the project, defending it from criticism, and suggesting additional work that was outside the scope of the project.\n",
        "  - Appendix: If you have a significant number of additional plots or table that you feel are essential to the project, you can put any amount of extra content at the end and reference it from the body of the paper.\n",
        "\n",
        "## Group Work and Submission\n",
        "\n",
        "Each group will submit their work in a GitHub repo. The repo can be managed by a group member or arranged by github.com/DS3001.\n",
        "\n",
        "Half of each student's grade is based on their commits to the repo. Each student is expected to do something\n",
        "specific that contributes to the overall project outcome. Since commits are recorded explicitly by Git/GitHub,\n",
        "this is observable. A student can contribute by cleaning data, creating visualizations, or writing about results,\n",
        "but everyone has to do something substantial. A student's work doesn't need to make it into the final report\n",
        "to be valuable and substantial, and fulfill the requirement to make a contribution to the project.\n",
        "\n",
        "The other half of each student's grade is based on the report. Groups will work together on combining\n",
        "results and writing up findings in a Jupyter notebook, using code chunks to execute Python commands and\n",
        "markdown chunks to structure the paper and provide exposition. The notebook should run on Colab or\n",
        "Rivana from beginning to end without any errors.\n",
        "\n",
        "## Report\n",
        "\n",
        "The project is graded based on four criteria:\n",
        "\n",
        "- Project Concept: What is the strategy for building and testing the group's models? How did the group decide how to use the tools presented so far in class? How did the group compare the performance of the options considered, and settle on a final choice for submission?\n",
        "- Wrangling, EDA, and Visualization: How are are missing values handled? For variables with large numbers of missing values, to what extent do the data and documentation provide an explanation for the missing data? If multiple data sources are used, how are the data merged? For the main variables in the analysis, are the relevant data summarized and visualized through a histogram or kernel density plot where appropriate? Are basic quantitative features of the data addressed and explained? How are outliers characterized and addressed?\n",
        "- Analysis: What are the groups' main findings? Do the tables, plots, and statistics support the conclusions? Is the research strategy carried out correctly? If the research strategy succeeds, are the results interpreted correctly and appropriately? If the research strategy fails, is a useful discussion of the flaws of the data collection process or the research strategy discussed?\n",
        "- Replication/Documentation: Is the code appropriately commented? Can the main results be replicated from the code and original data files? Are significant choices noted and explained?\n",
        "\n",
        "Each of the four criteria are equally weighted."
      ]
    },
    {
      "cell_type": "code",
      "source": [
        "import pandas as pd\n",
        "df = pd.read_csv('/content/project_chd/fhs_train.csv')\n"
      ],
      "metadata": {
        "id": "kXXHrz0iDYHH"
      },
      "id": "kXXHrz0iDYHH",
      "execution_count": 6,
      "outputs": []
    },
    {
      "cell_type": "code",
      "source": [
        "df.head()"
      ],
      "metadata": {
        "id": "u7gYhNs9DfI1",
        "outputId": "7375400d-532f-48f0-a839-58b33291b21e",
        "colab": {
          "base_uri": "https://localhost:8080/",
          "height": 241
        }
      },
      "id": "u7gYhNs9DfI1",
      "execution_count": 7,
      "outputs": [
        {
          "output_type": "execute_result",
          "data": {
            "text/plain": [
              "   Unnamed: 0  sex  age  education  currentSmoker  cigsPerDay  BPMeds  \\\n",
              "0        1267    1   58        1.0              0         0.0     0.0   \n",
              "1        1209    0   40        1.0              1        15.0     0.0   \n",
              "2        2050    0   52        1.0              0         0.0     0.0   \n",
              "3        1183    1   38        2.0              1        43.0     0.0   \n",
              "4        3225    0   43        1.0              0         0.0     0.0   \n",
              "\n",
              "   prevalentStroke  prevalentHyp  diabetes  totChol  sysBP  diaBP    BMI  \\\n",
              "0                0             0         0    220.0  143.0  104.0  29.85   \n",
              "1                0             0         0    199.0  122.0   82.0  22.16   \n",
              "2                0             0         0    275.0  112.0   71.0  25.68   \n",
              "3                0             1         0    170.0  130.0   94.0  23.90   \n",
              "4                0             0         0    202.0  124.0   92.0  21.26   \n",
              "\n",
              "   heartRate  glucose  TenYearCHD  \n",
              "0         75     87.0           1  \n",
              "1         85     77.0           0  \n",
              "2         80      NaN           0  \n",
              "3        110     75.0           0  \n",
              "4         75     74.0           0  "
            ],
            "text/html": [
              "\n",
              "  <div id=\"df-fd5652b2-fa04-4c15-a050-3598b044a5ec\" class=\"colab-df-container\">\n",
              "    <div>\n",
              "<style scoped>\n",
              "    .dataframe tbody tr th:only-of-type {\n",
              "        vertical-align: middle;\n",
              "    }\n",
              "\n",
              "    .dataframe tbody tr th {\n",
              "        vertical-align: top;\n",
              "    }\n",
              "\n",
              "    .dataframe thead th {\n",
              "        text-align: right;\n",
              "    }\n",
              "</style>\n",
              "<table border=\"1\" class=\"dataframe\">\n",
              "  <thead>\n",
              "    <tr style=\"text-align: right;\">\n",
              "      <th></th>\n",
              "      <th>Unnamed: 0</th>\n",
              "      <th>sex</th>\n",
              "      <th>age</th>\n",
              "      <th>education</th>\n",
              "      <th>currentSmoker</th>\n",
              "      <th>cigsPerDay</th>\n",
              "      <th>BPMeds</th>\n",
              "      <th>prevalentStroke</th>\n",
              "      <th>prevalentHyp</th>\n",
              "      <th>diabetes</th>\n",
              "      <th>totChol</th>\n",
              "      <th>sysBP</th>\n",
              "      <th>diaBP</th>\n",
              "      <th>BMI</th>\n",
              "      <th>heartRate</th>\n",
              "      <th>glucose</th>\n",
              "      <th>TenYearCHD</th>\n",
              "    </tr>\n",
              "  </thead>\n",
              "  <tbody>\n",
              "    <tr>\n",
              "      <th>0</th>\n",
              "      <td>1267</td>\n",
              "      <td>1</td>\n",
              "      <td>58</td>\n",
              "      <td>1.0</td>\n",
              "      <td>0</td>\n",
              "      <td>0.0</td>\n",
              "      <td>0.0</td>\n",
              "      <td>0</td>\n",
              "      <td>0</td>\n",
              "      <td>0</td>\n",
              "      <td>220.0</td>\n",
              "      <td>143.0</td>\n",
              "      <td>104.0</td>\n",
              "      <td>29.85</td>\n",
              "      <td>75</td>\n",
              "      <td>87.0</td>\n",
              "      <td>1</td>\n",
              "    </tr>\n",
              "    <tr>\n",
              "      <th>1</th>\n",
              "      <td>1209</td>\n",
              "      <td>0</td>\n",
              "      <td>40</td>\n",
              "      <td>1.0</td>\n",
              "      <td>1</td>\n",
              "      <td>15.0</td>\n",
              "      <td>0.0</td>\n",
              "      <td>0</td>\n",
              "      <td>0</td>\n",
              "      <td>0</td>\n",
              "      <td>199.0</td>\n",
              "      <td>122.0</td>\n",
              "      <td>82.0</td>\n",
              "      <td>22.16</td>\n",
              "      <td>85</td>\n",
              "      <td>77.0</td>\n",
              "      <td>0</td>\n",
              "    </tr>\n",
              "    <tr>\n",
              "      <th>2</th>\n",
              "      <td>2050</td>\n",
              "      <td>0</td>\n",
              "      <td>52</td>\n",
              "      <td>1.0</td>\n",
              "      <td>0</td>\n",
              "      <td>0.0</td>\n",
              "      <td>0.0</td>\n",
              "      <td>0</td>\n",
              "      <td>0</td>\n",
              "      <td>0</td>\n",
              "      <td>275.0</td>\n",
              "      <td>112.0</td>\n",
              "      <td>71.0</td>\n",
              "      <td>25.68</td>\n",
              "      <td>80</td>\n",
              "      <td>NaN</td>\n",
              "      <td>0</td>\n",
              "    </tr>\n",
              "    <tr>\n",
              "      <th>3</th>\n",
              "      <td>1183</td>\n",
              "      <td>1</td>\n",
              "      <td>38</td>\n",
              "      <td>2.0</td>\n",
              "      <td>1</td>\n",
              "      <td>43.0</td>\n",
              "      <td>0.0</td>\n",
              "      <td>0</td>\n",
              "      <td>1</td>\n",
              "      <td>0</td>\n",
              "      <td>170.0</td>\n",
              "      <td>130.0</td>\n",
              "      <td>94.0</td>\n",
              "      <td>23.90</td>\n",
              "      <td>110</td>\n",
              "      <td>75.0</td>\n",
              "      <td>0</td>\n",
              "    </tr>\n",
              "    <tr>\n",
              "      <th>4</th>\n",
              "      <td>3225</td>\n",
              "      <td>0</td>\n",
              "      <td>43</td>\n",
              "      <td>1.0</td>\n",
              "      <td>0</td>\n",
              "      <td>0.0</td>\n",
              "      <td>0.0</td>\n",
              "      <td>0</td>\n",
              "      <td>0</td>\n",
              "      <td>0</td>\n",
              "      <td>202.0</td>\n",
              "      <td>124.0</td>\n",
              "      <td>92.0</td>\n",
              "      <td>21.26</td>\n",
              "      <td>75</td>\n",
              "      <td>74.0</td>\n",
              "      <td>0</td>\n",
              "    </tr>\n",
              "  </tbody>\n",
              "</table>\n",
              "</div>\n",
              "    <div class=\"colab-df-buttons\">\n",
              "\n",
              "  <div class=\"colab-df-container\">\n",
              "    <button class=\"colab-df-convert\" onclick=\"convertToInteractive('df-fd5652b2-fa04-4c15-a050-3598b044a5ec')\"\n",
              "            title=\"Convert this dataframe to an interactive table.\"\n",
              "            style=\"display:none;\">\n",
              "\n",
              "  <svg xmlns=\"http://www.w3.org/2000/svg\" height=\"24px\" viewBox=\"0 -960 960 960\">\n",
              "    <path d=\"M120-120v-720h720v720H120Zm60-500h600v-160H180v160Zm220 220h160v-160H400v160Zm0 220h160v-160H400v160ZM180-400h160v-160H180v160Zm440 0h160v-160H620v160ZM180-180h160v-160H180v160Zm440 0h160v-160H620v160Z\"/>\n",
              "  </svg>\n",
              "    </button>\n",
              "\n",
              "  <style>\n",
              "    .colab-df-container {\n",
              "      display:flex;\n",
              "      gap: 12px;\n",
              "    }\n",
              "\n",
              "    .colab-df-convert {\n",
              "      background-color: #E8F0FE;\n",
              "      border: none;\n",
              "      border-radius: 50%;\n",
              "      cursor: pointer;\n",
              "      display: none;\n",
              "      fill: #1967D2;\n",
              "      height: 32px;\n",
              "      padding: 0 0 0 0;\n",
              "      width: 32px;\n",
              "    }\n",
              "\n",
              "    .colab-df-convert:hover {\n",
              "      background-color: #E2EBFA;\n",
              "      box-shadow: 0px 1px 2px rgba(60, 64, 67, 0.3), 0px 1px 3px 1px rgba(60, 64, 67, 0.15);\n",
              "      fill: #174EA6;\n",
              "    }\n",
              "\n",
              "    .colab-df-buttons div {\n",
              "      margin-bottom: 4px;\n",
              "    }\n",
              "\n",
              "    [theme=dark] .colab-df-convert {\n",
              "      background-color: #3B4455;\n",
              "      fill: #D2E3FC;\n",
              "    }\n",
              "\n",
              "    [theme=dark] .colab-df-convert:hover {\n",
              "      background-color: #434B5C;\n",
              "      box-shadow: 0px 1px 3px 1px rgba(0, 0, 0, 0.15);\n",
              "      filter: drop-shadow(0px 1px 2px rgba(0, 0, 0, 0.3));\n",
              "      fill: #FFFFFF;\n",
              "    }\n",
              "  </style>\n",
              "\n",
              "    <script>\n",
              "      const buttonEl =\n",
              "        document.querySelector('#df-fd5652b2-fa04-4c15-a050-3598b044a5ec button.colab-df-convert');\n",
              "      buttonEl.style.display =\n",
              "        google.colab.kernel.accessAllowed ? 'block' : 'none';\n",
              "\n",
              "      async function convertToInteractive(key) {\n",
              "        const element = document.querySelector('#df-fd5652b2-fa04-4c15-a050-3598b044a5ec');\n",
              "        const dataTable =\n",
              "          await google.colab.kernel.invokeFunction('convertToInteractive',\n",
              "                                                    [key], {});\n",
              "        if (!dataTable) return;\n",
              "\n",
              "        const docLinkHtml = 'Like what you see? Visit the ' +\n",
              "          '<a target=\"_blank\" href=https://colab.research.google.com/notebooks/data_table.ipynb>data table notebook</a>'\n",
              "          + ' to learn more about interactive tables.';\n",
              "        element.innerHTML = '';\n",
              "        dataTable['output_type'] = 'display_data';\n",
              "        await google.colab.output.renderOutput(dataTable, element);\n",
              "        const docLink = document.createElement('div');\n",
              "        docLink.innerHTML = docLinkHtml;\n",
              "        element.appendChild(docLink);\n",
              "      }\n",
              "    </script>\n",
              "  </div>\n",
              "\n",
              "\n",
              "<div id=\"df-a90fbd14-e58a-4192-9d55-ae0a4939b051\">\n",
              "  <button class=\"colab-df-quickchart\" onclick=\"quickchart('df-a90fbd14-e58a-4192-9d55-ae0a4939b051')\"\n",
              "            title=\"Suggest charts\"\n",
              "            style=\"display:none;\">\n",
              "\n",
              "<svg xmlns=\"http://www.w3.org/2000/svg\" height=\"24px\"viewBox=\"0 0 24 24\"\n",
              "     width=\"24px\">\n",
              "    <g>\n",
              "        <path d=\"M19 3H5c-1.1 0-2 .9-2 2v14c0 1.1.9 2 2 2h14c1.1 0 2-.9 2-2V5c0-1.1-.9-2-2-2zM9 17H7v-7h2v7zm4 0h-2V7h2v10zm4 0h-2v-4h2v4z\"/>\n",
              "    </g>\n",
              "</svg>\n",
              "  </button>\n",
              "\n",
              "<style>\n",
              "  .colab-df-quickchart {\n",
              "      --bg-color: #E8F0FE;\n",
              "      --fill-color: #1967D2;\n",
              "      --hover-bg-color: #E2EBFA;\n",
              "      --hover-fill-color: #174EA6;\n",
              "      --disabled-fill-color: #AAA;\n",
              "      --disabled-bg-color: #DDD;\n",
              "  }\n",
              "\n",
              "  [theme=dark] .colab-df-quickchart {\n",
              "      --bg-color: #3B4455;\n",
              "      --fill-color: #D2E3FC;\n",
              "      --hover-bg-color: #434B5C;\n",
              "      --hover-fill-color: #FFFFFF;\n",
              "      --disabled-bg-color: #3B4455;\n",
              "      --disabled-fill-color: #666;\n",
              "  }\n",
              "\n",
              "  .colab-df-quickchart {\n",
              "    background-color: var(--bg-color);\n",
              "    border: none;\n",
              "    border-radius: 50%;\n",
              "    cursor: pointer;\n",
              "    display: none;\n",
              "    fill: var(--fill-color);\n",
              "    height: 32px;\n",
              "    padding: 0;\n",
              "    width: 32px;\n",
              "  }\n",
              "\n",
              "  .colab-df-quickchart:hover {\n",
              "    background-color: var(--hover-bg-color);\n",
              "    box-shadow: 0 1px 2px rgba(60, 64, 67, 0.3), 0 1px 3px 1px rgba(60, 64, 67, 0.15);\n",
              "    fill: var(--button-hover-fill-color);\n",
              "  }\n",
              "\n",
              "  .colab-df-quickchart-complete:disabled,\n",
              "  .colab-df-quickchart-complete:disabled:hover {\n",
              "    background-color: var(--disabled-bg-color);\n",
              "    fill: var(--disabled-fill-color);\n",
              "    box-shadow: none;\n",
              "  }\n",
              "\n",
              "  .colab-df-spinner {\n",
              "    border: 2px solid var(--fill-color);\n",
              "    border-color: transparent;\n",
              "    border-bottom-color: var(--fill-color);\n",
              "    animation:\n",
              "      spin 1s steps(1) infinite;\n",
              "  }\n",
              "\n",
              "  @keyframes spin {\n",
              "    0% {\n",
              "      border-color: transparent;\n",
              "      border-bottom-color: var(--fill-color);\n",
              "      border-left-color: var(--fill-color);\n",
              "    }\n",
              "    20% {\n",
              "      border-color: transparent;\n",
              "      border-left-color: var(--fill-color);\n",
              "      border-top-color: var(--fill-color);\n",
              "    }\n",
              "    30% {\n",
              "      border-color: transparent;\n",
              "      border-left-color: var(--fill-color);\n",
              "      border-top-color: var(--fill-color);\n",
              "      border-right-color: var(--fill-color);\n",
              "    }\n",
              "    40% {\n",
              "      border-color: transparent;\n",
              "      border-right-color: var(--fill-color);\n",
              "      border-top-color: var(--fill-color);\n",
              "    }\n",
              "    60% {\n",
              "      border-color: transparent;\n",
              "      border-right-color: var(--fill-color);\n",
              "    }\n",
              "    80% {\n",
              "      border-color: transparent;\n",
              "      border-right-color: var(--fill-color);\n",
              "      border-bottom-color: var(--fill-color);\n",
              "    }\n",
              "    90% {\n",
              "      border-color: transparent;\n",
              "      border-bottom-color: var(--fill-color);\n",
              "    }\n",
              "  }\n",
              "</style>\n",
              "\n",
              "  <script>\n",
              "    async function quickchart(key) {\n",
              "      const quickchartButtonEl =\n",
              "        document.querySelector('#' + key + ' button');\n",
              "      quickchartButtonEl.disabled = true;  // To prevent multiple clicks.\n",
              "      quickchartButtonEl.classList.add('colab-df-spinner');\n",
              "      try {\n",
              "        const charts = await google.colab.kernel.invokeFunction(\n",
              "            'suggestCharts', [key], {});\n",
              "      } catch (error) {\n",
              "        console.error('Error during call to suggestCharts:', error);\n",
              "      }\n",
              "      quickchartButtonEl.classList.remove('colab-df-spinner');\n",
              "      quickchartButtonEl.classList.add('colab-df-quickchart-complete');\n",
              "    }\n",
              "    (() => {\n",
              "      let quickchartButtonEl =\n",
              "        document.querySelector('#df-a90fbd14-e58a-4192-9d55-ae0a4939b051 button');\n",
              "      quickchartButtonEl.style.display =\n",
              "        google.colab.kernel.accessAllowed ? 'block' : 'none';\n",
              "    })();\n",
              "  </script>\n",
              "</div>\n",
              "\n",
              "    </div>\n",
              "  </div>\n"
            ],
            "application/vnd.google.colaboratory.intrinsic+json": {
              "type": "dataframe",
              "variable_name": "df",
              "summary": "{\n  \"name\": \"df\",\n  \"rows\": 3180,\n  \"fields\": [\n    {\n      \"column\": \"Unnamed: 0\",\n      \"properties\": {\n        \"dtype\": \"number\",\n        \"std\": 1231,\n        \"min\": 1,\n        \"max\": 4240,\n        \"num_unique_values\": 3180,\n        \"samples\": [\n          3896,\n          2879,\n          3270\n        ],\n        \"semantic_type\": \"\",\n        \"description\": \"\"\n      }\n    },\n    {\n      \"column\": \"sex\",\n      \"properties\": {\n        \"dtype\": \"number\",\n        \"std\": 0,\n        \"min\": 0,\n        \"max\": 1,\n        \"num_unique_values\": 2,\n        \"samples\": [\n          0,\n          1\n        ],\n        \"semantic_type\": \"\",\n        \"description\": \"\"\n      }\n    },\n    {\n      \"column\": \"age\",\n      \"properties\": {\n        \"dtype\": \"number\",\n        \"std\": 8,\n        \"min\": 32,\n        \"max\": 70,\n        \"num_unique_values\": 39,\n        \"samples\": [\n          67,\n          32\n        ],\n        \"semantic_type\": \"\",\n        \"description\": \"\"\n      }\n    },\n    {\n      \"column\": \"education\",\n      \"properties\": {\n        \"dtype\": \"number\",\n        \"std\": 1.011134624909823,\n        \"min\": 1.0,\n        \"max\": 4.0,\n        \"num_unique_values\": 4,\n        \"samples\": [\n          2.0,\n          3.0\n        ],\n        \"semantic_type\": \"\",\n        \"description\": \"\"\n      }\n    },\n    {\n      \"column\": \"currentSmoker\",\n      \"properties\": {\n        \"dtype\": \"number\",\n        \"std\": 0,\n        \"min\": 0,\n        \"max\": 1,\n        \"num_unique_values\": 2,\n        \"samples\": [\n          1,\n          0\n        ],\n        \"semantic_type\": \"\",\n        \"description\": \"\"\n      }\n    },\n    {\n      \"column\": \"cigsPerDay\",\n      \"properties\": {\n        \"dtype\": \"number\",\n        \"std\": 12.013704001555473,\n        \"min\": 0.0,\n        \"max\": 70.0,\n        \"num_unique_values\": 33,\n        \"samples\": [\n          38.0,\n          8.0\n        ],\n        \"semantic_type\": \"\",\n        \"description\": \"\"\n      }\n    },\n    {\n      \"column\": \"BPMeds\",\n      \"properties\": {\n        \"dtype\": \"number\",\n        \"std\": 0.16947908596200822,\n        \"min\": 0.0,\n        \"max\": 1.0,\n        \"num_unique_values\": 2,\n        \"samples\": [\n          1.0,\n          0.0\n        ],\n        \"semantic_type\": \"\",\n        \"description\": \"\"\n      }\n    },\n    {\n      \"column\": \"prevalentStroke\",\n      \"properties\": {\n        \"dtype\": \"number\",\n        \"std\": 0,\n        \"min\": 0,\n        \"max\": 1,\n        \"num_unique_values\": 2,\n        \"samples\": [\n          1,\n          0\n        ],\n        \"semantic_type\": \"\",\n        \"description\": \"\"\n      }\n    },\n    {\n      \"column\": \"prevalentHyp\",\n      \"properties\": {\n        \"dtype\": \"number\",\n        \"std\": 0,\n        \"min\": 0,\n        \"max\": 1,\n        \"num_unique_values\": 2,\n        \"samples\": [\n          1,\n          0\n        ],\n        \"semantic_type\": \"\",\n        \"description\": \"\"\n      }\n    },\n    {\n      \"column\": \"diabetes\",\n      \"properties\": {\n        \"dtype\": \"number\",\n        \"std\": 0,\n        \"min\": 0,\n        \"max\": 1,\n        \"num_unique_values\": 2,\n        \"samples\": [\n          1,\n          0\n        ],\n        \"semantic_type\": \"\",\n        \"description\": \"\"\n      }\n    },\n    {\n      \"column\": \"totChol\",\n      \"properties\": {\n        \"dtype\": \"number\",\n        \"std\": 44.847410643806406,\n        \"min\": 107.0,\n        \"max\": 696.0,\n        \"num_unique_values\": 243,\n        \"samples\": [\n          180.0,\n          237.0\n        ],\n        \"semantic_type\": \"\",\n        \"description\": \"\"\n      }\n    },\n    {\n      \"column\": \"sysBP\",\n      \"properties\": {\n        \"dtype\": \"number\",\n        \"std\": 22.433266948078337,\n        \"min\": 83.5,\n        \"max\": 295.0,\n        \"num_unique_values\": 229,\n        \"samples\": [\n          181.5,\n          174.0\n        ],\n        \"semantic_type\": \"\",\n        \"description\": \"\"\n      }\n    },\n    {\n      \"column\": \"diaBP\",\n      \"properties\": {\n        \"dtype\": \"number\",\n        \"std\": 12.009212492738772,\n        \"min\": 50.0,\n        \"max\": 142.5,\n        \"num_unique_values\": 139,\n        \"samples\": [\n          142.5,\n          70.5\n        ],\n        \"semantic_type\": \"\",\n        \"description\": \"\"\n      }\n    },\n    {\n      \"column\": \"BMI\",\n      \"properties\": {\n        \"dtype\": \"number\",\n        \"std\": 4.130474751655827,\n        \"min\": 15.54,\n        \"max\": 56.8,\n        \"num_unique_values\": 1234,\n        \"samples\": [\n          26.87,\n          29.18\n        ],\n        \"semantic_type\": \"\",\n        \"description\": \"\"\n      }\n    },\n    {\n      \"column\": \"heartRate\",\n      \"properties\": {\n        \"dtype\": \"number\",\n        \"std\": 12,\n        \"min\": 44,\n        \"max\": 140,\n        \"num_unique_values\": 70,\n        \"samples\": [\n          69,\n          75\n        ],\n        \"semantic_type\": \"\",\n        \"description\": \"\"\n      }\n    },\n    {\n      \"column\": \"glucose\",\n      \"properties\": {\n        \"dtype\": \"number\",\n        \"std\": 23.625356737313467,\n        \"min\": 40.0,\n        \"max\": 394.0,\n        \"num_unique_values\": 130,\n        \"samples\": [\n          118.0,\n          88.0\n        ],\n        \"semantic_type\": \"\",\n        \"description\": \"\"\n      }\n    },\n    {\n      \"column\": \"TenYearCHD\",\n      \"properties\": {\n        \"dtype\": \"number\",\n        \"std\": 0,\n        \"min\": 0,\n        \"max\": 1,\n        \"num_unique_values\": 2,\n        \"samples\": [\n          0,\n          1\n        ],\n        \"semantic_type\": \"\",\n        \"description\": \"\"\n      }\n    }\n  ]\n}"
            }
          },
          "metadata": {},
          "execution_count": 7
        }
      ]
    },
    {
      "cell_type": "code",
      "source": [
        "df.columns.unique()"
      ],
      "metadata": {
        "id": "xrluWr0DDheg",
        "outputId": "2b64f3b6-8273-4d96-af4f-1eb2fb204a4b",
        "colab": {
          "base_uri": "https://localhost:8080/"
        }
      },
      "id": "xrluWr0DDheg",
      "execution_count": 8,
      "outputs": [
        {
          "output_type": "execute_result",
          "data": {
            "text/plain": [
              "Index(['Unnamed: 0', 'sex', 'age', 'education', 'currentSmoker', 'cigsPerDay',\n",
              "       'BPMeds', 'prevalentStroke', 'prevalentHyp', 'diabetes', 'totChol',\n",
              "       'sysBP', 'diaBP', 'BMI', 'heartRate', 'glucose', 'TenYearCHD'],\n",
              "      dtype='object')"
            ]
          },
          "metadata": {},
          "execution_count": 8
        }
      ]
    },
    {
      "cell_type": "code",
      "source": [
        "df['cigsPerDay'].unique()"
      ],
      "metadata": {
        "id": "SJzUU-iLDyRW",
        "outputId": "8781f4fa-c4e3-4b64-e9d5-ab9020e5956d",
        "colab": {
          "base_uri": "https://localhost:8080/"
        }
      },
      "id": "SJzUU-iLDyRW",
      "execution_count": 9,
      "outputs": [
        {
          "output_type": "execute_result",
          "data": {
            "text/plain": [
              "array([ 0., 15., 43., 20.,  9.,  3., 10., 40.,  5., nan, 25., 18.,  6.,\n",
              "        2., 30.,  1.,  8.,  7., 12., 23., 35., 29., 11., 16., 14., 60.,\n",
              "       70., 19.,  4., 45., 50., 17., 38., 13.])"
            ]
          },
          "metadata": {},
          "execution_count": 9
        }
      ]
    },
    {
      "cell_type": "code",
      "source": [
        "df['cigsPerDay'] = df['cigsPerDay'].fillna(0)"
      ],
      "metadata": {
        "id": "KpxuptLaExCC"
      },
      "id": "KpxuptLaExCC",
      "execution_count": 10,
      "outputs": []
    },
    {
      "cell_type": "code",
      "source": [
        "#assume unkknown values will be zero since not too many of them"
      ],
      "metadata": {
        "id": "KeV0BTomGMgb"
      },
      "id": "KeV0BTomGMgb",
      "execution_count": 11,
      "outputs": []
    },
    {
      "cell_type": "code",
      "source": [
        "df['cigsPerDay'].value_counts()"
      ],
      "metadata": {
        "id": "WGvx7yFIFnnY",
        "outputId": "a122d591-f86f-4a9e-e3c9-785054f7181d",
        "colab": {
          "base_uri": "https://localhost:8080/"
        }
      },
      "id": "WGvx7yFIFnnY",
      "execution_count": 12,
      "outputs": [
        {
          "output_type": "execute_result",
          "data": {
            "text/plain": [
              "cigsPerDay\n",
              "0.0     1643\n",
              "20.0     528\n",
              "30.0     172\n",
              "15.0     159\n",
              "10.0     108\n",
              "5.0       95\n",
              "9.0       94\n",
              "3.0       73\n",
              "40.0      67\n",
              "1.0       53\n",
              "43.0      40\n",
              "25.0      33\n",
              "35.0      16\n",
              "6.0       15\n",
              "2.0       13\n",
              "8.0       10\n",
              "60.0       9\n",
              "7.0        9\n",
              "18.0       7\n",
              "23.0       5\n",
              "11.0       5\n",
              "50.0       5\n",
              "4.0        4\n",
              "17.0       4\n",
              "16.0       3\n",
              "12.0       2\n",
              "19.0       2\n",
              "29.0       1\n",
              "14.0       1\n",
              "70.0       1\n",
              "45.0       1\n",
              "38.0       1\n",
              "13.0       1\n",
              "Name: count, dtype: int64"
            ]
          },
          "metadata": {},
          "execution_count": 12
        }
      ]
    },
    {
      "cell_type": "code",
      "source": [
        "df['BPMeds'].unique()"
      ],
      "metadata": {
        "id": "XbRvqZ7ZF7PX",
        "outputId": "d814bd64-c3f4-453b-c26e-4e911eda60e0",
        "colab": {
          "base_uri": "https://localhost:8080/"
        }
      },
      "id": "XbRvqZ7ZF7PX",
      "execution_count": 13,
      "outputs": [
        {
          "output_type": "execute_result",
          "data": {
            "text/plain": [
              "array([ 0.,  1., nan])"
            ]
          },
          "metadata": {},
          "execution_count": 13
        }
      ]
    },
    {
      "cell_type": "code",
      "source": [
        "df['BPMeds'].value_counts()"
      ],
      "metadata": {
        "id": "i6ynP1srF_3s",
        "outputId": "30c349b1-913b-442c-afe0-c84093ad0289",
        "colab": {
          "base_uri": "https://localhost:8080/"
        }
      },
      "id": "i6ynP1srF_3s",
      "execution_count": 14,
      "outputs": [
        {
          "output_type": "execute_result",
          "data": {
            "text/plain": [
              "BPMeds\n",
              "0.0    3050\n",
              "1.0      93\n",
              "Name: count, dtype: int64"
            ]
          },
          "metadata": {},
          "execution_count": 14
        }
      ]
    },
    {
      "cell_type": "code",
      "source": [
        "df['BPMeds'] = df['BPMeds'].fillna(0)\n",
        "#BPMeds done"
      ],
      "metadata": {
        "id": "t2sEqj0JGF7J"
      },
      "id": "t2sEqj0JGF7J",
      "execution_count": 15,
      "outputs": []
    },
    {
      "cell_type": "code",
      "source": [
        "df['prevalentStroke'].value_counts()"
      ],
      "metadata": {
        "id": "G03yk-NiGIiA",
        "outputId": "67485df2-61ab-4622-f969-a4cea3cbe589",
        "colab": {
          "base_uri": "https://localhost:8080/"
        }
      },
      "id": "G03yk-NiGIiA",
      "execution_count": 16,
      "outputs": [
        {
          "output_type": "execute_result",
          "data": {
            "text/plain": [
              "prevalentStroke\n",
              "0    3159\n",
              "1      21\n",
              "Name: count, dtype: int64"
            ]
          },
          "metadata": {},
          "execution_count": 16
        }
      ]
    },
    {
      "cell_type": "code",
      "source": [
        "#probably shouldmnt use since only 21 counts of prevalent stroke, cant say random\n",
        "#forest might be useful. but not positive\n",
        "df['prevalentStroke'].unique()"
      ],
      "metadata": {
        "id": "po-WMGHSGbbo",
        "outputId": "967dd844-2d96-4ef6-fcaa-3bc67e591fe6",
        "colab": {
          "base_uri": "https://localhost:8080/"
        }
      },
      "id": "po-WMGHSGbbo",
      "execution_count": 17,
      "outputs": [
        {
          "output_type": "execute_result",
          "data": {
            "text/plain": [
              "array([0, 1])"
            ]
          },
          "metadata": {},
          "execution_count": 17
        }
      ]
    },
    {
      "cell_type": "code",
      "source": [
        "\n",
        "df['prevalentHyp'].unique()\n"
      ],
      "metadata": {
        "id": "N2NdLXqOG63o",
        "outputId": "c0355979-b555-4933-a6dc-df795e4793df",
        "colab": {
          "base_uri": "https://localhost:8080/"
        }
      },
      "id": "N2NdLXqOG63o",
      "execution_count": 18,
      "outputs": [
        {
          "output_type": "execute_result",
          "data": {
            "text/plain": [
              "array([0, 1])"
            ]
          },
          "metadata": {},
          "execution_count": 18
        }
      ]
    },
    {
      "cell_type": "code",
      "source": [
        "df['prevalentHyp'].value_counts()"
      ],
      "metadata": {
        "id": "DDVw300qHHog",
        "outputId": "07d0dbf8-a04b-4062-d31c-2c936521f0cc",
        "colab": {
          "base_uri": "https://localhost:8080/"
        }
      },
      "id": "DDVw300qHHog",
      "execution_count": 19,
      "outputs": [
        {
          "output_type": "execute_result",
          "data": {
            "text/plain": [
              "prevalentHyp\n",
              "0    2159\n",
              "1    1021\n",
              "Name: count, dtype: int64"
            ]
          },
          "metadata": {},
          "execution_count": 19
        }
      ]
    },
    {
      "cell_type": "code",
      "source": [
        "df['diabetes'].value_counts()"
      ],
      "metadata": {
        "id": "uI70b-RFHOXI",
        "outputId": "802b779e-2710-4ea6-bad4-b91d2564261d",
        "colab": {
          "base_uri": "https://localhost:8080/"
        }
      },
      "id": "uI70b-RFHOXI",
      "execution_count": 20,
      "outputs": [
        {
          "output_type": "execute_result",
          "data": {
            "text/plain": [
              "diabetes\n",
              "0    3097\n",
              "1      83\n",
              "Name: count, dtype: int64"
            ]
          },
          "metadata": {},
          "execution_count": 20
        }
      ]
    },
    {
      "cell_type": "code",
      "source": [
        "df['diabetes'].unique()"
      ],
      "metadata": {
        "id": "NaemZoyQIDUY",
        "outputId": "3e0a4cf6-1524-4bf6-80e8-a925e8a85789",
        "colab": {
          "base_uri": "https://localhost:8080/"
        }
      },
      "id": "NaemZoyQIDUY",
      "execution_count": 21,
      "outputs": [
        {
          "output_type": "execute_result",
          "data": {
            "text/plain": [
              "array([0, 1])"
            ]
          },
          "metadata": {},
          "execution_count": 21
        }
      ]
    },
    {
      "cell_type": "code",
      "source": [
        "df['totChol'].value_counts()"
      ],
      "metadata": {
        "id": "Xkr8FuwSIKM9",
        "outputId": "9e1837a6-5de9-4983-db23-cf3ef09e194a",
        "colab": {
          "base_uri": "https://localhost:8080/"
        }
      },
      "id": "Xkr8FuwSIKM9",
      "execution_count": 22,
      "outputs": [
        {
          "output_type": "execute_result",
          "data": {
            "text/plain": [
              "totChol\n",
              "240.0    63\n",
              "220.0    50\n",
              "232.0    49\n",
              "260.0    48\n",
              "210.0    45\n",
              "         ..\n",
              "385.0     1\n",
              "359.0     1\n",
              "355.0     1\n",
              "119.0     1\n",
              "392.0     1\n",
              "Name: count, Length: 243, dtype: int64"
            ]
          },
          "metadata": {},
          "execution_count": 22
        }
      ]
    },
    {
      "cell_type": "code",
      "source": [
        "import seaborn as sns\n",
        "import matplotlib.pyplot as plt\n",
        "import numpy as np"
      ],
      "metadata": {
        "id": "UvogG4mvISDS"
      },
      "id": "UvogG4mvISDS",
      "execution_count": 23,
      "outputs": []
    },
    {
      "cell_type": "code",
      "source": [
        "df['totChol'].plot(kind='kde')\n"
      ],
      "metadata": {
        "id": "3uuixEfSIdcR",
        "outputId": "4ac67d76-cb50-4034-9e2b-ac2725b62f65",
        "colab": {
          "base_uri": "https://localhost:8080/",
          "height": 447
        }
      },
      "id": "3uuixEfSIdcR",
      "execution_count": 24,
      "outputs": [
        {
          "output_type": "execute_result",
          "data": {
            "text/plain": [
              "<Axes: ylabel='Density'>"
            ]
          },
          "metadata": {},
          "execution_count": 24
        },
        {
          "output_type": "display_data",
          "data": {
            "text/plain": [
              "<Figure size 640x480 with 1 Axes>"
            ],
            "image/png": "[encoded data removed]"
          },
          "metadata": {}
        }
      ]
    },
    {
      "cell_type": "code",
      "source": [
        "df['totChol'].agg('mean')"
      ],
      "metadata": {
        "id": "1lQpFQUOIznk",
        "outputId": "71957c83-ddc9-47bb-bf1f-186324dcff19",
        "colab": {
          "base_uri": "https://localhost:8080/"
        }
      },
      "id": "1lQpFQUOIznk",
      "execution_count": 25,
      "outputs": [
        {
          "output_type": "execute_result",
          "data": {
            "text/plain": [
              "236.60076408787012"
            ]
          },
          "metadata": {},
          "execution_count": 25
        }
      ]
    },
    {
      "cell_type": "code",
      "source": [
        "df['totChol'] = df['totChol'].fillna(236)"
      ],
      "metadata": {
        "id": "meYkMEzfI2p_"
      },
      "id": "meYkMEzfI2p_",
      "execution_count": 26,
      "outputs": []
    },
    {
      "cell_type": "code",
      "source": [
        "sns.kdeplot(x=df['totChol'], hue=df['diabetes'])\n",
        "plt.show()\n",
        "\n",
        "sns.kdeplot(x=np.log(df['totChol']), hue=df['diabetes'])\n",
        "plt.show()"
      ],
      "metadata": {
        "id": "uqCkc5LsJis4",
        "outputId": "343aadc6-0447-441d-acc1-df6fa81d86a9",
        "colab": {
          "base_uri": "https://localhost:8080/",
          "height": 881
        }
      },
      "id": "uqCkc5LsJis4",
      "execution_count": 27,
      "outputs": [
        {
          "output_type": "display_data",
          "data": {
            "text/plain": [
              "<Figure size 640x480 with 1 Axes>"
            ],
            "image/png": "[encoded data removed]"
          },
          "metadata": {}
        },
        {
          "output_type": "display_data",
          "data": {
            "text/plain": [
              "<Figure size 640x480 with 1 Axes>"
            ],
            "image/png": "[encoded data removed]"
          },
          "metadata": {}
        }
      ]
    },
    {
      "cell_type": "code",
      "source": [
        "df.loc[:,['totChol','prevalentHyp'] ].groupby('prevalentHyp').describe()"
      ],
      "metadata": {
        "id": "JEm1ZTLKKL-S",
        "outputId": "7a40c829-e51e-4805-e0c9-a1ab4c826a49",
        "colab": {
          "base_uri": "https://localhost:8080/",
          "height": 173
        }
      },
      "id": "JEm1ZTLKKL-S",
      "execution_count": 28,
      "outputs": [
        {
          "output_type": "execute_result",
          "data": {
            "text/plain": [
              "             totChol                                                          \n",
              "               count        mean        std    min    25%    50%    75%    max\n",
              "prevalentHyp                                                                  \n",
              "0             2159.0  231.519685  41.836352  113.0  202.0  229.0  257.0  464.0\n",
              "1             1021.0  247.322233  48.154744  107.0  217.0  243.0  272.0  696.0"
            ],
            "text/html": [
              "\n",
              "  <div id=\"df-128bef8b-adc2-41f8-b7e5-8400546722f8\" class=\"colab-df-container\">\n",
              "    <div>\n",
              "<style scoped>\n",
              "    .dataframe tbody tr th:only-of-type {\n",
              "        vertical-align: middle;\n",
              "    }\n",
              "\n",
              "    .dataframe tbody tr th {\n",
              "        vertical-align: top;\n",
              "    }\n",
              "\n",
              "    .dataframe thead tr th {\n",
              "        text-align: left;\n",
              "    }\n",
              "\n",
              "    .dataframe thead tr:last-of-type th {\n",
              "        text-align: right;\n",
              "    }\n",
              "</style>\n",
              "<table border=\"1\" class=\"dataframe\">\n",
              "  <thead>\n",
              "    <tr>\n",
              "      <th></th>\n",
              "      <th colspan=\"8\" halign=\"left\">totChol</th>\n",
              "    </tr>\n",
              "    <tr>\n",
              "      <th></th>\n",
              "      <th>count</th>\n",
              "      <th>mean</th>\n",
              "      <th>std</th>\n",
              "      <th>min</th>\n",
              "      <th>25%</th>\n",
              "      <th>50%</th>\n",
              "      <th>75%</th>\n",
              "      <th>max</th>\n",
              "    </tr>\n",
              "    <tr>\n",
              "      <th>prevalentHyp</th>\n",
              "      <th></th>\n",
              "      <th></th>\n",
              "      <th></th>\n",
              "      <th></th>\n",
              "      <th></th>\n",
              "      <th></th>\n",
              "      <th></th>\n",
              "      <th></th>\n",
              "    </tr>\n",
              "  </thead>\n",
              "  <tbody>\n",
              "    <tr>\n",
              "      <th>0</th>\n",
              "      <td>2159.0</td>\n",
              "      <td>231.519685</td>\n",
              "      <td>41.836352</td>\n",
              "      <td>113.0</td>\n",
              "      <td>202.0</td>\n",
              "      <td>229.0</td>\n",
              "      <td>257.0</td>\n",
              "      <td>464.0</td>\n",
              "    </tr>\n",
              "    <tr>\n",
              "      <th>1</th>\n",
              "      <td>1021.0</td>\n",
              "      <td>247.322233</td>\n",
              "      <td>48.154744</td>\n",
              "      <td>107.0</td>\n",
              "      <td>217.0</td>\n",
              "      <td>243.0</td>\n",
              "      <td>272.0</td>\n",
              "      <td>696.0</td>\n",
              "    </tr>\n",
              "  </tbody>\n",
              "</table>\n",
              "</div>\n",
              "    <div class=\"colab-df-buttons\">\n",
              "\n",
              "  <div class=\"colab-df-container\">\n",
              "    <button class=\"colab-df-convert\" onclick=\"convertToInteractive('df-128bef8b-adc2-41f8-b7e5-8400546722f8')\"\n",
              "            title=\"Convert this dataframe to an interactive table.\"\n",
              "            style=\"display:none;\">\n",
              "\n",
              "  <svg xmlns=\"http://www.w3.org/2000/svg\" height=\"24px\" viewBox=\"0 -960 960 960\">\n",
              "    <path d=\"M120-120v-720h720v720H120Zm60-500h600v-160H180v160Zm220 220h160v-160H400v160Zm0 220h160v-160H400v160ZM180-400h160v-160H180v160Zm440 0h160v-160H620v160ZM180-180h160v-160H180v160Zm440 0h160v-160H620v160Z\"/>\n",
              "  </svg>\n",
              "    </button>\n",
              "\n",
              "  <style>\n",
              "    .colab-df-container {\n",
              "      display:flex;\n",
              "      gap: 12px;\n",
              "    }\n",
              "\n",
              "    .colab-df-convert {\n",
              "      background-color: #E8F0FE;\n",
              "      border: none;\n",
              "      border-radius: 50%;\n",
              "      cursor: pointer;\n",
              "      display: none;\n",
              "      fill: #1967D2;\n",
              "      height: 32px;\n",
              "      padding: 0 0 0 0;\n",
              "      width: 32px;\n",
              "    }\n",
              "\n",
              "    .colab-df-convert:hover {\n",
              "      background-color: #E2EBFA;\n",
              "      box-shadow: 0px 1px 2px rgba(60, 64, 67, 0.3), 0px 1px 3px 1px rgba(60, 64, 67, 0.15);\n",
              "      fill: #174EA6;\n",
              "    }\n",
              "\n",
              "    .colab-df-buttons div {\n",
              "      margin-bottom: 4px;\n",
              "    }\n",
              "\n",
              "    [theme=dark] .colab-df-convert {\n",
              "      background-color: #3B4455;\n",
              "      fill: #D2E3FC;\n",
              "    }\n",
              "\n",
              "    [theme=dark] .colab-df-convert:hover {\n",
              "      background-color: #434B5C;\n",
              "      box-shadow: 0px 1px 3px 1px rgba(0, 0, 0, 0.15);\n",
              "      filter: drop-shadow(0px 1px 2px rgba(0, 0, 0, 0.3));\n",
              "      fill: #FFFFFF;\n",
              "    }\n",
              "  </style>\n",
              "\n",
              "    <script>\n",
              "      const buttonEl =\n",
              "        document.querySelector('#df-128bef8b-adc2-41f8-b7e5-8400546722f8 button.colab-df-convert');\n",
              "      buttonEl.style.display =\n",
              "        google.colab.kernel.accessAllowed ? 'block' : 'none';\n",
              "\n",
              "      async function convertToInteractive(key) {\n",
              "        const element = document.querySelector('#df-128bef8b-adc2-41f8-b7e5-8400546722f8');\n",
              "        const dataTable =\n",
              "          await google.colab.kernel.invokeFunction('convertToInteractive',\n",
              "                                                    [key], {});\n",
              "        if (!dataTable) return;\n",
              "\n",
              "        const docLinkHtml = 'Like what you see? Visit the ' +\n",
              "          '<a target=\"_blank\" href=https://colab.research.google.com/notebooks/data_table.ipynb>data table notebook</a>'\n",
              "          + ' to learn more about interactive tables.';\n",
              "        element.innerHTML = '';\n",
              "        dataTable['output_type'] = 'display_data';\n",
              "        await google.colab.output.renderOutput(dataTable, element);\n",
              "        const docLink = document.createElement('div');\n",
              "        docLink.innerHTML = docLinkHtml;\n",
              "        element.appendChild(docLink);\n",
              "      }\n",
              "    </script>\n",
              "  </div>\n",
              "\n",
              "\n",
              "<div id=\"df-8e4635e0-43da-4c2d-bebb-49cf36b6e2e0\">\n",
              "  <button class=\"colab-df-quickchart\" onclick=\"quickchart('df-8e4635e0-43da-4c2d-bebb-49cf36b6e2e0')\"\n",
              "            title=\"Suggest charts\"\n",
              "            style=\"display:none;\">\n",
              "\n",
              "<svg xmlns=\"http://www.w3.org/2000/svg\" height=\"24px\"viewBox=\"0 0 24 24\"\n",
              "     width=\"24px\">\n",
              "    <g>\n",
              "        <path d=\"M19 3H5c-1.1 0-2 .9-2 2v14c0 1.1.9 2 2 2h14c1.1 0 2-.9 2-2V5c0-1.1-.9-2-2-2zM9 17H7v-7h2v7zm4 0h-2V7h2v10zm4 0h-2v-4h2v4z\"/>\n",
              "    </g>\n",
              "</svg>\n",
              "  </button>\n",
              "\n",
              "<style>\n",
              "  .colab-df-quickchart {\n",
              "      --bg-color: #E8F0FE;\n",
              "      --fill-color: #1967D2;\n",
              "      --hover-bg-color: #E2EBFA;\n",
              "      --hover-fill-color: #174EA6;\n",
              "      --disabled-fill-color: #AAA;\n",
              "      --disabled-bg-color: #DDD;\n",
              "  }\n",
              "\n",
              "  [theme=dark] .colab-df-quickchart {\n",
              "      --bg-color: #3B4455;\n",
              "      --fill-color: #D2E3FC;\n",
              "      --hover-bg-color: #434B5C;\n",
              "      --hover-fill-color: #FFFFFF;\n",
              "      --disabled-bg-color: #3B4455;\n",
              "      --disabled-fill-color: #666;\n",
              "  }\n",
              "\n",
              "  .colab-df-quickchart {\n",
              "    background-color: var(--bg-color);\n",
              "    border: none;\n",
              "    border-radius: 50%;\n",
              "    cursor: pointer;\n",
              "    display: none;\n",
              "    fill: var(--fill-color);\n",
              "    height: 32px;\n",
              "    padding: 0;\n",
              "    width: 32px;\n",
              "  }\n",
              "\n",
              "  .colab-df-quickchart:hover {\n",
              "    background-color: var(--hover-bg-color);\n",
              "    box-shadow: 0 1px 2px rgba(60, 64, 67, 0.3), 0 1px 3px 1px rgba(60, 64, 67, 0.15);\n",
              "    fill: var(--button-hover-fill-color);\n",
              "  }\n",
              "\n",
              "  .colab-df-quickchart-complete:disabled,\n",
              "  .colab-df-quickchart-complete:disabled:hover {\n",
              "    background-color: var(--disabled-bg-color);\n",
              "    fill: var(--disabled-fill-color);\n",
              "    box-shadow: none;\n",
              "  }\n",
              "\n",
              "  .colab-df-spinner {\n",
              "    border: 2px solid var(--fill-color);\n",
              "    border-color: transparent;\n",
              "    border-bottom-color: var(--fill-color);\n",
              "    animation:\n",
              "      spin 1s steps(1) infinite;\n",
              "  }\n",
              "\n",
              "  @keyframes spin {\n",
              "    0% {\n",
              "      border-color: transparent;\n",
              "      border-bottom-color: var(--fill-color);\n",
              "      border-left-color: var(--fill-color);\n",
              "    }\n",
              "    20% {\n",
              "      border-color: transparent;\n",
              "      border-left-color: var(--fill-color);\n",
              "      border-top-color: var(--fill-color);\n",
              "    }\n",
              "    30% {\n",
              "      border-color: transparent;\n",
              "      border-left-color: var(--fill-color);\n",
              "      border-top-color: var(--fill-color);\n",
              "      border-right-color: var(--fill-color);\n",
              "    }\n",
              "    40% {\n",
              "      border-color: transparent;\n",
              "      border-right-color: var(--fill-color);\n",
              "      border-top-color: var(--fill-color);\n",
              "    }\n",
              "    60% {\n",
              "      border-color: transparent;\n",
              "      border-right-color: var(--fill-color);\n",
              "    }\n",
              "    80% {\n",
              "      border-color: transparent;\n",
              "      border-right-color: var(--fill-color);\n",
              "      border-bottom-color: var(--fill-color);\n",
              "    }\n",
              "    90% {\n",
              "      border-color: transparent;\n",
              "      border-bottom-color: var(--fill-color);\n",
              "    }\n",
              "  }\n",
              "</style>\n",
              "\n",
              "  <script>\n",
              "    async function quickchart(key) {\n",
              "      const quickchartButtonEl =\n",
              "        document.querySelector('#' + key + ' button');\n",
              "      quickchartButtonEl.disabled = true;  // To prevent multiple clicks.\n",
              "      quickchartButtonEl.classList.add('colab-df-spinner');\n",
              "      try {\n",
              "        const charts = await google.colab.kernel.invokeFunction(\n",
              "            'suggestCharts', [key], {});\n",
              "      } catch (error) {\n",
              "        console.error('Error during call to suggestCharts:', error);\n",
              "      }\n",
              "      quickchartButtonEl.classList.remove('colab-df-spinner');\n",
              "      quickchartButtonEl.classList.add('colab-df-quickchart-complete');\n",
              "    }\n",
              "    (() => {\n",
              "      let quickchartButtonEl =\n",
              "        document.querySelector('#df-8e4635e0-43da-4c2d-bebb-49cf36b6e2e0 button');\n",
              "      quickchartButtonEl.style.display =\n",
              "        google.colab.kernel.accessAllowed ? 'block' : 'none';\n",
              "    })();\n",
              "  </script>\n",
              "</div>\n",
              "\n",
              "    </div>\n",
              "  </div>\n"
            ],
            "application/vnd.google.colaboratory.intrinsic+json": {
              "type": "dataframe",
              "summary": "{\n  \"name\": \"df\",\n  \"rows\": 2,\n  \"fields\": [\n    {\n      \"column\": [\n        \"prevalentHyp\",\n        \"\"\n      ],\n      \"properties\": {\n        \"dtype\": \"number\",\n        \"std\": 0,\n        \"min\": 0,\n        \"max\": 1,\n        \"num_unique_values\": 2,\n        \"samples\": [\n          1,\n          0\n        ],\n        \"semantic_type\": \"\",\n        \"description\": \"\"\n      }\n    },\n    {\n      \"column\": [\n        \"totChol\",\n        \"count\"\n      ],\n      \"properties\": {\n        \"dtype\": \"number\",\n        \"std\": 804.6875169902911,\n        \"min\": 1021.0,\n        \"max\": 2159.0,\n        \"num_unique_values\": 2,\n        \"samples\": [\n          1021.0,\n          2159.0\n        ],\n        \"semantic_type\": \"\",\n        \"description\": \"\"\n      }\n    },\n    {\n      \"column\": [\n        \"totChol\",\n        \"mean\"\n      ],\n      \"properties\": {\n        \"dtype\": \"number\",\n        \"std\": 11.1740888970913,\n        \"min\": 231.51968503937007,\n        \"max\": 247.3222331047992,\n        \"num_unique_values\": 2,\n        \"samples\": [\n          247.3222331047992,\n          231.51968503937007\n        ],\n        \"semantic_type\": \"\",\n        \"description\": \"\"\n      }\n    },\n    {\n      \"column\": [\n        \"totChol\",\n        \"std\"\n      ],\n      \"properties\": {\n        \"dtype\": \"number\",\n        \"std\": 4.467778341967907,\n        \"min\": 41.836351562267296,\n        \"max\": 48.15474428715509,\n        \"num_unique_values\": 2,\n        \"samples\": [\n          48.15474428715509,\n          41.836351562267296\n        ],\n        \"semantic_type\": \"\",\n        \"description\": \"\"\n      }\n    },\n    {\n      \"column\": [\n        \"totChol\",\n        \"min\"\n      ],\n      \"properties\": {\n        \"dtype\": \"number\",\n        \"std\": 4.242640687119285,\n        \"min\": 107.0,\n        \"max\": 113.0,\n        \"num_unique_values\": 2,\n        \"samples\": [\n          107.0,\n          113.0\n        ],\n        \"semantic_type\": \"\",\n        \"description\": \"\"\n      }\n    },\n    {\n      \"column\": [\n        \"totChol\",\n        \"25%\"\n      ],\n      \"properties\": {\n        \"dtype\": \"number\",\n        \"std\": 10.606601717798213,\n        \"min\": 202.0,\n        \"max\": 217.0,\n        \"num_unique_values\": 2,\n        \"samples\": [\n          217.0,\n          202.0\n        ],\n        \"semantic_type\": \"\",\n        \"description\": \"\"\n      }\n    },\n    {\n      \"column\": [\n        \"totChol\",\n        \"50%\"\n      ],\n      \"properties\": {\n        \"dtype\": \"number\",\n        \"std\": 9.899494936611665,\n        \"min\": 229.0,\n        \"max\": 243.0,\n        \"num_unique_values\": 2,\n        \"samples\": [\n          243.0,\n          229.0\n        ],\n        \"semantic_type\": \"\",\n        \"description\": \"\"\n      }\n    },\n    {\n      \"column\": [\n        \"totChol\",\n        \"75%\"\n      ],\n      \"properties\": {\n        \"dtype\": \"number\",\n        \"std\": 10.606601717798213,\n        \"min\": 257.0,\n        \"max\": 272.0,\n        \"num_unique_values\": 2,\n        \"samples\": [\n          272.0,\n          257.0\n        ],\n        \"semantic_type\": \"\",\n        \"description\": \"\"\n      }\n    },\n    {\n      \"column\": [\n        \"totChol\",\n        \"max\"\n      ],\n      \"properties\": {\n        \"dtype\": \"number\",\n        \"std\": 164.04877323527901,\n        \"min\": 464.0,\n        \"max\": 696.0,\n        \"num_unique_values\": 2,\n        \"samples\": [\n          696.0,\n          464.0\n        ],\n        \"semantic_type\": \"\",\n        \"description\": \"\"\n      }\n    }\n  ]\n}"
            }
          },
          "metadata": {},
          "execution_count": 28
        }
      ]
    },
    {
      "cell_type": "code",
      "source": [
        "# cholesterol greater in those with hypertension, makes sense"
      ],
      "metadata": {
        "id": "G5SMoVUJKjiE"
      },
      "id": "G5SMoVUJKjiE",
      "execution_count": 29,
      "outputs": []
    },
    {
      "cell_type": "code",
      "source": [
        "df.loc[:,['cigsPerDay','prevalentHyp'] ].groupby('prevalentHyp').describe()"
      ],
      "metadata": {
        "id": "VfqGYQCYKuPG",
        "outputId": "f01864a5-637f-4fc7-c3ab-7e00a64dc82a",
        "colab": {
          "base_uri": "https://localhost:8080/",
          "height": 173
        }
      },
      "id": "VfqGYQCYKuPG",
      "execution_count": 30,
      "outputs": [
        {
          "output_type": "execute_result",
          "data": {
            "text/plain": [
              "             cigsPerDay                                                \n",
              "                  count      mean        std  min  25%  50%   75%   max\n",
              "prevalentHyp                                                           \n",
              "0                2159.0  9.446966  11.945421  0.0  0.0  2.0  20.0  60.0\n",
              "1                1021.0  7.752204  12.019278  0.0  0.0  0.0  15.0  70.0"
            ],
            "text/html": [
              "\n",
              "  <div id=\"df-1718033c-9c62-4dad-aba4-43f4292a44ce\" class=\"colab-df-container\">\n",
              "    <div>\n",
              "<style scoped>\n",
              "    .dataframe tbody tr th:only-of-type {\n",
              "        vertical-align: middle;\n",
              "    }\n",
              "\n",
              "    .dataframe tbody tr th {\n",
              "        vertical-align: top;\n",
              "    }\n",
              "\n",
              "    .dataframe thead tr th {\n",
              "        text-align: left;\n",
              "    }\n",
              "\n",
              "    .dataframe thead tr:last-of-type th {\n",
              "        text-align: right;\n",
              "    }\n",
              "</style>\n",
              "<table border=\"1\" class=\"dataframe\">\n",
              "  <thead>\n",
              "    <tr>\n",
              "      <th></th>\n",
              "      <th colspan=\"8\" halign=\"left\">cigsPerDay</th>\n",
              "    </tr>\n",
              "    <tr>\n",
              "      <th></th>\n",
              "      <th>count</th>\n",
              "      <th>mean</th>\n",
              "      <th>std</th>\n",
              "      <th>min</th>\n",
              "      <th>25%</th>\n",
              "      <th>50%</th>\n",
              "      <th>75%</th>\n",
              "      <th>max</th>\n",
              "    </tr>\n",
              "    <tr>\n",
              "      <th>prevalentHyp</th>\n",
              "      <th></th>\n",
              "      <th></th>\n",
              "      <th></th>\n",
              "      <th></th>\n",
              "      <th></th>\n",
              "      <th></th>\n",
              "      <th></th>\n",
              "      <th></th>\n",
              "    </tr>\n",
              "  </thead>\n",
              "  <tbody>\n",
              "    <tr>\n",
              "      <th>0</th>\n",
              "      <td>2159.0</td>\n",
              "      <td>9.446966</td>\n",
              "      <td>11.945421</td>\n",
              "      <td>0.0</td>\n",
              "      <td>0.0</td>\n",
              "      <td>2.0</td>\n",
              "      <td>20.0</td>\n",
              "      <td>60.0</td>\n",
              "    </tr>\n",
              "    <tr>\n",
              "      <th>1</th>\n",
              "      <td>1021.0</td>\n",
              "      <td>7.752204</td>\n",
              "      <td>12.019278</td>\n",
              "      <td>0.0</td>\n",
              "      <td>0.0</td>\n",
              "      <td>0.0</td>\n",
              "      <td>15.0</td>\n",
              "      <td>70.0</td>\n",
              "    </tr>\n",
              "  </tbody>\n",
              "</table>\n",
              "</div>\n",
              "    <div class=\"colab-df-buttons\">\n",
              "\n",
              "  <div class=\"colab-df-container\">\n",
              "    <button class=\"colab-df-convert\" onclick=\"convertToInteractive('df-1718033c-9c62-4dad-aba4-43f4292a44ce')\"\n",
              "            title=\"Convert this dataframe to an interactive table.\"\n",
              "            style=\"display:none;\">\n",
              "\n",
              "  <svg xmlns=\"http://www.w3.org/2000/svg\" height=\"24px\" viewBox=\"0 -960 960 960\">\n",
              "    <path d=\"M120-120v-720h720v720H120Zm60-500h600v-160H180v160Zm220 220h160v-160H400v160Zm0 220h160v-160H400v160ZM180-400h160v-160H180v160Zm440 0h160v-160H620v160ZM180-180h160v-160H180v160Zm440 0h160v-160H620v160Z\"/>\n",
              "  </svg>\n",
              "    </button>\n",
              "\n",
              "  <style>\n",
              "    .colab-df-container {\n",
              "      display:flex;\n",
              "      gap: 12px;\n",
              "    }\n",
              "\n",
              "    .colab-df-convert {\n",
              "      background-color: #E8F0FE;\n",
              "      border: none;\n",
              "      border-radius: 50%;\n",
              "      cursor: pointer;\n",
              "      display: none;\n",
              "      fill: #1967D2;\n",
              "      height: 32px;\n",
              "      padding: 0 0 0 0;\n",
              "      width: 32px;\n",
              "    }\n",
              "\n",
              "    .colab-df-convert:hover {\n",
              "      background-color: #E2EBFA;\n",
              "      box-shadow: 0px 1px 2px rgba(60, 64, 67, 0.3), 0px 1px 3px 1px rgba(60, 64, 67, 0.15);\n",
              "      fill: #174EA6;\n",
              "    }\n",
              "\n",
              "    .colab-df-buttons div {\n",
              "      margin-bottom: 4px;\n",
              "    }\n",
              "\n",
              "    [theme=dark] .colab-df-convert {\n",
              "      background-color: #3B4455;\n",
              "      fill: #D2E3FC;\n",
              "    }\n",
              "\n",
              "    [theme=dark] .colab-df-convert:hover {\n",
              "      background-color: #434B5C;\n",
              "      box-shadow: 0px 1px 3px 1px rgba(0, 0, 0, 0.15);\n",
              "      filter: drop-shadow(0px 1px 2px rgba(0, 0, 0, 0.3));\n",
              "      fill: #FFFFFF;\n",
              "    }\n",
              "  </style>\n",
              "\n",
              "    <script>\n",
              "      const buttonEl =\n",
              "        document.querySelector('#df-1718033c-9c62-4dad-aba4-43f4292a44ce button.colab-df-convert');\n",
              "      buttonEl.style.display =\n",
              "        google.colab.kernel.accessAllowed ? 'block' : 'none';\n",
              "\n",
              "      async function convertToInteractive(key) {\n",
              "        const element = document.querySelector('#df-1718033c-9c62-4dad-aba4-43f4292a44ce');\n",
              "        const dataTable =\n",
              "          await google.colab.kernel.invokeFunction('convertToInteractive',\n",
              "                                                    [key], {});\n",
              "        if (!dataTable) return;\n",
              "\n",
              "        const docLinkHtml = 'Like what you see? Visit the ' +\n",
              "          '<a target=\"_blank\" href=https://colab.research.google.com/notebooks/data_table.ipynb>data table notebook</a>'\n",
              "          + ' to learn more about interactive tables.';\n",
              "        element.innerHTML = '';\n",
              "        dataTable['output_type'] = 'display_data';\n",
              "        await google.colab.output.renderOutput(dataTable, element);\n",
              "        const docLink = document.createElement('div');\n",
              "        docLink.innerHTML = docLinkHtml;\n",
              "        element.appendChild(docLink);\n",
              "      }\n",
              "    </script>\n",
              "  </div>\n",
              "\n",
              "\n",
              "<div id=\"df-efddde69-6266-4b08-8c7d-58cb22ee5f07\">\n",
              "  <button class=\"colab-df-quickchart\" onclick=\"quickchart('df-efddde69-6266-4b08-8c7d-58cb22ee5f07')\"\n",
              "            title=\"Suggest charts\"\n",
              "            style=\"display:none;\">\n",
              "\n",
              "<svg xmlns=\"http://www.w3.org/2000/svg\" height=\"24px\"viewBox=\"0 0 24 24\"\n",
              "     width=\"24px\">\n",
              "    <g>\n",
              "        <path d=\"M19 3H5c-1.1 0-2 .9-2 2v14c0 1.1.9 2 2 2h14c1.1 0 2-.9 2-2V5c0-1.1-.9-2-2-2zM9 17H7v-7h2v7zm4 0h-2V7h2v10zm4 0h-2v-4h2v4z\"/>\n",
              "    </g>\n",
              "</svg>\n",
              "  </button>\n",
              "\n",
              "<style>\n",
              "  .colab-df-quickchart {\n",
              "      --bg-color: #E8F0FE;\n",
              "      --fill-color: #1967D2;\n",
              "      --hover-bg-color: #E2EBFA;\n",
              "      --hover-fill-color: #174EA6;\n",
              "      --disabled-fill-color: #AAA;\n",
              "      --disabled-bg-color: #DDD;\n",
              "  }\n",
              "\n",
              "  [theme=dark] .colab-df-quickchart {\n",
              "      --bg-color: #3B4455;\n",
              "      --fill-color: #D2E3FC;\n",
              "      --hover-bg-color: #434B5C;\n",
              "      --hover-fill-color: #FFFFFF;\n",
              "      --disabled-bg-color: #3B4455;\n",
              "      --disabled-fill-color: #666;\n",
              "  }\n",
              "\n",
              "  .colab-df-quickchart {\n",
              "    background-color: var(--bg-color);\n",
              "    border: none;\n",
              "    border-radius: 50%;\n",
              "    cursor: pointer;\n",
              "    display: none;\n",
              "    fill: var(--fill-color);\n",
              "    height: 32px;\n",
              "    padding: 0;\n",
              "    width: 32px;\n",
              "  }\n",
              "\n",
              "  .colab-df-quickchart:hover {\n",
              "    background-color: var(--hover-bg-color);\n",
              "    box-shadow: 0 1px 2px rgba(60, 64, 67, 0.3), 0 1px 3px 1px rgba(60, 64, 67, 0.15);\n",
              "    fill: var(--button-hover-fill-color);\n",
              "  }\n",
              "\n",
              "  .colab-df-quickchart-complete:disabled,\n",
              "  .colab-df-quickchart-complete:disabled:hover {\n",
              "    background-color: var(--disabled-bg-color);\n",
              "    fill: var(--disabled-fill-color);\n",
              "    box-shadow: none;\n",
              "  }\n",
              "\n",
              "  .colab-df-spinner {\n",
              "    border: 2px solid var(--fill-color);\n",
              "    border-color: transparent;\n",
              "    border-bottom-color: var(--fill-color);\n",
              "    animation:\n",
              "      spin 1s steps(1) infinite;\n",
              "  }\n",
              "\n",
              "  @keyframes spin {\n",
              "    0% {\n",
              "      border-color: transparent;\n",
              "      border-bottom-color: var(--fill-color);\n",
              "      border-left-color: var(--fill-color);\n",
              "    }\n",
              "    20% {\n",
              "      border-color: transparent;\n",
              "      border-left-color: var(--fill-color);\n",
              "      border-top-color: var(--fill-color);\n",
              "    }\n",
              "    30% {\n",
              "      border-color: transparent;\n",
              "      border-left-color: var(--fill-color);\n",
              "      border-top-color: var(--fill-color);\n",
              "      border-right-color: var(--fill-color);\n",
              "    }\n",
              "    40% {\n",
              "      border-color: transparent;\n",
              "      border-right-color: var(--fill-color);\n",
              "      border-top-color: var(--fill-color);\n",
              "    }\n",
              "    60% {\n",
              "      border-color: transparent;\n",
              "      border-right-color: var(--fill-color);\n",
              "    }\n",
              "    80% {\n",
              "      border-color: transparent;\n",
              "      border-right-color: var(--fill-color);\n",
              "      border-bottom-color: var(--fill-color);\n",
              "    }\n",
              "    90% {\n",
              "      border-color: transparent;\n",
              "      border-bottom-color: var(--fill-color);\n",
              "    }\n",
              "  }\n",
              "</style>\n",
              "\n",
              "  <script>\n",
              "    async function quickchart(key) {\n",
              "      const quickchartButtonEl =\n",
              "        document.querySelector('#' + key + ' button');\n",
              "      quickchartButtonEl.disabled = true;  // To prevent multiple clicks.\n",
              "      quickchartButtonEl.classList.add('colab-df-spinner');\n",
              "      try {\n",
              "        const charts = await google.colab.kernel.invokeFunction(\n",
              "            'suggestCharts', [key], {});\n",
              "      } catch (error) {\n",
              "        console.error('Error during call to suggestCharts:', error);\n",
              "      }\n",
              "      quickchartButtonEl.classList.remove('colab-df-spinner');\n",
              "      quickchartButtonEl.classList.add('colab-df-quickchart-complete');\n",
              "    }\n",
              "    (() => {\n",
              "      let quickchartButtonEl =\n",
              "        document.querySelector('#df-efddde69-6266-4b08-8c7d-58cb22ee5f07 button');\n",
              "      quickchartButtonEl.style.display =\n",
              "        google.colab.kernel.accessAllowed ? 'block' : 'none';\n",
              "    })();\n",
              "  </script>\n",
              "</div>\n",
              "\n",
              "    </div>\n",
              "  </div>\n"
            ],
            "application/vnd.google.colaboratory.intrinsic+json": {
              "type": "dataframe",
              "summary": "{\n  \"name\": \"df\",\n  \"rows\": 2,\n  \"fields\": [\n    {\n      \"column\": [\n        \"prevalentHyp\",\n        \"\"\n      ],\n      \"properties\": {\n        \"dtype\": \"number\",\n        \"std\": 0,\n        \"min\": 0,\n        \"max\": 1,\n        \"num_unique_values\": 2,\n        \"samples\": [\n          1,\n          0\n        ],\n        \"semantic_type\": \"\",\n        \"description\": \"\"\n      }\n    },\n    {\n      \"column\": [\n        \"cigsPerDay\",\n        \"count\"\n      ],\n      \"properties\": {\n        \"dtype\": \"number\",\n        \"std\": 804.6875169902911,\n        \"min\": 1021.0,\n        \"max\": 2159.0,\n        \"num_unique_values\": 2,\n        \"samples\": [\n          1021.0,\n          2159.0\n        ],\n        \"semantic_type\": \"\",\n        \"description\": \"\"\n      }\n    },\n    {\n      \"column\": [\n        \"cigsPerDay\",\n        \"mean\"\n      ],\n      \"properties\": {\n        \"dtype\": \"number\",\n        \"std\": 1.1983780323566027,\n        \"min\": 7.752203721841332,\n        \"max\": 9.446966188050023,\n        \"num_unique_values\": 2,\n        \"samples\": [\n          7.752203721841332,\n          9.446966188050023\n        ],\n        \"semantic_type\": \"\",\n        \"description\": \"\"\n      }\n    },\n    {\n      \"column\": [\n        \"cigsPerDay\",\n        \"std\"\n      ],\n      \"properties\": {\n        \"dtype\": \"number\",\n        \"std\": 0.052224807000860775,\n        \"min\": 11.945421093121748,\n        \"max\": 12.019278123474683,\n        \"num_unique_values\": 2,\n        \"samples\": [\n          12.019278123474683,\n          11.945421093121748\n        ],\n        \"semantic_type\": \"\",\n        \"description\": \"\"\n      }\n    },\n    {\n      \"column\": [\n        \"cigsPerDay\",\n        \"min\"\n      ],\n      \"properties\": {\n        \"dtype\": \"number\",\n        \"std\": 0.0,\n        \"min\": 0.0,\n        \"max\": 0.0,\n        \"num_unique_values\": 1,\n        \"samples\": [\n          0.0\n        ],\n        \"semantic_type\": \"\",\n        \"description\": \"\"\n      }\n    },\n    {\n      \"column\": [\n        \"cigsPerDay\",\n        \"25%\"\n      ],\n      \"properties\": {\n        \"dtype\": \"number\",\n        \"std\": 0.0,\n        \"min\": 0.0,\n        \"max\": 0.0,\n        \"num_unique_values\": 1,\n        \"samples\": [\n          0.0\n        ],\n        \"semantic_type\": \"\",\n        \"description\": \"\"\n      }\n    },\n    {\n      \"column\": [\n        \"cigsPerDay\",\n        \"50%\"\n      ],\n      \"properties\": {\n        \"dtype\": \"number\",\n        \"std\": 1.4142135623730951,\n        \"min\": 0.0,\n        \"max\": 2.0,\n        \"num_unique_values\": 2,\n        \"samples\": [\n          0.0\n        ],\n        \"semantic_type\": \"\",\n        \"description\": \"\"\n      }\n    },\n    {\n      \"column\": [\n        \"cigsPerDay\",\n        \"75%\"\n      ],\n      \"properties\": {\n        \"dtype\": \"number\",\n        \"std\": 3.5355339059327378,\n        \"min\": 15.0,\n        \"max\": 20.0,\n        \"num_unique_values\": 2,\n        \"samples\": [\n          15.0\n        ],\n        \"semantic_type\": \"\",\n        \"description\": \"\"\n      }\n    },\n    {\n      \"column\": [\n        \"cigsPerDay\",\n        \"max\"\n      ],\n      \"properties\": {\n        \"dtype\": \"number\",\n        \"std\": 7.0710678118654755,\n        \"min\": 60.0,\n        \"max\": 70.0,\n        \"num_unique_values\": 2,\n        \"samples\": [\n          70.0\n        ],\n        \"semantic_type\": \"\",\n        \"description\": \"\"\n      }\n    }\n  ]\n}"
            }
          },
          "metadata": {},
          "execution_count": 30
        }
      ]
    },
    {
      "cell_type": "code",
      "source": [
        "#less hypertension in those who smoke?\n",
        "sns.scatterplot(data=df, x='age', y='cigsPerDay', hue='prevalentHyp')\n",
        "plt.legend(title='Hypertension', labels=['No', 'Yes'])\n",
        "plt.show()"
      ],
      "metadata": {
        "id": "dIR_P4pULCCX",
        "outputId": "8c5a475c-2f56-4eec-ddd3-f934b4e927f5",
        "colab": {
          "base_uri": "https://localhost:8080/",
          "height": 449
        }
      },
      "id": "dIR_P4pULCCX",
      "execution_count": 31,
      "outputs": [
        {
          "output_type": "display_data",
          "data": {
            "text/plain": [
              "<Figure size 640x480 with 1 Axes>"
            ],
            "image/png": "[encoded data removed]"
          },
          "metadata": {}
        }
      ]
    },
    {
      "cell_type": "code",
      "source": [
        "#wrong strategy, not much going on here except hypertension as you age, but also expected"
      ],
      "metadata": {
        "id": "tnBAzFHwMTSm"
      },
      "id": "tnBAzFHwMTSm",
      "execution_count": 32,
      "outputs": []
    },
    {
      "cell_type": "code",
      "source": [
        "\n",
        "sns.kdeplot(x=np.log(df['cigsPerDay']), hue=df['diabetes'])"
      ],
      "metadata": {
        "id": "mVrADQZSMD_w",
        "outputId": "d29dc9e0-1091-4f37-8dfb-be497ca55eb3",
        "colab": {
          "base_uri": "https://localhost:8080/",
          "height": 500
        }
      },
      "id": "mVrADQZSMD_w",
      "execution_count": 33,
      "outputs": [
        {
          "output_type": "stream",
          "name": "stderr",
          "text": [
            "/usr/local/lib/python3.10/dist-packages/pandas/core/arraylike.py:396: RuntimeWarning: divide by zero encountered in log\n",
            "  result = getattr(ufunc, method)(*inputs, **kwargs)\n"
          ]
        },
        {
          "output_type": "execute_result",
          "data": {
            "text/plain": [
              "<Axes: xlabel='cigsPerDay', ylabel='Density'>"
            ]
          },
          "metadata": {},
          "execution_count": 33
        },
        {
          "output_type": "display_data",
          "data": {
            "text/plain": [
              "<Figure size 640x480 with 1 Axes>"
            ],
            "image/png": "[encoded data removed]"
          },
          "metadata": {}
        }
      ]
    },
    {
      "cell_type": "code",
      "source": [
        "df.dropna(inplace = True)"
      ],
      "metadata": {
        "id": "opAjB542qUnz"
      },
      "id": "opAjB542qUnz",
      "execution_count": 34,
      "outputs": []
    },
    {
      "cell_type": "code",
      "source": [
        "df.head()"
      ],
      "metadata": {
        "id": "XDkv5pL8qbSU",
        "outputId": "0bf585a3-497d-485a-fec5-af0a2019629b",
        "colab": {
          "base_uri": "https://localhost:8080/",
          "height": 241
        }
      },
      "id": "XDkv5pL8qbSU",
      "execution_count": 35,
      "outputs": [
        {
          "output_type": "execute_result",
          "data": {
            "text/plain": [
              "   Unnamed: 0  sex  age  education  currentSmoker  cigsPerDay  BPMeds  \\\n",
              "0        1267    1   58        1.0              0         0.0     0.0   \n",
              "1        1209    0   40        1.0              1        15.0     0.0   \n",
              "3        1183    1   38        2.0              1        43.0     0.0   \n",
              "4        3225    0   43        1.0              0         0.0     0.0   \n",
              "6        1054    0   54        1.0              0         0.0     0.0   \n",
              "\n",
              "   prevalentStroke  prevalentHyp  diabetes  totChol  sysBP  diaBP    BMI  \\\n",
              "0                0             0         0    220.0  143.0  104.0  29.85   \n",
              "1                0             0         0    199.0  122.0   82.0  22.16   \n",
              "3                0             1         0    170.0  130.0   94.0  23.90   \n",
              "4                0             0         0    202.0  124.0   92.0  21.26   \n",
              "6                0             1         0    237.0  171.5  105.5  34.25   \n",
              "\n",
              "   heartRate  glucose  TenYearCHD  \n",
              "0         75     87.0           1  \n",
              "1         85     77.0           0  \n",
              "3        110     75.0           0  \n",
              "4         75     74.0           0  \n",
              "6         91    104.0           0  "
            ],
            "text/html": [
              "\n",
              "  <div id=\"df-4f0fefce-6d0c-4845-91fe-2a430c6c62d9\" class=\"colab-df-container\">\n",
              "    <div>\n",
              "<style scoped>\n",
              "    .dataframe tbody tr th:only-of-type {\n",
              "        vertical-align: middle;\n",
              "    }\n",
              "\n",
              "    .dataframe tbody tr th {\n",
              "        vertical-align: top;\n",
              "    }\n",
              "\n",
              "    .dataframe thead th {\n",
              "        text-align: right;\n",
              "    }\n",
              "</style>\n",
              "<table border=\"1\" class=\"dataframe\">\n",
              "  <thead>\n",
              "    <tr style=\"text-align: right;\">\n",
              "      <th></th>\n",
              "      <th>Unnamed: 0</th>\n",
              "      <th>sex</th>\n",
              "      <th>age</th>\n",
              "      <th>education</th>\n",
              "      <th>currentSmoker</th>\n",
              "      <th>cigsPerDay</th>\n",
              "      <th>BPMeds</th>\n",
              "      <th>prevalentStroke</th>\n",
              "      <th>prevalentHyp</th>\n",
              "      <th>diabetes</th>\n",
              "      <th>totChol</th>\n",
              "      <th>sysBP</th>\n",
              "      <th>diaBP</th>\n",
              "      <th>BMI</th>\n",
              "      <th>heartRate</th>\n",
              "      <th>glucose</th>\n",
              "      <th>TenYearCHD</th>\n",
              "    </tr>\n",
              "  </thead>\n",
              "  <tbody>\n",
              "    <tr>\n",
              "      <th>0</th>\n",
              "      <td>1267</td>\n",
              "      <td>1</td>\n",
              "      <td>58</td>\n",
              "      <td>1.0</td>\n",
              "      <td>0</td>\n",
              "      <td>0.0</td>\n",
              "      <td>0.0</td>\n",
              "      <td>0</td>\n",
              "      <td>0</td>\n",
              "      <td>0</td>\n",
              "      <td>220.0</td>\n",
              "      <td>143.0</td>\n",
              "      <td>104.0</td>\n",
              "      <td>29.85</td>\n",
              "      <td>75</td>\n",
              "      <td>87.0</td>\n",
              "      <td>1</td>\n",
              "    </tr>\n",
              "    <tr>\n",
              "      <th>1</th>\n",
              "      <td>1209</td>\n",
              "      <td>0</td>\n",
              "      <td>40</td>\n",
              "      <td>1.0</td>\n",
              "      <td>1</td>\n",
              "      <td>15.0</td>\n",
              "      <td>0.0</td>\n",
              "      <td>0</td>\n",
              "      <td>0</td>\n",
              "      <td>0</td>\n",
              "      <td>199.0</td>\n",
              "      <td>122.0</td>\n",
              "      <td>82.0</td>\n",
              "      <td>22.16</td>\n",
              "      <td>85</td>\n",
              "      <td>77.0</td>\n",
              "      <td>0</td>\n",
              "    </tr>\n",
              "    <tr>\n",
              "      <th>3</th>\n",
              "      <td>1183</td>\n",
              "      <td>1</td>\n",
              "      <td>38</td>\n",
              "      <td>2.0</td>\n",
              "      <td>1</td>\n",
              "      <td>43.0</td>\n",
              "      <td>0.0</td>\n",
              "      <td>0</td>\n",
              "      <td>1</td>\n",
              "      <td>0</td>\n",
              "      <td>170.0</td>\n",
              "      <td>130.0</td>\n",
              "      <td>94.0</td>\n",
              "      <td>23.90</td>\n",
              "      <td>110</td>\n",
              "      <td>75.0</td>\n",
              "      <td>0</td>\n",
              "    </tr>\n",
              "    <tr>\n",
              "      <th>4</th>\n",
              "      <td>3225</td>\n",
              "      <td>0</td>\n",
              "      <td>43</td>\n",
              "      <td>1.0</td>\n",
              "      <td>0</td>\n",
              "      <td>0.0</td>\n",
              "      <td>0.0</td>\n",
              "      <td>0</td>\n",
              "      <td>0</td>\n",
              "      <td>0</td>\n",
              "      <td>202.0</td>\n",
              "      <td>124.0</td>\n",
              "      <td>92.0</td>\n",
              "      <td>21.26</td>\n",
              "      <td>75</td>\n",
              "      <td>74.0</td>\n",
              "      <td>0</td>\n",
              "    </tr>\n",
              "    <tr>\n",
              "      <th>6</th>\n",
              "      <td>1054</td>\n",
              "      <td>0</td>\n",
              "      <td>54</td>\n",
              "      <td>1.0</td>\n",
              "      <td>0</td>\n",
              "      <td>0.0</td>\n",
              "      <td>0.0</td>\n",
              "      <td>0</td>\n",
              "      <td>1</td>\n",
              "      <td>0</td>\n",
              "      <td>237.0</td>\n",
              "      <td>171.5</td>\n",
              "      <td>105.5</td>\n",
              "      <td>34.25</td>\n",
              "      <td>91</td>\n",
              "      <td>104.0</td>\n",
              "      <td>0</td>\n",
              "    </tr>\n",
              "  </tbody>\n",
              "</table>\n",
              "</div>\n",
              "    <div class=\"colab-df-buttons\">\n",
              "\n",
              "  <div class=\"colab-df-container\">\n",
              "    <button class=\"colab-df-convert\" onclick=\"convertToInteractive('df-4f0fefce-6d0c-4845-91fe-2a430c6c62d9')\"\n",
              "            title=\"Convert this dataframe to an interactive table.\"\n",
              "            style=\"display:none;\">\n",
              "\n",
              "  <svg xmlns=\"http://www.w3.org/2000/svg\" height=\"24px\" viewBox=\"0 -960 960 960\">\n",
              "    <path d=\"M120-120v-720h720v720H120Zm60-500h600v-160H180v160Zm220 220h160v-160H400v160Zm0 220h160v-160H400v160ZM180-400h160v-160H180v160Zm440 0h160v-160H620v160ZM180-180h160v-160H180v160Zm440 0h160v-160H620v160Z\"/>\n",
              "  </svg>\n",
              "    </button>\n",
              "\n",
              "  <style>\n",
              "    .colab-df-container {\n",
              "      display:flex;\n",
              "      gap: 12px;\n",
              "    }\n",
              "\n",
              "    .colab-df-convert {\n",
              "      background-color: #E8F0FE;\n",
              "      border: none;\n",
              "      border-radius: 50%;\n",
              "      cursor: pointer;\n",
              "      display: none;\n",
              "      fill: #1967D2;\n",
              "      height: 32px;\n",
              "      padding: 0 0 0 0;\n",
              "      width: 32px;\n",
              "    }\n",
              "\n",
              "    .colab-df-convert:hover {\n",
              "      background-color: #E2EBFA;\n",
              "      box-shadow: 0px 1px 2px rgba(60, 64, 67, 0.3), 0px 1px 3px 1px rgba(60, 64, 67, 0.15);\n",
              "      fill: #174EA6;\n",
              "    }\n",
              "\n",
              "    .colab-df-buttons div {\n",
              "      margin-bottom: 4px;\n",
              "    }\n",
              "\n",
              "    [theme=dark] .colab-df-convert {\n",
              "      background-color: #3B4455;\n",
              "      fill: #D2E3FC;\n",
              "    }\n",
              "\n",
              "    [theme=dark] .colab-df-convert:hover {\n",
              "      background-color: #434B5C;\n",
              "      box-shadow: 0px 1px 3px 1px rgba(0, 0, 0, 0.15);\n",
              "      filter: drop-shadow(0px 1px 2px rgba(0, 0, 0, 0.3));\n",
              "      fill: #FFFFFF;\n",
              "    }\n",
              "  </style>\n",
              "\n",
              "    <script>\n",
              "      const buttonEl =\n",
              "        document.querySelector('#df-4f0fefce-6d0c-4845-91fe-2a430c6c62d9 button.colab-df-convert');\n",
              "      buttonEl.style.display =\n",
              "        google.colab.kernel.accessAllowed ? 'block' : 'none';\n",
              "\n",
              "      async function convertToInteractive(key) {\n",
              "        const element = document.querySelector('#df-4f0fefce-6d0c-4845-91fe-2a430c6c62d9');\n",
              "        const dataTable =\n",
              "          await google.colab.kernel.invokeFunction('convertToInteractive',\n",
              "                                                    [key], {});\n",
              "        if (!dataTable) return;\n",
              "\n",
              "        const docLinkHtml = 'Like what you see? Visit the ' +\n",
              "          '<a target=\"_blank\" href=https://colab.research.google.com/notebooks/data_table.ipynb>data table notebook</a>'\n",
              "          + ' to learn more about interactive tables.';\n",
              "        element.innerHTML = '';\n",
              "        dataTable['output_type'] = 'display_data';\n",
              "        await google.colab.output.renderOutput(dataTable, element);\n",
              "        const docLink = document.createElement('div');\n",
              "        docLink.innerHTML = docLinkHtml;\n",
              "        element.appendChild(docLink);\n",
              "      }\n",
              "    </script>\n",
              "  </div>\n",
              "\n",
              "\n",
              "<div id=\"df-7a35520c-b858-4f6d-9956-2117d2d66f96\">\n",
              "  <button class=\"colab-df-quickchart\" onclick=\"quickchart('df-7a35520c-b858-4f6d-9956-2117d2d66f96')\"\n",
              "            title=\"Suggest charts\"\n",
              "            style=\"display:none;\">\n",
              "\n",
              "<svg xmlns=\"http://www.w3.org/2000/svg\" height=\"24px\"viewBox=\"0 0 24 24\"\n",
              "     width=\"24px\">\n",
              "    <g>\n",
              "        <path d=\"M19 3H5c-1.1 0-2 .9-2 2v14c0 1.1.9 2 2 2h14c1.1 0 2-.9 2-2V5c0-1.1-.9-2-2-2zM9 17H7v-7h2v7zm4 0h-2V7h2v10zm4 0h-2v-4h2v4z\"/>\n",
              "    </g>\n",
              "</svg>\n",
              "  </button>\n",
              "\n",
              "<style>\n",
              "  .colab-df-quickchart {\n",
              "      --bg-color: #E8F0FE;\n",
              "      --fill-color: #1967D2;\n",
              "      --hover-bg-color: #E2EBFA;\n",
              "      --hover-fill-color: #174EA6;\n",
              "      --disabled-fill-color: #AAA;\n",
              "      --disabled-bg-color: #DDD;\n",
              "  }\n",
              "\n",
              "  [theme=dark] .colab-df-quickchart {\n",
              "      --bg-color: #3B4455;\n",
              "      --fill-color: #D2E3FC;\n",
              "      --hover-bg-color: #434B5C;\n",
              "      --hover-fill-color: #FFFFFF;\n",
              "      --disabled-bg-color: #3B4455;\n",
              "      --disabled-fill-color: #666;\n",
              "  }\n",
              "\n",
              "  .colab-df-quickchart {\n",
              "    background-color: var(--bg-color);\n",
              "    border: none;\n",
              "    border-radius: 50%;\n",
              "    cursor: pointer;\n",
              "    display: none;\n",
              "    fill: var(--fill-color);\n",
              "    height: 32px;\n",
              "    padding: 0;\n",
              "    width: 32px;\n",
              "  }\n",
              "\n",
              "  .colab-df-quickchart:hover {\n",
              "    background-color: var(--hover-bg-color);\n",
              "    box-shadow: 0 1px 2px rgba(60, 64, 67, 0.3), 0 1px 3px 1px rgba(60, 64, 67, 0.15);\n",
              "    fill: var(--button-hover-fill-color);\n",
              "  }\n",
              "\n",
              "  .colab-df-quickchart-complete:disabled,\n",
              "  .colab-df-quickchart-complete:disabled:hover {\n",
              "    background-color: var(--disabled-bg-color);\n",
              "    fill: var(--disabled-fill-color);\n",
              "    box-shadow: none;\n",
              "  }\n",
              "\n",
              "  .colab-df-spinner {\n",
              "    border: 2px solid var(--fill-color);\n",
              "    border-color: transparent;\n",
              "    border-bottom-color: var(--fill-color);\n",
              "    animation:\n",
              "      spin 1s steps(1) infinite;\n",
              "  }\n",
              "\n",
              "  @keyframes spin {\n",
              "    0% {\n",
              "      border-color: transparent;\n",
              "      border-bottom-color: var(--fill-color);\n",
              "      border-left-color: var(--fill-color);\n",
              "    }\n",
              "    20% {\n",
              "      border-color: transparent;\n",
              "      border-left-color: var(--fill-color);\n",
              "      border-top-color: var(--fill-color);\n",
              "    }\n",
              "    30% {\n",
              "      border-color: transparent;\n",
              "      border-left-color: var(--fill-color);\n",
              "      border-top-color: var(--fill-color);\n",
              "      border-right-color: var(--fill-color);\n",
              "    }\n",
              "    40% {\n",
              "      border-color: transparent;\n",
              "      border-right-color: var(--fill-color);\n",
              "      border-top-color: var(--fill-color);\n",
              "    }\n",
              "    60% {\n",
              "      border-color: transparent;\n",
              "      border-right-color: var(--fill-color);\n",
              "    }\n",
              "    80% {\n",
              "      border-color: transparent;\n",
              "      border-right-color: var(--fill-color);\n",
              "      border-bottom-color: var(--fill-color);\n",
              "    }\n",
              "    90% {\n",
              "      border-color: transparent;\n",
              "      border-bottom-color: var(--fill-color);\n",
              "    }\n",
              "  }\n",
              "</style>\n",
              "\n",
              "  <script>\n",
              "    async function quickchart(key) {\n",
              "      const quickchartButtonEl =\n",
              "        document.querySelector('#' + key + ' button');\n",
              "      quickchartButtonEl.disabled = true;  // To prevent multiple clicks.\n",
              "      quickchartButtonEl.classList.add('colab-df-spinner');\n",
              "      try {\n",
              "        const charts = await google.colab.kernel.invokeFunction(\n",
              "            'suggestCharts', [key], {});\n",
              "      } catch (error) {\n",
              "        console.error('Error during call to suggestCharts:', error);\n",
              "      }\n",
              "      quickchartButtonEl.classList.remove('colab-df-spinner');\n",
              "      quickchartButtonEl.classList.add('colab-df-quickchart-complete');\n",
              "    }\n",
              "    (() => {\n",
              "      let quickchartButtonEl =\n",
              "        document.querySelector('#df-7a35520c-b858-4f6d-9956-2117d2d66f96 button');\n",
              "      quickchartButtonEl.style.display =\n",
              "        google.colab.kernel.accessAllowed ? 'block' : 'none';\n",
              "    })();\n",
              "  </script>\n",
              "</div>\n",
              "\n",
              "    </div>\n",
              "  </div>\n"
            ],
            "application/vnd.google.colaboratory.intrinsic+json": {
              "type": "dataframe",
              "variable_name": "df",
              "summary": "{\n  \"name\": \"df\",\n  \"rows\": 2804,\n  \"fields\": [\n    {\n      \"column\": \"Unnamed: 0\",\n      \"properties\": {\n        \"dtype\": \"number\",\n        \"std\": 1237,\n        \"min\": 1,\n        \"max\": 4240,\n        \"num_unique_values\": 2804,\n        \"samples\": [\n          3556,\n          41,\n          2363\n        ],\n        \"semantic_type\": \"\",\n        \"description\": \"\"\n      }\n    },\n    {\n      \"column\": \"sex\",\n      \"properties\": {\n        \"dtype\": \"number\",\n        \"std\": 0,\n        \"min\": 0,\n        \"max\": 1,\n        \"num_unique_values\": 2,\n        \"samples\": [\n          0,\n          1\n        ],\n        \"semantic_type\": \"\",\n        \"description\": \"\"\n      }\n    },\n    {\n      \"column\": \"age\",\n      \"properties\": {\n        \"dtype\": \"number\",\n        \"std\": 8,\n        \"min\": 32,\n        \"max\": 70,\n        \"num_unique_values\": 39,\n        \"samples\": [\n          67,\n          32\n        ],\n        \"semantic_type\": \"\",\n        \"description\": \"\"\n      }\n    },\n    {\n      \"column\": \"education\",\n      \"properties\": {\n        \"dtype\": \"number\",\n        \"std\": 1.0107174008018671,\n        \"min\": 1.0,\n        \"max\": 4.0,\n        \"num_unique_values\": 4,\n        \"samples\": [\n          2.0,\n          3.0\n        ],\n        \"semantic_type\": \"\",\n        \"description\": \"\"\n      }\n    },\n    {\n      \"column\": \"currentSmoker\",\n      \"properties\": {\n        \"dtype\": \"number\",\n        \"std\": 0,\n        \"min\": 0,\n        \"max\": 1,\n        \"num_unique_values\": 2,\n        \"samples\": [\n          1,\n          0\n        ],\n        \"semantic_type\": \"\",\n        \"description\": \"\"\n      }\n    },\n    {\n      \"column\": \"cigsPerDay\",\n      \"properties\": {\n        \"dtype\": \"number\",\n        \"std\": 12.028498526656442,\n        \"min\": 0.0,\n        \"max\": 70.0,\n        \"num_unique_values\": 33,\n        \"samples\": [\n          38.0,\n          8.0\n        ],\n        \"semantic_type\": \"\",\n        \"description\": \"\"\n      }\n    },\n    {\n      \"column\": \"BPMeds\",\n      \"properties\": {\n        \"dtype\": \"number\",\n        \"std\": 0.16951290381288064,\n        \"min\": 0.0,\n        \"max\": 1.0,\n        \"num_unique_values\": 2,\n        \"samples\": [\n          1.0,\n          0.0\n        ],\n        \"semantic_type\": \"\",\n        \"description\": \"\"\n      }\n    },\n    {\n      \"column\": \"prevalentStroke\",\n      \"properties\": {\n        \"dtype\": \"number\",\n        \"std\": 0,\n        \"min\": 0,\n        \"max\": 1,\n        \"num_unique_values\": 2,\n        \"samples\": [\n          1,\n          0\n        ],\n        \"semantic_type\": \"\",\n        \"description\": \"\"\n      }\n    },\n    {\n      \"column\": \"prevalentHyp\",\n      \"properties\": {\n        \"dtype\": \"number\",\n        \"std\": 0,\n        \"min\": 0,\n        \"max\": 1,\n        \"num_unique_values\": 2,\n        \"samples\": [\n          1,\n          0\n        ],\n        \"semantic_type\": \"\",\n        \"description\": \"\"\n      }\n    },\n    {\n      \"column\": \"diabetes\",\n      \"properties\": {\n        \"dtype\": \"number\",\n        \"std\": 0,\n        \"min\": 0,\n        \"max\": 1,\n        \"num_unique_values\": 2,\n        \"samples\": [\n          1,\n          0\n        ],\n        \"semantic_type\": \"\",\n        \"description\": \"\"\n      }\n    },\n    {\n      \"column\": \"totChol\",\n      \"properties\": {\n        \"dtype\": \"number\",\n        \"std\": 44.182935173836725,\n        \"min\": 113.0,\n        \"max\": 600.0,\n        \"num_unique_values\": 237,\n        \"samples\": [\n          328.0,\n          193.0\n        ],\n        \"semantic_type\": \"\",\n        \"description\": \"\"\n      }\n    },\n    {\n      \"column\": \"sysBP\",\n      \"properties\": {\n        \"dtype\": \"number\",\n        \"std\": 22.422315503408196,\n        \"min\": 83.5,\n        \"max\": 295.0,\n        \"num_unique_values\": 227,\n        \"samples\": [\n          135.0,\n          156.0\n        ],\n        \"semantic_type\": \"\",\n        \"description\": \"\"\n      }\n    },\n    {\n      \"column\": \"diaBP\",\n      \"properties\": {\n        \"dtype\": \"number\",\n        \"std\": 12.048165732128428,\n        \"min\": 51.0,\n        \"max\": 142.5,\n        \"num_unique_values\": 134,\n        \"samples\": [\n          124.5,\n          67.5\n        ],\n        \"semantic_type\": \"\",\n        \"description\": \"\"\n      }\n    },\n    {\n      \"column\": \"BMI\",\n      \"properties\": {\n        \"dtype\": \"number\",\n        \"std\": 4.14914286103365,\n        \"min\": 15.54,\n        \"max\": 56.8,\n        \"num_unique_values\": 1178,\n        \"samples\": [\n          25.94,\n          40.52\n        ],\n        \"semantic_type\": \"\",\n        \"description\": \"\"\n      }\n    },\n    {\n      \"column\": \"heartRate\",\n      \"properties\": {\n        \"dtype\": \"number\",\n        \"std\": 11,\n        \"min\": 44,\n        \"max\": 140,\n        \"num_unique_values\": 69,\n        \"samples\": [\n          65,\n          75\n        ],\n        \"semantic_type\": \"\",\n        \"description\": \"\"\n      }\n    },\n    {\n      \"column\": \"glucose\",\n      \"properties\": {\n        \"dtype\": \"number\",\n        \"std\": 23.305416463727017,\n        \"min\": 40.0,\n        \"max\": 394.0,\n        \"num_unique_values\": 126,\n        \"samples\": [\n          114.0,\n          72.0\n        ],\n        \"semantic_type\": \"\",\n        \"description\": \"\"\n      }\n    },\n    {\n      \"column\": \"TenYearCHD\",\n      \"properties\": {\n        \"dtype\": \"number\",\n        \"std\": 0,\n        \"min\": 0,\n        \"max\": 1,\n        \"num_unique_values\": 2,\n        \"samples\": [\n          0,\n          1\n        ],\n        \"semantic_type\": \"\",\n        \"description\": \"\"\n      }\n    }\n  ]\n}"
            }
          },
          "metadata": {},
          "execution_count": 35
        }
      ]
    },
    {
      "cell_type": "code",
      "source": [
        "from sklearn.impute import SimpleImputer\n",
        "imputer = SimpleImputer(strategy='mean')\n",
        "X_train_imputed = imputer.fit_transform(X_train)\n",
        "X_test_imputed = imputer.transform(X_test)\n",
        "reg = linear_model.LinearRegression(fit_intercept=False).fit(X_train_imputed, y_train)\n",
        "y_hat = reg.predict(X_test_imputed)\n",
        "\n",
        "#calculating R^2\n",
        "print('Rsq: ', reg.score(X_test_imputed, y_test))\n",
        "rmse = np.sqrt(np.mean((y_test - y_hat)**2))\n",
        "print('RMSE: ', rmse)\n",
        "results = pd.DataFrame({'variable': X.columns, 'coefficient': reg.coef_})\n",
        "print(results)"
      ],
      "metadata": {
        "id": "GVR82BiZQccQ",
        "outputId": "af6b327f-a889-4111-c098-8982e7505772",
        "colab": {
          "base_uri": "https://localhost:8080/",
          "height": 207
        }
      },
      "id": "GVR82BiZQccQ",
      "execution_count": 36,
      "outputs": [
        {
          "output_type": "error",
          "ename": "NameError",
          "evalue": "name 'X_train' is not defined",
          "traceback": [
            "\u001b[0;31m---------------------------------------------------------------------------\u001b[0m",
            "\u001b[0;31mNameError\u001b[0m                                 Traceback (most recent call last)",
            "\u001b[0;32m<ipython-input-36-c259adc2f4fb>\u001b[0m in \u001b[0;36m<cell line: 3>\u001b[0;34m()\u001b[0m\n\u001b[1;32m      1\u001b[0m \u001b[0;32mfrom\u001b[0m \u001b[0msklearn\u001b[0m\u001b[0;34m.\u001b[0m\u001b[0mimpute\u001b[0m \u001b[0;32mimport\u001b[0m \u001b[0mSimpleImputer\u001b[0m\u001b[0;34m\u001b[0m\u001b[0;34m\u001b[0m\u001b[0m\n\u001b[1;32m      2\u001b[0m \u001b[0mimputer\u001b[0m \u001b[0;34m=\u001b[0m \u001b[0mSimpleImputer\u001b[0m\u001b[0;34m(\u001b[0m\u001b[0mstrategy\u001b[0m\u001b[0;34m=\u001b[0m\u001b[0;34m'mean'\u001b[0m\u001b[0;34m)\u001b[0m\u001b[0;34m\u001b[0m\u001b[0;34m\u001b[0m\u001b[0m\n\u001b[0;32m----> 3\u001b[0;31m \u001b[0mX_train_imputed\u001b[0m \u001b[0;34m=\u001b[0m \u001b[0mimputer\u001b[0m\u001b[0;34m.\u001b[0m\u001b[0mfit_transform\u001b[0m\u001b[0;34m(\u001b[0m\u001b[0mX_train\u001b[0m\u001b[0;34m)\u001b[0m\u001b[0;34m\u001b[0m\u001b[0;34m\u001b[0m\u001b[0m\n\u001b[0m\u001b[1;32m      4\u001b[0m \u001b[0mX_test_imputed\u001b[0m \u001b[0;34m=\u001b[0m \u001b[0mimputer\u001b[0m\u001b[0;34m.\u001b[0m\u001b[0mtransform\u001b[0m\u001b[0;34m(\u001b[0m\u001b[0mX_test\u001b[0m\u001b[0;34m)\u001b[0m\u001b[0;34m\u001b[0m\u001b[0;34m\u001b[0m\u001b[0m\n\u001b[1;32m      5\u001b[0m \u001b[0mreg\u001b[0m \u001b[0;34m=\u001b[0m \u001b[0mlinear_model\u001b[0m\u001b[0;34m.\u001b[0m\u001b[0mLinearRegression\u001b[0m\u001b[0;34m(\u001b[0m\u001b[0mfit_intercept\u001b[0m\u001b[0;34m=\u001b[0m\u001b[0;32mFalse\u001b[0m\u001b[0;34m)\u001b[0m\u001b[0;34m.\u001b[0m\u001b[0mfit\u001b[0m\u001b[0;34m(\u001b[0m\u001b[0mX_train_imputed\u001b[0m\u001b[0;34m,\u001b[0m \u001b[0my_train\u001b[0m\u001b[0;34m)\u001b[0m\u001b[0;34m\u001b[0m\u001b[0;34m\u001b[0m\u001b[0m\n",
            "\u001b[0;31mNameError\u001b[0m: name 'X_train' is not defined"
          ]
        }
      ]
    },
    {
      "cell_type": "code",
      "source": [
        "#doesnt tell us much other than the fact that stroke adn diabetes are the most prominent\n",
        "#indicators"
      ],
      "metadata": {
        "id": "9maJXME9sieA"
      },
      "id": "9maJXME9sieA",
      "execution_count": null,
      "outputs": []
    },
    {
      "cell_type": "code",
      "source": [
        "from sklearn.impute import SimpleImputer\n",
        "X = df[['cigsPerDay', 'BPMeds', 'prevalentStroke', 'prevalentHyp', 'diabetes',\n",
        "        'totChol']]\n",
        "imputer = SimpleImputer(strategy='mean')\n",
        "X_imputed = imputer.fit_transform(X)\n",
        "X_train, X_test, y_train, y_test = train_test_split(X_imputed, y, test_size=0.2, random_state=100)\n",
        "reg = linear_model.LinearRegression(fit_intercept=False).fit(X_train, y_train)\n",
        "y_hat = reg.predict(X_test)\n",
        "print('Rsq: ', reg.score(X_test, y_test))\n",
        "rmse = np.sqrt(np.mean((y_test - y_hat)**2))\n",
        "print('RMSE: ', rmse)\n",
        "results = pd.DataFrame({'variable': ['cigsPerDay', 'BPmeds', 'prevalentStroke',\n",
        "                                      'prevalentHyp', 'diabetes', 'totChol'],\n",
        "                        'coefficient': reg.coef_})\n",
        "print(results)\n"
      ],
      "metadata": {
        "id": "4iIbSFPzrsO1",
        "outputId": "a70a84b2-b007-4203-e31f-cc523b501b3b",
        "colab": {
          "base_uri": "https://localhost:8080/",
          "height": 207
        }
      },
      "id": "4iIbSFPzrsO1",
      "execution_count": 37,
      "outputs": [
        {
          "output_type": "error",
          "ename": "NameError",
          "evalue": "name 'train_test_split' is not defined",
          "traceback": [
            "\u001b[0;31m---------------------------------------------------------------------------\u001b[0m",
            "\u001b[0;31mNameError\u001b[0m                                 Traceback (most recent call last)",
            "\u001b[0;32m<ipython-input-37-04a4831032e1>\u001b[0m in \u001b[0;36m<cell line: 6>\u001b[0;34m()\u001b[0m\n\u001b[1;32m      4\u001b[0m \u001b[0mimputer\u001b[0m \u001b[0;34m=\u001b[0m \u001b[0mSimpleImputer\u001b[0m\u001b[0;34m(\u001b[0m\u001b[0mstrategy\u001b[0m\u001b[0;34m=\u001b[0m\u001b[0;34m'mean'\u001b[0m\u001b[0;34m)\u001b[0m\u001b[0;34m\u001b[0m\u001b[0;34m\u001b[0m\u001b[0m\n\u001b[1;32m      5\u001b[0m \u001b[0mX_imputed\u001b[0m \u001b[0;34m=\u001b[0m \u001b[0mimputer\u001b[0m\u001b[0;34m.\u001b[0m\u001b[0mfit_transform\u001b[0m\u001b[0;34m(\u001b[0m\u001b[0mX\u001b[0m\u001b[0;34m)\u001b[0m\u001b[0;34m\u001b[0m\u001b[0;34m\u001b[0m\u001b[0m\n\u001b[0;32m----> 6\u001b[0;31m \u001b[0mX_train\u001b[0m\u001b[0;34m,\u001b[0m \u001b[0mX_test\u001b[0m\u001b[0;34m,\u001b[0m \u001b[0my_train\u001b[0m\u001b[0;34m,\u001b[0m \u001b[0my_test\u001b[0m \u001b[0;34m=\u001b[0m \u001b[0mtrain_test_split\u001b[0m\u001b[0;34m(\u001b[0m\u001b[0mX_imputed\u001b[0m\u001b[0;34m,\u001b[0m \u001b[0my\u001b[0m\u001b[0;34m,\u001b[0m \u001b[0mtest_size\u001b[0m\u001b[0;34m=\u001b[0m\u001b[0;36m0.2\u001b[0m\u001b[0;34m,\u001b[0m \u001b[0mrandom_state\u001b[0m\u001b[0;34m=\u001b[0m\u001b[0;36m100\u001b[0m\u001b[0;34m)\u001b[0m\u001b[0;34m\u001b[0m\u001b[0;34m\u001b[0m\u001b[0m\n\u001b[0m\u001b[1;32m      7\u001b[0m \u001b[0mreg\u001b[0m \u001b[0;34m=\u001b[0m \u001b[0mlinear_model\u001b[0m\u001b[0;34m.\u001b[0m\u001b[0mLinearRegression\u001b[0m\u001b[0;34m(\u001b[0m\u001b[0mfit_intercept\u001b[0m\u001b[0;34m=\u001b[0m\u001b[0;32mFalse\u001b[0m\u001b[0;34m)\u001b[0m\u001b[0;34m.\u001b[0m\u001b[0mfit\u001b[0m\u001b[0;34m(\u001b[0m\u001b[0mX_train\u001b[0m\u001b[0;34m,\u001b[0m \u001b[0my_train\u001b[0m\u001b[0;34m)\u001b[0m\u001b[0;34m\u001b[0m\u001b[0;34m\u001b[0m\u001b[0m\n\u001b[1;32m      8\u001b[0m \u001b[0my_hat\u001b[0m \u001b[0;34m=\u001b[0m \u001b[0mreg\u001b[0m\u001b[0;34m.\u001b[0m\u001b[0mpredict\u001b[0m\u001b[0;34m(\u001b[0m\u001b[0mX_test\u001b[0m\u001b[0;34m)\u001b[0m\u001b[0;34m\u001b[0m\u001b[0;34m\u001b[0m\u001b[0m\n",
            "\u001b[0;31mNameError\u001b[0m: name 'train_test_split' is not defined"
          ]
        }
      ]
    },
    {
      "cell_type": "code",
      "source": [
        "#based on my variables, prevalent stroke and diabetes follow same pattern. Keepingg\n",
        "#in mind that prevalent stroke has 21 sample size, not super statistically signifiacnt"
      ],
      "metadata": {
        "id": "RyDuwVmNsq7t"
      },
      "id": "RyDuwVmNsq7t",
      "execution_count": null,
      "outputs": []
    },
    {
      "cell_type": "code",
      "source": [
        "df.columns.unique()\n",
        "\n",
        "# Cleaning sysBP, diaBP, BMI, heartRate, glucose"
      ],
      "metadata": {
        "id": "f_bAfGZauNVv",
        "outputId": "347e1776-b750-459f-d355-c04ce1a960a4",
        "colab": {
          "base_uri": "https://localhost:8080/"
        }
      },
      "id": "f_bAfGZauNVv",
      "execution_count": 38,
      "outputs": [
        {
          "output_type": "execute_result",
          "data": {
            "text/plain": [
              "Index(['Unnamed: 0', 'sex', 'age', 'education', 'currentSmoker', 'cigsPerDay',\n",
              "       'BPMeds', 'prevalentStroke', 'prevalentHyp', 'diabetes', 'totChol',\n",
              "       'sysBP', 'diaBP', 'BMI', 'heartRate', 'glucose', 'TenYearCHD'],\n",
              "      dtype='object')"
            ]
          },
          "metadata": {},
          "execution_count": 38
        }
      ]
    },
    {
      "cell_type": "code",
      "source": [
        "df['sysBP'].unique()\n"
      ],
      "metadata": {
        "id": "96x-aWxsuP1y",
        "outputId": "bfc0924a-885b-422f-92a4-c9c2b3985ad4",
        "colab": {
          "base_uri": "https://localhost:8080/"
        }
      },
      "id": "96x-aWxsuP1y",
      "execution_count": 39,
      "outputs": [
        {
          "output_type": "execute_result",
          "data": {
            "text/plain": [
              "array([143. , 122. , 130. , 124. , 171.5, 138. , 114. , 134.5, 100.5,\n",
              "       135. , 117.5, 133. , 142. , 120. , 131. , 113. , 110. , 131.5,\n",
              "       101. , 102.5, 127.5, 116. , 112. , 146. , 115. , 127. , 140.5,\n",
              "       132. , 112.5, 145. , 148. , 141. , 150. ,  99. , 195. , 107.5,\n",
              "       109. , 116.5, 165. , 149. , 183. ,  93.5, 140. , 124.5, 193. ,\n",
              "       122.5, 102. , 134. , 132.5, 128. , 111. , 106. , 129. , 178. ,\n",
              "       125. , 137.5, 151.5, 153. , 162. , 188. , 174. , 142.5, 157. ,\n",
              "       111.5, 113.5, 192.5, 105.5, 146.5, 160. , 147. , 158. , 214. ,\n",
              "       151. , 152. , 155.5, 155. , 144. , 121. , 117. , 105. ,  96. ,\n",
              "       160.5, 137. , 126. , 126.5, 136. , 118. , 190. , 184.5,  94. ,\n",
              "       119. , 180. , 147.5, 108. , 199. , 130.5, 119.5, 118.5, 175. ,\n",
              "       154. , 152.5, 197. , 150.5, 139. , 100. , 133.5, 143.5, 173. ,\n",
              "       107. , 123. , 220. , 168.5, 187. , 205. , 164.5,  98. , 172.5,\n",
              "       185. , 163. , 159. , 120.5, 103. , 144.5, 202.5,  92. , 244. ,\n",
              "       168. , 205.5, 136.5, 167. , 110.5, 166.5, 109.5, 170.5, 163.5,\n",
              "       206. , 176. , 108.5, 139.5, 194. , 121.5, 162.5, 104. , 156. ,\n",
              "       145.5,  97. , 196. , 171. , 164. , 161.5, 184. , 135.5,  97.5,\n",
              "       166. , 156.5, 170. , 202. , 154.5, 192. , 159.5,  98.5, 177.5,\n",
              "       182. ,  95. , 179. , 123.5, 153.5, 215. ,  83.5, 161. , 172. ,\n",
              "       141.5,  90. , 128.5, 169. , 138.5, 199.5, 125.5, 115.5,  95.5,\n",
              "        96.5,  92.5, 177. , 157.5, 189. , 186. , 210. , 114.5, 180.5,\n",
              "       213. , 200. , 187.5, 167.5, 185.5,  85. , 129.5, 148.5, 201. ,\n",
              "       197.5, 295. ,  93. , 209. , 182.5, 179.5, 106.5, 181. , 158.5,\n",
              "       188.5, 149.5, 204. , 208. , 248. , 191. , 101.5, 181.5, 212. ,\n",
              "       104.5,  85.5, 198. , 103.5, 243. , 232. , 175.5, 186.5, 217. ,\n",
              "       230. , 169.5])"
            ]
          },
          "metadata": {},
          "execution_count": 39
        }
      ]
    },
    {
      "cell_type": "code",
      "source": [
        "df['sysBP'].value_counts()\n"
      ],
      "metadata": {
        "id": "FB87LM3yuR2Z",
        "outputId": "3851d2e6-dae7-4506-d0f7-b58b27dce437",
        "colab": {
          "base_uri": "https://localhost:8080/"
        }
      },
      "id": "FB87LM3yuR2Z",
      "execution_count": 40,
      "outputs": [
        {
          "output_type": "execute_result",
          "data": {
            "text/plain": [
              "sysBP\n",
              "130.0    65\n",
              "120.0    62\n",
              "110.0    62\n",
              "115.0    61\n",
              "125.0    60\n",
              "         ..\n",
              "119.5     1\n",
              "98.5      1\n",
              "295.0     1\n",
              "214.0     1\n",
              "169.5     1\n",
              "Name: count, Length: 227, dtype: int64"
            ]
          },
          "metadata": {},
          "execution_count": 40
        }
      ]
    },
    {
      "cell_type": "code",
      "source": [
        "df['sysBP'].plot.density()\n"
      ],
      "metadata": {
        "id": "eH-LsWO4uTuq",
        "outputId": "de5bca3b-7afe-440b-9eed-3599cca33756",
        "colab": {
          "base_uri": "https://localhost:8080/",
          "height": 447
        }
      },
      "id": "eH-LsWO4uTuq",
      "execution_count": 41,
      "outputs": [
        {
          "output_type": "execute_result",
          "data": {
            "text/plain": [
              "<Axes: ylabel='Density'>"
            ]
          },
          "metadata": {},
          "execution_count": 41
        },
        {
          "output_type": "display_data",
          "data": {
            "text/plain": [
              "<Figure size 640x480 with 1 Axes>"
            ],
            "image/png": "[encoded data removed]"
          },
          "metadata": {}
        }
      ]
    },
    {
      "cell_type": "code",
      "source": [
        "df['diaBP'].unique()\n"
      ],
      "metadata": {
        "id": "zgwXlc1QuVnT",
        "outputId": "0a57e157-238f-49df-e798-9270fbce2c4b",
        "colab": {
          "base_uri": "https://localhost:8080/"
        }
      },
      "id": "zgwXlc1QuVnT",
      "execution_count": 42,
      "outputs": [
        {
          "output_type": "execute_result",
          "data": {
            "text/plain": [
              "array([104. ,  82. ,  94. ,  92. , 105.5,  96. ,  76. ,  87. ,  66. ,\n",
              "        80. ,  82.5,  86. ,  90. ,  85. ,  68. ,  68.5,  72.5,  81.5,\n",
              "        84. ,  78. ,  75. ,  66.5,  77.5,  76.5,  95. ,  77. ,  93. ,\n",
              "        70. ,  62. , 100. , 110. ,  73. ,  81. ,  62.5, 108. ,  58. ,\n",
              "        92.5,  69. ,  89.5,  85.5, 103. ,  61. ,  79. ,  83. , 106. ,\n",
              "        71. ,  63.5,  97. , 104.5,  98. ,  74. , 113. ,  57.5,  73.5,\n",
              "        65. , 109. , 102. ,  99.5,  84.5,  72. ,  80.5,  88. ,  78.5,\n",
              "        90.5,  86.5,  74.5,  67.5,  67. ,  89. ,  99. ,  97.5,  91. ,\n",
              "       118. ,  63. ,  79.5,  98.5, 128. , 107.5, 130. ,  87.5, 105. ,\n",
              "        71.5, 101. ,  91.5,  88.5, 124. , 107. ,  94.5, 106.5, 100.5,\n",
              "       111. ,  64. , 115. ,  57. ,  64.5, 119. , 112. , 102.5,  93.5,\n",
              "        60. ,  83.5,  69.5, 120. ,  70.5, 103.5, 109.5,  55. ,  96.5,\n",
              "        95.5,  59. ,  75.5, 112.5, 133. ,  54. , 115.5,  65.5, 114. ,\n",
              "       125. ,  52. , 110.5, 135. , 121. ,  59.5, 116. ,  56. , 136. ,\n",
              "        51. , 124.5, 117. ,  60.5, 142.5, 108.5, 116.5, 122.5])"
            ]
          },
          "metadata": {},
          "execution_count": 42
        }
      ]
    },
    {
      "cell_type": "code",
      "source": [
        "df['diaBP'].value_counts()\n"
      ],
      "metadata": {
        "id": "Wwv7hTl4uXva",
        "outputId": "156d72cd-5c15-42c5-d96f-97f9d0e99889",
        "colab": {
          "base_uri": "https://localhost:8080/"
        }
      },
      "id": "Wwv7hTl4uXva",
      "execution_count": 43,
      "outputs": [
        {
          "output_type": "execute_result",
          "data": {
            "text/plain": [
              "diaBP\n",
              "80.0     170\n",
              "82.0      96\n",
              "85.0      92\n",
              "84.0      91\n",
              "81.0      84\n",
              "        ... \n",
              "69.5       1\n",
              "115.5      1\n",
              "54.0       1\n",
              "109.5      1\n",
              "122.5      1\n",
              "Name: count, Length: 134, dtype: int64"
            ]
          },
          "metadata": {},
          "execution_count": 43
        }
      ]
    },
    {
      "cell_type": "code",
      "source": [
        "df['diaBP'].plot.density()\n"
      ],
      "metadata": {
        "id": "-EQNc75guZVd",
        "outputId": "6a90fa60-4cd6-4892-e855-a835831ec3d9",
        "colab": {
          "base_uri": "https://localhost:8080/",
          "height": 447
        }
      },
      "id": "-EQNc75guZVd",
      "execution_count": 44,
      "outputs": [
        {
          "output_type": "execute_result",
          "data": {
            "text/plain": [
              "<Axes: ylabel='Density'>"
            ]
          },
          "metadata": {},
          "execution_count": 44
        },
        {
          "output_type": "display_data",
          "data": {
            "text/plain": [
              "<Figure size 640x480 with 1 Axes>"
            ],
            "image/png": "[encoded data removed]"
          },
          "metadata": {}
        }
      ]
    },
    {
      "cell_type": "code",
      "source": [
        "df['BMI'].unique()\n"
      ],
      "metadata": {
        "id": "bS_13U6eubEh",
        "outputId": "8ebc5043-a9a2-43c2-c7e8-d803714e0107",
        "colab": {
          "base_uri": "https://localhost:8080/"
        }
      },
      "id": "bS_13U6eubEh",
      "execution_count": 45,
      "outputs": [
        {
          "output_type": "execute_result",
          "data": {
            "text/plain": [
              "array([29.85, 22.16, 23.9 , ..., 37.04, 38.31, 26.78])"
            ]
          },
          "metadata": {},
          "execution_count": 45
        }
      ]
    },
    {
      "cell_type": "code",
      "source": [
        "df['BMI'].value_counts()\n"
      ],
      "metadata": {
        "id": "IAW6zzP-udOn",
        "outputId": "67b84bfc-56b3-4564-81aa-18beda1fe261",
        "colab": {
          "base_uri": "https://localhost:8080/"
        }
      },
      "id": "IAW6zzP-udOn",
      "execution_count": 46,
      "outputs": [
        {
          "output_type": "execute_result",
          "data": {
            "text/plain": [
              "BMI\n",
              "23.48    17\n",
              "22.54    12\n",
              "22.91    12\n",
              "23.09    11\n",
              "25.23    10\n",
              "         ..\n",
              "39.64     1\n",
              "29.03     1\n",
              "56.80     1\n",
              "17.65     1\n",
              "26.78     1\n",
              "Name: count, Length: 1178, dtype: int64"
            ]
          },
          "metadata": {},
          "execution_count": 46
        }
      ]
    },
    {
      "cell_type": "code",
      "source": [
        "df['BMI'].plot.density()\n"
      ],
      "metadata": {
        "id": "IbfbkVaVue43",
        "outputId": "c53aad84-ad51-4ede-d712-0a86f66f0880",
        "colab": {
          "base_uri": "https://localhost:8080/",
          "height": 447
        }
      },
      "id": "IbfbkVaVue43",
      "execution_count": 47,
      "outputs": [
        {
          "output_type": "execute_result",
          "data": {
            "text/plain": [
              "<Axes: ylabel='Density'>"
            ]
          },
          "metadata": {},
          "execution_count": 47
        },
        {
          "output_type": "display_data",
          "data": {
            "text/plain": [
              "<Figure size 640x480 with 1 Axes>"
            ],
            "image/png": "[encoded data removed]"
          },
          "metadata": {}
        }
      ]
    },
    {
      "cell_type": "code",
      "source": [
        "df['heartRate'].unique()\n"
      ],
      "metadata": {
        "id": "Kca03u2Cugqx",
        "outputId": "3f079cb1-c10d-4487-96d8-4298fc4a142d",
        "colab": {
          "base_uri": "https://localhost:8080/"
        }
      },
      "id": "Kca03u2Cugqx",
      "execution_count": 48,
      "outputs": [
        {
          "output_type": "execute_result",
          "data": {
            "text/plain": [
              "array([ 75,  85, 110,  91,  63,  70,  44, 103,  58,  74,  95,  78,  60,\n",
              "        68,  79,  72,  93,  80,  66,  77,  69,  76,  65,  67,  54,  62,\n",
              "        90, 100,  73, 120, 106, 115,  50,  64,  82,  98,  57,  83,  88,\n",
              "        84,  86,  56,  96,  94,  87,  92,  55,  71,  52, 107,  61,  53,\n",
              "        89, 105,  81,  59, 102, 140, 104,  99, 125, 108, 112, 122,  46,\n",
              "        97,  47, 130,  48])"
            ]
          },
          "metadata": {},
          "execution_count": 48
        }
      ]
    },
    {
      "cell_type": "code",
      "source": [
        "df['heartRate'].value_counts()\n"
      ],
      "metadata": {
        "id": "TCKUD8OXui8c",
        "outputId": "c929da8b-c675-45d9-f647-ed19e5840ea5",
        "colab": {
          "base_uri": "https://localhost:8080/"
        }
      },
      "id": "TCKUD8OXui8c",
      "execution_count": 49,
      "outputs": [
        {
          "output_type": "execute_result",
          "data": {
            "text/plain": [
              "heartRate\n",
              "75     385\n",
              "80     247\n",
              "70     206\n",
              "60     158\n",
              "85     154\n",
              "      ... \n",
              "46       1\n",
              "97       1\n",
              "47       1\n",
              "130      1\n",
              "48       1\n",
              "Name: count, Length: 69, dtype: int64"
            ]
          },
          "metadata": {},
          "execution_count": 49
        }
      ]
    },
    {
      "cell_type": "code",
      "source": [
        "df['heartRate'].plot.density()\n"
      ],
      "metadata": {
        "id": "LSL9jwlKukjE",
        "outputId": "2201f918-ece9-415e-d848-0316cc8d8cba",
        "colab": {
          "base_uri": "https://localhost:8080/",
          "height": 447
        }
      },
      "id": "LSL9jwlKukjE",
      "execution_count": 50,
      "outputs": [
        {
          "output_type": "execute_result",
          "data": {
            "text/plain": [
              "<Axes: ylabel='Density'>"
            ]
          },
          "metadata": {},
          "execution_count": 50
        },
        {
          "output_type": "display_data",
          "data": {
            "text/plain": [
              "<Figure size 640x480 with 1 Axes>"
            ],
            "image/png": "[encoded data removed]"
          },
          "metadata": {}
        }
      ]
    },
    {
      "cell_type": "code",
      "source": [
        "df['glucose'].unique()\n"
      ],
      "metadata": {
        "id": "qa1br9gmumdM",
        "outputId": "9166c3ea-219b-42d8-fe17-f9f33e256e5a",
        "colab": {
          "base_uri": "https://localhost:8080/"
        }
      },
      "id": "qa1br9gmumdM",
      "execution_count": 51,
      "outputs": [
        {
          "output_type": "execute_result",
          "data": {
            "text/plain": [
              "array([ 87.,  77.,  75.,  74., 104.,  69.,  90.,  91.,  81.,  89.,  86.,\n",
              "        84.,  73.,  65., 103.,  76.,  95.,  85.,  92.,  72.,  62.,  93.,\n",
              "        68.,  67., 122., 102.,  79.,  66.,  83.,  78.,  64.,  63.,  58.,\n",
              "        71., 115.,  70.,  96.,  60.,  82.,  94.,  88., 167., 117., 215.,\n",
              "       108., 268., 100.,  80.,  99., 135.,  97.,  55., 274.,  40., 118.,\n",
              "        47.,  56., 112., 107., 105.,  61., 260., 170., 148., 120., 225.,\n",
              "        98.,  59., 332., 110., 206., 129.,  57., 114., 101., 113., 111.,\n",
              "       127., 121.,  45., 147.,  50., 244., 106., 394., 173., 116., 137.,\n",
              "       145., 123.,  44., 172.,  54., 142., 348., 119., 320.,  53., 136.,\n",
              "       210.,  43., 144., 292., 125., 294., 130., 131., 255., 160.,  52.,\n",
              "       207., 216., 109., 126., 235., 140., 270., 250., 193., 256., 150.,\n",
              "       202., 254., 370., 191., 186.])"
            ]
          },
          "metadata": {},
          "execution_count": 51
        }
      ]
    },
    {
      "cell_type": "code",
      "source": [
        "df['glucose'].value_counts()\n"
      ],
      "metadata": {
        "id": "iq5LVVJeuoRq",
        "outputId": "7c775153-dbe4-47a2-a238-0aef4f9bca5b",
        "colab": {
          "base_uri": "https://localhost:8080/"
        }
      },
      "id": "iq5LVVJeuoRq",
      "execution_count": 52,
      "outputs": [
        {
          "output_type": "execute_result",
          "data": {
            "text/plain": [
              "glucose\n",
              "75.0     141\n",
              "77.0     126\n",
              "73.0     115\n",
              "70.0     112\n",
              "74.0     108\n",
              "        ... \n",
              "348.0      1\n",
              "119.0      1\n",
              "320.0      1\n",
              "136.0      1\n",
              "186.0      1\n",
              "Name: count, Length: 126, dtype: int64"
            ]
          },
          "metadata": {},
          "execution_count": 52
        }
      ]
    },
    {
      "cell_type": "code",
      "source": [
        "df['glucose'].agg('mean')\n"
      ],
      "metadata": {
        "id": "yBWbBPLjupzW",
        "outputId": "1dcacdbb-fff0-4eb3-bd36-3f4e6be7c3d3",
        "colab": {
          "base_uri": "https://localhost:8080/"
        }
      },
      "id": "yBWbBPLjupzW",
      "execution_count": 53,
      "outputs": [
        {
          "output_type": "execute_result",
          "data": {
            "text/plain": [
              "81.74964336661911"
            ]
          },
          "metadata": {},
          "execution_count": 53
        }
      ]
    },
    {
      "cell_type": "code",
      "source": [
        "# Na's are minimal, impute with avg\n",
        "df['glucose'] = df['glucose'].fillna(df['glucose'].agg('mean'))"
      ],
      "metadata": {
        "id": "7LOajrmRusKm"
      },
      "id": "7LOajrmRusKm",
      "execution_count": 54,
      "outputs": []
    },
    {
      "cell_type": "code",
      "source": [
        "df['glucose'].plot.density()\n"
      ],
      "metadata": {
        "id": "wRF-1syuuuB2",
        "outputId": "e132a465-b75c-4e25-fb0e-9bf6633f73f0",
        "colab": {
          "base_uri": "https://localhost:8080/",
          "height": 447
        }
      },
      "id": "wRF-1syuuuB2",
      "execution_count": 55,
      "outputs": [
        {
          "output_type": "execute_result",
          "data": {
            "text/plain": [
              "<Axes: ylabel='Density'>"
            ]
          },
          "metadata": {},
          "execution_count": 55
        },
        {
          "output_type": "display_data",
          "data": {
            "text/plain": [
              "<Figure size 640x480 with 1 Axes>"
            ],
            "image/png": "[encoded data removed]"
          },
          "metadata": {}
        }
      ]
    },
    {
      "cell_type": "code",
      "source": [
        "sns.kdeplot(x=np.log(df['glucose'])) # log version to see\n"
      ],
      "metadata": {
        "id": "gVrcTjXquvmk",
        "outputId": "1d78f99a-10bb-40d2-c90e-32132e56fe80",
        "colab": {
          "base_uri": "https://localhost:8080/",
          "height": 466
        }
      },
      "id": "gVrcTjXquvmk",
      "execution_count": 56,
      "outputs": [
        {
          "output_type": "execute_result",
          "data": {
            "text/plain": [
              "<Axes: xlabel='glucose', ylabel='Density'>"
            ]
          },
          "metadata": {},
          "execution_count": 56
        },
        {
          "output_type": "display_data",
          "data": {
            "text/plain": [
              "<Figure size 640x480 with 1 Axes>"
            ],
            "image/png": "[encoded data removed]"
          },
          "metadata": {}
        }
      ]
    },
    {
      "cell_type": "code",
      "source": [
        "sns.kdeplot(x=np.log(df['glucose']),hue=df['education']) # log version to see\n"
      ],
      "metadata": {
        "id": "CZWKcCoJuxYC",
        "outputId": "7d7f872c-27dc-4c9a-8784-ada5b4b788ec",
        "colab": {
          "base_uri": "https://localhost:8080/",
          "height": 466
        }
      },
      "id": "CZWKcCoJuxYC",
      "execution_count": 57,
      "outputs": [
        {
          "output_type": "execute_result",
          "data": {
            "text/plain": [
              "<Axes: xlabel='glucose', ylabel='Density'>"
            ]
          },
          "metadata": {},
          "execution_count": 57
        },
        {
          "output_type": "display_data",
          "data": {
            "text/plain": [
              "<Figure size 640x480 with 1 Axes>"
            ],
            "image/png": "[encoded data removed]"
          },
          "metadata": {}
        }
      ]
    },
    {
      "cell_type": "code",
      "source": [
        "df.cov()\n"
      ],
      "metadata": {
        "id": "b_BHmjGAuzdz",
        "outputId": "9af6944c-7d6c-4a5c-8826-302d8f9adfc4",
        "colab": {
          "base_uri": "https://localhost:8080/",
          "height": 596
        }
      },
      "id": "b_BHmjGAuzdz",
      "execution_count": 58,
      "outputs": [
        {
          "output_type": "execute_result",
          "data": {
            "text/plain": [
              "                   Unnamed: 0        sex         age  education  \\\n",
              "Unnamed: 0       1.532560e+06  16.508645  -50.881780   5.370548   \n",
              "sex              1.650864e+01   0.247302   -0.148146   0.007072   \n",
              "age             -5.088178e+01  -0.148146   72.816434  -1.470573   \n",
              "education        5.370548e+00   0.007072   -1.470573   1.021550   \n",
              "currentSmoker    3.905751e+00   0.050687   -0.919919   0.011306   \n",
              "cigsPerDay      -5.605496e+01   2.017085  -20.272966   0.145936   \n",
              "BPMeds           3.458418e+00  -0.003610    0.181343  -0.002488   \n",
              "prevalentStroke  2.325052e+00   0.000339    0.041868  -0.002186   \n",
              "prevalentHyp     6.851118e+00   0.000847    1.193090  -0.036393   \n",
              "diabetes         9.562340e+00   0.001272    0.137419  -0.007230   \n",
              "totChol         -9.803120e+02  -1.714352  102.423867  -0.862022   \n",
              "sysBP           -2.902867e+02  -0.427920   74.111965  -2.935674   \n",
              "diaBP           -1.430143e+02   0.330836   20.986359  -0.718566   \n",
              "BMI              1.673103e+01   0.150791    5.056469  -0.635171   \n",
              "heartRate        6.284796e+02  -0.659001   -1.040357  -1.027848   \n",
              "glucose          8.505534e+02   0.131626   21.282250  -0.995023   \n",
              "TenYearCHD      -7.849198e+00   0.017486    0.722061  -0.020996   \n",
              "\n",
              "                 currentSmoker  cigsPerDay    BPMeds  prevalentStroke  \\\n",
              "Unnamed: 0            3.905751  -56.054957  3.458418         2.325052   \n",
              "sex                   0.050687    2.017085 -0.003610         0.000339   \n",
              "age                  -0.919919  -20.272966  0.181343         0.041868   \n",
              "education             0.011306    0.145936 -0.002488        -0.002186   \n",
              "currentSmoker         0.249996    4.581026 -0.004888        -0.001722   \n",
              "cigsPerDay            4.581026  144.684777 -0.094476        -0.034514   \n",
              "BPMeds               -0.004888   -0.094476  0.028735         0.001594   \n",
              "prevalentStroke      -0.001722   -0.034514  0.001594         0.006380   \n",
              "prevalentHyp         -0.025960   -0.410297  0.020033         0.002204   \n",
              "diabetes             -0.002768   -0.063468  0.001327        -0.000176   \n",
              "totChol              -0.590548  -10.494685  0.646396         0.036700   \n",
              "sysBP                -1.587821  -26.235304  1.002317         0.107662   \n",
              "diaBP                -0.688570   -7.504789  0.418250         0.039972   \n",
              "BMI                  -0.356098   -4.749083  0.065061         0.003160   \n",
              "heartRate             0.305110    9.633937 -0.011173        -0.029189   \n",
              "glucose              -0.680257  -17.416701  0.121220         0.022657   \n",
              "TenYearCHD            0.001141    0.218416  0.005742         0.001499   \n",
              "\n",
              "                 prevalentHyp  diabetes      totChol       sysBP       diaBP  \\\n",
              "Unnamed: 0           6.851118  9.562340  -980.312001 -290.286721 -143.014279   \n",
              "sex                  0.000847  0.001272    -1.714352   -0.427920    0.330836   \n",
              "age                  1.193090  0.137419   102.423867   74.111965   20.986359   \n",
              "education           -0.036393 -0.007230    -0.862022   -2.935674   -0.718566   \n",
              "currentSmoker       -0.025960 -0.002768    -0.590548   -1.587821   -0.688570   \n",
              "cigsPerDay          -0.410297 -0.063468   -10.494685  -26.235304   -7.504789   \n",
              "BPMeds               0.020033  0.001327     0.646396    1.002317    0.418250   \n",
              "prevalentStroke      0.002204 -0.000176     0.036700    0.107662    0.039972   \n",
              "prevalentHyp         0.218914  0.006455     3.439904    7.253182    3.471595   \n",
              "diabetes             0.006455  0.026716     0.353392    0.362374    0.085744   \n",
              "totChol              3.439904  0.353392  1952.131761  214.160458   82.929589   \n",
              "sysBP                7.253182  0.362374   214.160458  502.760233  213.472363   \n",
              "diaBP                3.471595  0.085744    82.929589  213.472363  145.158298   \n",
              "BMI                  0.597478  0.058258    19.951584   30.857457   19.491715   \n",
              "heartRate            0.813214  0.103682    44.273755   45.783015   24.091347   \n",
              "glucose              0.930815  2.297281    37.872649   62.730913   14.844779   \n",
              "TenYearCHD           0.028886  0.006075     1.855784    1.739073    0.598758   \n",
              "\n",
              "                       BMI   heartRate     glucose  TenYearCHD  \n",
              "Unnamed: 0       16.731032  628.479570  850.553442   -7.849198  \n",
              "sex               0.150791   -0.659001    0.131626    0.017486  \n",
              "age               5.056469   -1.040357   21.282250    0.722061  \n",
              "education        -0.635171   -1.027848   -0.995023   -0.020996  \n",
              "currentSmoker    -0.356098    0.305110   -0.680257    0.001141  \n",
              "cigsPerDay       -4.749083    9.633937  -17.416701    0.218416  \n",
              "BPMeds            0.065061   -0.011173    0.121220    0.005742  \n",
              "prevalentStroke   0.003160   -0.029189    0.022657    0.001499  \n",
              "prevalentHyp      0.597478    0.813214    0.930815    0.028886  \n",
              "diabetes          0.058258    0.103682    2.297281    0.006075  \n",
              "totChol          19.951584   44.273755   37.872649    1.855784  \n",
              "sysBP            30.857457   45.783015   62.730913    1.739073  \n",
              "diaBP            19.491715   24.091347   14.844779    0.598758  \n",
              "BMI              17.215386    3.981043    7.848042    0.114324  \n",
              "heartRate         3.981043  143.850968   21.806573    0.088521  \n",
              "glucose           7.848042   21.806573  543.142437    1.008974  \n",
              "TenYearCHD        0.114324    0.088521    1.008974    0.131361  "
            ],
            "text/html": [
              "\n",
              "  <div id=\"df-a587750e-54c2-4757-8184-0d3640124a05\" class=\"colab-df-container\">\n",
              "    <div>\n",
              "<style scoped>\n",
              "    .dataframe tbody tr th:only-of-type {\n",
              "        vertical-align: middle;\n",
              "    }\n",
              "\n",
              "    .dataframe tbody tr th {\n",
              "        vertical-align: top;\n",
              "    }\n",
              "\n",
              "    .dataframe thead th {\n",
              "        text-align: right;\n",
              "    }\n",
              "</style>\n",
              "<table border=\"1\" class=\"dataframe\">\n",
              "  <thead>\n",
              "    <tr style=\"text-align: right;\">\n",
              "      <th></th>\n",
              "      <th>Unnamed: 0</th>\n",
              "      <th>sex</th>\n",
              "      <th>age</th>\n",
              "      <th>education</th>\n",
              "      <th>currentSmoker</th>\n",
              "      <th>cigsPerDay</th>\n",
              "      <th>BPMeds</th>\n",
              "      <th>prevalentStroke</th>\n",
              "      <th>prevalentHyp</th>\n",
              "      <th>diabetes</th>\n",
              "      <th>totChol</th>\n",
              "      <th>sysBP</th>\n",
              "      <th>diaBP</th>\n",
              "      <th>BMI</th>\n",
              "      <th>heartRate</th>\n",
              "      <th>glucose</th>\n",
              "      <th>TenYearCHD</th>\n",
              "    </tr>\n",
              "  </thead>\n",
              "  <tbody>\n",
              "    <tr>\n",
              "      <th>Unnamed: 0</th>\n",
              "      <td>1.532560e+06</td>\n",
              "      <td>16.508645</td>\n",
              "      <td>-50.881780</td>\n",
              "      <td>5.370548</td>\n",
              "      <td>3.905751</td>\n",
              "      <td>-56.054957</td>\n",
              "      <td>3.458418</td>\n",
              "      <td>2.325052</td>\n",
              "      <td>6.851118</td>\n",
              "      <td>9.562340</td>\n",
              "      <td>-980.312001</td>\n",
              "      <td>-290.286721</td>\n",
              "      <td>-143.014279</td>\n",
              "      <td>16.731032</td>\n",
              "      <td>628.479570</td>\n",
              "      <td>850.553442</td>\n",
              "      <td>-7.849198</td>\n",
              "    </tr>\n",
              "    <tr>\n",
              "      <th>sex</th>\n",
              "      <td>1.650864e+01</td>\n",
              "      <td>0.247302</td>\n",
              "      <td>-0.148146</td>\n",
              "      <td>0.007072</td>\n",
              "      <td>0.050687</td>\n",
              "      <td>2.017085</td>\n",
              "      <td>-0.003610</td>\n",
              "      <td>0.000339</td>\n",
              "      <td>0.000847</td>\n",
              "      <td>0.001272</td>\n",
              "      <td>-1.714352</td>\n",
              "      <td>-0.427920</td>\n",
              "      <td>0.330836</td>\n",
              "      <td>0.150791</td>\n",
              "      <td>-0.659001</td>\n",
              "      <td>0.131626</td>\n",
              "      <td>0.017486</td>\n",
              "    </tr>\n",
              "    <tr>\n",
              "      <th>age</th>\n",
              "      <td>-5.088178e+01</td>\n",
              "      <td>-0.148146</td>\n",
              "      <td>72.816434</td>\n",
              "      <td>-1.470573</td>\n",
              "      <td>-0.919919</td>\n",
              "      <td>-20.272966</td>\n",
              "      <td>0.181343</td>\n",
              "      <td>0.041868</td>\n",
              "      <td>1.193090</td>\n",
              "      <td>0.137419</td>\n",
              "      <td>102.423867</td>\n",
              "      <td>74.111965</td>\n",
              "      <td>20.986359</td>\n",
              "      <td>5.056469</td>\n",
              "      <td>-1.040357</td>\n",
              "      <td>21.282250</td>\n",
              "      <td>0.722061</td>\n",
              "    </tr>\n",
              "    <tr>\n",
              "      <th>education</th>\n",
              "      <td>5.370548e+00</td>\n",
              "      <td>0.007072</td>\n",
              "      <td>-1.470573</td>\n",
              "      <td>1.021550</td>\n",
              "      <td>0.011306</td>\n",
              "      <td>0.145936</td>\n",
              "      <td>-0.002488</td>\n",
              "      <td>-0.002186</td>\n",
              "      <td>-0.036393</td>\n",
              "      <td>-0.007230</td>\n",
              "      <td>-0.862022</td>\n",
              "      <td>-2.935674</td>\n",
              "      <td>-0.718566</td>\n",
              "      <td>-0.635171</td>\n",
              "      <td>-1.027848</td>\n",
              "      <td>-0.995023</td>\n",
              "      <td>-0.020996</td>\n",
              "    </tr>\n",
              "    <tr>\n",
              "      <th>currentSmoker</th>\n",
              "      <td>3.905751e+00</td>\n",
              "      <td>0.050687</td>\n",
              "      <td>-0.919919</td>\n",
              "      <td>0.011306</td>\n",
              "      <td>0.249996</td>\n",
              "      <td>4.581026</td>\n",
              "      <td>-0.004888</td>\n",
              "      <td>-0.001722</td>\n",
              "      <td>-0.025960</td>\n",
              "      <td>-0.002768</td>\n",
              "      <td>-0.590548</td>\n",
              "      <td>-1.587821</td>\n",
              "      <td>-0.688570</td>\n",
              "      <td>-0.356098</td>\n",
              "      <td>0.305110</td>\n",
              "      <td>-0.680257</td>\n",
              "      <td>0.001141</td>\n",
              "    </tr>\n",
              "    <tr>\n",
              "      <th>cigsPerDay</th>\n",
              "      <td>-5.605496e+01</td>\n",
              "      <td>2.017085</td>\n",
              "      <td>-20.272966</td>\n",
              "      <td>0.145936</td>\n",
              "      <td>4.581026</td>\n",
              "      <td>144.684777</td>\n",
              "      <td>-0.094476</td>\n",
              "      <td>-0.034514</td>\n",
              "      <td>-0.410297</td>\n",
              "      <td>-0.063468</td>\n",
              "      <td>-10.494685</td>\n",
              "      <td>-26.235304</td>\n",
              "      <td>-7.504789</td>\n",
              "      <td>-4.749083</td>\n",
              "      <td>9.633937</td>\n",
              "      <td>-17.416701</td>\n",
              "      <td>0.218416</td>\n",
              "    </tr>\n",
              "    <tr>\n",
              "      <th>BPMeds</th>\n",
              "      <td>3.458418e+00</td>\n",
              "      <td>-0.003610</td>\n",
              "      <td>0.181343</td>\n",
              "      <td>-0.002488</td>\n",
              "      <td>-0.004888</td>\n",
              "      <td>-0.094476</td>\n",
              "      <td>0.028735</td>\n",
              "      <td>0.001594</td>\n",
              "      <td>0.020033</td>\n",
              "      <td>0.001327</td>\n",
              "      <td>0.646396</td>\n",
              "      <td>1.002317</td>\n",
              "      <td>0.418250</td>\n",
              "      <td>0.065061</td>\n",
              "      <td>-0.011173</td>\n",
              "      <td>0.121220</td>\n",
              "      <td>0.005742</td>\n",
              "    </tr>\n",
              "    <tr>\n",
              "      <th>prevalentStroke</th>\n",
              "      <td>2.325052e+00</td>\n",
              "      <td>0.000339</td>\n",
              "      <td>0.041868</td>\n",
              "      <td>-0.002186</td>\n",
              "      <td>-0.001722</td>\n",
              "      <td>-0.034514</td>\n",
              "      <td>0.001594</td>\n",
              "      <td>0.006380</td>\n",
              "      <td>0.002204</td>\n",
              "      <td>-0.000176</td>\n",
              "      <td>0.036700</td>\n",
              "      <td>0.107662</td>\n",
              "      <td>0.039972</td>\n",
              "      <td>0.003160</td>\n",
              "      <td>-0.029189</td>\n",
              "      <td>0.022657</td>\n",
              "      <td>0.001499</td>\n",
              "    </tr>\n",
              "    <tr>\n",
              "      <th>prevalentHyp</th>\n",
              "      <td>6.851118e+00</td>\n",
              "      <td>0.000847</td>\n",
              "      <td>1.193090</td>\n",
              "      <td>-0.036393</td>\n",
              "      <td>-0.025960</td>\n",
              "      <td>-0.410297</td>\n",
              "      <td>0.020033</td>\n",
              "      <td>0.002204</td>\n",
              "      <td>0.218914</td>\n",
              "      <td>0.006455</td>\n",
              "      <td>3.439904</td>\n",
              "      <td>7.253182</td>\n",
              "      <td>3.471595</td>\n",
              "      <td>0.597478</td>\n",
              "      <td>0.813214</td>\n",
              "      <td>0.930815</td>\n",
              "      <td>0.028886</td>\n",
              "    </tr>\n",
              "    <tr>\n",
              "      <th>diabetes</th>\n",
              "      <td>9.562340e+00</td>\n",
              "      <td>0.001272</td>\n",
              "      <td>0.137419</td>\n",
              "      <td>-0.007230</td>\n",
              "      <td>-0.002768</td>\n",
              "      <td>-0.063468</td>\n",
              "      <td>0.001327</td>\n",
              "      <td>-0.000176</td>\n",
              "      <td>0.006455</td>\n",
              "      <td>0.026716</td>\n",
              "      <td>0.353392</td>\n",
              "      <td>0.362374</td>\n",
              "      <td>0.085744</td>\n",
              "      <td>0.058258</td>\n",
              "      <td>0.103682</td>\n",
              "      <td>2.297281</td>\n",
              "      <td>0.006075</td>\n",
              "    </tr>\n",
              "    <tr>\n",
              "      <th>totChol</th>\n",
              "      <td>-9.803120e+02</td>\n",
              "      <td>-1.714352</td>\n",
              "      <td>102.423867</td>\n",
              "      <td>-0.862022</td>\n",
              "      <td>-0.590548</td>\n",
              "      <td>-10.494685</td>\n",
              "      <td>0.646396</td>\n",
              "      <td>0.036700</td>\n",
              "      <td>3.439904</td>\n",
              "      <td>0.353392</td>\n",
              "      <td>1952.131761</td>\n",
              "      <td>214.160458</td>\n",
              "      <td>82.929589</td>\n",
              "      <td>19.951584</td>\n",
              "      <td>44.273755</td>\n",
              "      <td>37.872649</td>\n",
              "      <td>1.855784</td>\n",
              "    </tr>\n",
              "    <tr>\n",
              "      <th>sysBP</th>\n",
              "      <td>-2.902867e+02</td>\n",
              "      <td>-0.427920</td>\n",
              "      <td>74.111965</td>\n",
              "      <td>-2.935674</td>\n",
              "      <td>-1.587821</td>\n",
              "      <td>-26.235304</td>\n",
              "      <td>1.002317</td>\n",
              "      <td>0.107662</td>\n",
              "      <td>7.253182</td>\n",
              "      <td>0.362374</td>\n",
              "      <td>214.160458</td>\n",
              "      <td>502.760233</td>\n",
              "      <td>213.472363</td>\n",
              "      <td>30.857457</td>\n",
              "      <td>45.783015</td>\n",
              "      <td>62.730913</td>\n",
              "      <td>1.739073</td>\n",
              "    </tr>\n",
              "    <tr>\n",
              "      <th>diaBP</th>\n",
              "      <td>-1.430143e+02</td>\n",
              "      <td>0.330836</td>\n",
              "      <td>20.986359</td>\n",
              "      <td>-0.718566</td>\n",
              "      <td>-0.688570</td>\n",
              "      <td>-7.504789</td>\n",
              "      <td>0.418250</td>\n",
              "      <td>0.039972</td>\n",
              "      <td>3.471595</td>\n",
              "      <td>0.085744</td>\n",
              "      <td>82.929589</td>\n",
              "      <td>213.472363</td>\n",
              "      <td>145.158298</td>\n",
              "      <td>19.491715</td>\n",
              "      <td>24.091347</td>\n",
              "      <td>14.844779</td>\n",
              "      <td>0.598758</td>\n",
              "    </tr>\n",
              "    <tr>\n",
              "      <th>BMI</th>\n",
              "      <td>1.673103e+01</td>\n",
              "      <td>0.150791</td>\n",
              "      <td>5.056469</td>\n",
              "      <td>-0.635171</td>\n",
              "      <td>-0.356098</td>\n",
              "      <td>-4.749083</td>\n",
              "      <td>0.065061</td>\n",
              "      <td>0.003160</td>\n",
              "      <td>0.597478</td>\n",
              "      <td>0.058258</td>\n",
              "      <td>19.951584</td>\n",
              "      <td>30.857457</td>\n",
              "      <td>19.491715</td>\n",
              "      <td>17.215386</td>\n",
              "      <td>3.981043</td>\n",
              "      <td>7.848042</td>\n",
              "      <td>0.114324</td>\n",
              "    </tr>\n",
              "    <tr>\n",
              "      <th>heartRate</th>\n",
              "      <td>6.284796e+02</td>\n",
              "      <td>-0.659001</td>\n",
              "      <td>-1.040357</td>\n",
              "      <td>-1.027848</td>\n",
              "      <td>0.305110</td>\n",
              "      <td>9.633937</td>\n",
              "      <td>-0.011173</td>\n",
              "      <td>-0.029189</td>\n",
              "      <td>0.813214</td>\n",
              "      <td>0.103682</td>\n",
              "      <td>44.273755</td>\n",
              "      <td>45.783015</td>\n",
              "      <td>24.091347</td>\n",
              "      <td>3.981043</td>\n",
              "      <td>143.850968</td>\n",
              "      <td>21.806573</td>\n",
              "      <td>0.088521</td>\n",
              "    </tr>\n",
              "    <tr>\n",
              "      <th>glucose</th>\n",
              "      <td>8.505534e+02</td>\n",
              "      <td>0.131626</td>\n",
              "      <td>21.282250</td>\n",
              "      <td>-0.995023</td>\n",
              "      <td>-0.680257</td>\n",
              "      <td>-17.416701</td>\n",
              "      <td>0.121220</td>\n",
              "      <td>0.022657</td>\n",
              "      <td>0.930815</td>\n",
              "      <td>2.297281</td>\n",
              "      <td>37.872649</td>\n",
              "      <td>62.730913</td>\n",
              "      <td>14.844779</td>\n",
              "      <td>7.848042</td>\n",
              "      <td>21.806573</td>\n",
              "      <td>543.142437</td>\n",
              "      <td>1.008974</td>\n",
              "    </tr>\n",
              "    <tr>\n",
              "      <th>TenYearCHD</th>\n",
              "      <td>-7.849198e+00</td>\n",
              "      <td>0.017486</td>\n",
              "      <td>0.722061</td>\n",
              "      <td>-0.020996</td>\n",
              "      <td>0.001141</td>\n",
              "      <td>0.218416</td>\n",
              "      <td>0.005742</td>\n",
              "      <td>0.001499</td>\n",
              "      <td>0.028886</td>\n",
              "      <td>0.006075</td>\n",
              "      <td>1.855784</td>\n",
              "      <td>1.739073</td>\n",
              "      <td>0.598758</td>\n",
              "      <td>0.114324</td>\n",
              "      <td>0.088521</td>\n",
              "      <td>1.008974</td>\n",
              "      <td>0.131361</td>\n",
              "    </tr>\n",
              "  </tbody>\n",
              "</table>\n",
              "</div>\n",
              "    <div class=\"colab-df-buttons\">\n",
              "\n",
              "  <div class=\"colab-df-container\">\n",
              "    <button class=\"colab-df-convert\" onclick=\"convertToInteractive('df-a587750e-54c2-4757-8184-0d3640124a05')\"\n",
              "            title=\"Convert this dataframe to an interactive table.\"\n",
              "            style=\"display:none;\">\n",
              "\n",
              "  <svg xmlns=\"http://www.w3.org/2000/svg\" height=\"24px\" viewBox=\"0 -960 960 960\">\n",
              "    <path d=\"M120-120v-720h720v720H120Zm60-500h600v-160H180v160Zm220 220h160v-160H400v160Zm0 220h160v-160H400v160ZM180-400h160v-160H180v160Zm440 0h160v-160H620v160ZM180-180h160v-160H180v160Zm440 0h160v-160H620v160Z\"/>\n",
              "  </svg>\n",
              "    </button>\n",
              "\n",
              "  <style>\n",
              "    .colab-df-container {\n",
              "      display:flex;\n",
              "      gap: 12px;\n",
              "    }\n",
              "\n",
              "    .colab-df-convert {\n",
              "      background-color: #E8F0FE;\n",
              "      border: none;\n",
              "      border-radius: 50%;\n",
              "      cursor: pointer;\n",
              "      display: none;\n",
              "      fill: #1967D2;\n",
              "      height: 32px;\n",
              "      padding: 0 0 0 0;\n",
              "      width: 32px;\n",
              "    }\n",
              "\n",
              "    .colab-df-convert:hover {\n",
              "      background-color: #E2EBFA;\n",
              "      box-shadow: 0px 1px 2px rgba(60, 64, 67, 0.3), 0px 1px 3px 1px rgba(60, 64, 67, 0.15);\n",
              "      fill: #174EA6;\n",
              "    }\n",
              "\n",
              "    .colab-df-buttons div {\n",
              "      margin-bottom: 4px;\n",
              "    }\n",
              "\n",
              "    [theme=dark] .colab-df-convert {\n",
              "      background-color: #3B4455;\n",
              "      fill: #D2E3FC;\n",
              "    }\n",
              "\n",
              "    [theme=dark] .colab-df-convert:hover {\n",
              "      background-color: #434B5C;\n",
              "      box-shadow: 0px 1px 3px 1px rgba(0, 0, 0, 0.15);\n",
              "      filter: drop-shadow(0px 1px 2px rgba(0, 0, 0, 0.3));\n",
              "      fill: #FFFFFF;\n",
              "    }\n",
              "  </style>\n",
              "\n",
              "    <script>\n",
              "      const buttonEl =\n",
              "        document.querySelector('#df-a587750e-54c2-4757-8184-0d3640124a05 button.colab-df-convert');\n",
              "      buttonEl.style.display =\n",
              "        google.colab.kernel.accessAllowed ? 'block' : 'none';\n",
              "\n",
              "      async function convertToInteractive(key) {\n",
              "        const element = document.querySelector('#df-a587750e-54c2-4757-8184-0d3640124a05');\n",
              "        const dataTable =\n",
              "          await google.colab.kernel.invokeFunction('convertToInteractive',\n",
              "                                                    [key], {});\n",
              "        if (!dataTable) return;\n",
              "\n",
              "        const docLinkHtml = 'Like what you see? Visit the ' +\n",
              "          '<a target=\"_blank\" href=https://colab.research.google.com/notebooks/data_table.ipynb>data table notebook</a>'\n",
              "          + ' to learn more about interactive tables.';\n",
              "        element.innerHTML = '';\n",
              "        dataTable['output_type'] = 'display_data';\n",
              "        await google.colab.output.renderOutput(dataTable, element);\n",
              "        const docLink = document.createElement('div');\n",
              "        docLink.innerHTML = docLinkHtml;\n",
              "        element.appendChild(docLink);\n",
              "      }\n",
              "    </script>\n",
              "  </div>\n",
              "\n",
              "\n",
              "<div id=\"df-4bee4962-20ba-4774-b9df-a94e47da2abd\">\n",
              "  <button class=\"colab-df-quickchart\" onclick=\"quickchart('df-4bee4962-20ba-4774-b9df-a94e47da2abd')\"\n",
              "            title=\"Suggest charts\"\n",
              "            style=\"display:none;\">\n",
              "\n",
              "<svg xmlns=\"http://www.w3.org/2000/svg\" height=\"24px\"viewBox=\"0 0 24 24\"\n",
              "     width=\"24px\">\n",
              "    <g>\n",
              "        <path d=\"M19 3H5c-1.1 0-2 .9-2 2v14c0 1.1.9 2 2 2h14c1.1 0 2-.9 2-2V5c0-1.1-.9-2-2-2zM9 17H7v-7h2v7zm4 0h-2V7h2v10zm4 0h-2v-4h2v4z\"/>\n",
              "    </g>\n",
              "</svg>\n",
              "  </button>\n",
              "\n",
              "<style>\n",
              "  .colab-df-quickchart {\n",
              "      --bg-color: #E8F0FE;\n",
              "      --fill-color: #1967D2;\n",
              "      --hover-bg-color: #E2EBFA;\n",
              "      --hover-fill-color: #174EA6;\n",
              "      --disabled-fill-color: #AAA;\n",
              "      --disabled-bg-color: #DDD;\n",
              "  }\n",
              "\n",
              "  [theme=dark] .colab-df-quickchart {\n",
              "      --bg-color: #3B4455;\n",
              "      --fill-color: #D2E3FC;\n",
              "      --hover-bg-color: #434B5C;\n",
              "      --hover-fill-color: #FFFFFF;\n",
              "      --disabled-bg-color: #3B4455;\n",
              "      --disabled-fill-color: #666;\n",
              "  }\n",
              "\n",
              "  .colab-df-quickchart {\n",
              "    background-color: var(--bg-color);\n",
              "    border: none;\n",
              "    border-radius: 50%;\n",
              "    cursor: pointer;\n",
              "    display: none;\n",
              "    fill: var(--fill-color);\n",
              "    height: 32px;\n",
              "    padding: 0;\n",
              "    width: 32px;\n",
              "  }\n",
              "\n",
              "  .colab-df-quickchart:hover {\n",
              "    background-color: var(--hover-bg-color);\n",
              "    box-shadow: 0 1px 2px rgba(60, 64, 67, 0.3), 0 1px 3px 1px rgba(60, 64, 67, 0.15);\n",
              "    fill: var(--button-hover-fill-color);\n",
              "  }\n",
              "\n",
              "  .colab-df-quickchart-complete:disabled,\n",
              "  .colab-df-quickchart-complete:disabled:hover {\n",
              "    background-color: var(--disabled-bg-color);\n",
              "    fill: var(--disabled-fill-color);\n",
              "    box-shadow: none;\n",
              "  }\n",
              "\n",
              "  .colab-df-spinner {\n",
              "    border: 2px solid var(--fill-color);\n",
              "    border-color: transparent;\n",
              "    border-bottom-color: var(--fill-color);\n",
              "    animation:\n",
              "      spin 1s steps(1) infinite;\n",
              "  }\n",
              "\n",
              "  @keyframes spin {\n",
              "    0% {\n",
              "      border-color: transparent;\n",
              "      border-bottom-color: var(--fill-color);\n",
              "      border-left-color: var(--fill-color);\n",
              "    }\n",
              "    20% {\n",
              "      border-color: transparent;\n",
              "      border-left-color: var(--fill-color);\n",
              "      border-top-color: var(--fill-color);\n",
              "    }\n",
              "    30% {\n",
              "      border-color: transparent;\n",
              "      border-left-color: var(--fill-color);\n",
              "      border-top-color: var(--fill-color);\n",
              "      border-right-color: var(--fill-color);\n",
              "    }\n",
              "    40% {\n",
              "      border-color: transparent;\n",
              "      border-right-color: var(--fill-color);\n",
              "      border-top-color: var(--fill-color);\n",
              "    }\n",
              "    60% {\n",
              "      border-color: transparent;\n",
              "      border-right-color: var(--fill-color);\n",
              "    }\n",
              "    80% {\n",
              "      border-color: transparent;\n",
              "      border-right-color: var(--fill-color);\n",
              "      border-bottom-color: var(--fill-color);\n",
              "    }\n",
              "    90% {\n",
              "      border-color: transparent;\n",
              "      border-bottom-color: var(--fill-color);\n",
              "    }\n",
              "  }\n",
              "</style>\n",
              "\n",
              "  <script>\n",
              "    async function quickchart(key) {\n",
              "      const quickchartButtonEl =\n",
              "        document.querySelector('#' + key + ' button');\n",
              "      quickchartButtonEl.disabled = true;  // To prevent multiple clicks.\n",
              "      quickchartButtonEl.classList.add('colab-df-spinner');\n",
              "      try {\n",
              "        const charts = await google.colab.kernel.invokeFunction(\n",
              "            'suggestCharts', [key], {});\n",
              "      } catch (error) {\n",
              "        console.error('Error during call to suggestCharts:', error);\n",
              "      }\n",
              "      quickchartButtonEl.classList.remove('colab-df-spinner');\n",
              "      quickchartButtonEl.classList.add('colab-df-quickchart-complete');\n",
              "    }\n",
              "    (() => {\n",
              "      let quickchartButtonEl =\n",
              "        document.querySelector('#df-4bee4962-20ba-4774-b9df-a94e47da2abd button');\n",
              "      quickchartButtonEl.style.display =\n",
              "        google.colab.kernel.accessAllowed ? 'block' : 'none';\n",
              "    })();\n",
              "  </script>\n",
              "</div>\n",
              "\n",
              "    </div>\n",
              "  </div>\n"
            ],
            "application/vnd.google.colaboratory.intrinsic+json": {
              "type": "dataframe",
              "summary": "{\n  \"name\": \"df\",\n  \"rows\": 17,\n  \"fields\": [\n    {\n      \"column\": \"Unnamed: 0\",\n      \"properties\": {\n        \"dtype\": \"number\",\n        \"std\": 371700.29161945224,\n        \"min\": -980.3120007705219,\n        \"max\": 1532559.7632202453,\n        \"num_unique_values\": 17,\n        \"samples\": [\n          1532559.7632202453,\n          16.508644701545073,\n          -56.054957420290286\n        ],\n        \"semantic_type\": \"\",\n        \"description\": \"\"\n      }\n    },\n    {\n      \"column\": \"sex\",\n      \"properties\": {\n        \"dtype\": \"number\",\n        \"std\": 4.064787517270361,\n        \"min\": -1.71435154814258,\n        \"max\": 16.508644701545073,\n        \"num_unique_values\": 17,\n        \"samples\": [\n          16.508644701545073,\n          0.2473022841331105,\n          2.0170848128380903\n        ],\n        \"semantic_type\": \"\",\n        \"description\": \"\"\n      }\n    },\n    {\n      \"column\": \"age\",\n      \"properties\": {\n        \"dtype\": \"number\",\n        \"std\": 37.29371664635956,\n        \"min\": -50.88178016930098,\n        \"max\": 102.42386748862411,\n        \"num_unique_values\": 17,\n        \"samples\": [\n          -50.88178016930098,\n          -0.14814624436931503,\n          -20.272965637489488\n        ],\n        \"semantic_type\": \"\",\n        \"description\": \"\"\n      }\n    },\n    {\n      \"column\": \"education\",\n      \"properties\": {\n        \"dtype\": \"number\",\n        \"std\": 1.6606839620728167,\n        \"min\": -2.9356739238527285,\n        \"max\": 5.370547553746924,\n        \"num_unique_values\": 17,\n        \"samples\": [\n          5.370547553746924,\n          0.007071595900662802,\n          0.1459364660749163\n        ],\n        \"semantic_type\": \"\",\n        \"description\": \"\"\n      }\n    },\n    {\n      \"column\": \"currentSmoker\",\n      \"properties\": {\n        \"dtype\": \"number\",\n        \"std\": 1.5834852031662803,\n        \"min\": -1.587821447165585,\n        \"max\": 4.581025628237116,\n        \"num_unique_values\": 17,\n        \"samples\": [\n          3.9057506910010353,\n          0.050686726011411304,\n          4.581025628237116\n        ],\n        \"semantic_type\": \"\",\n        \"description\": \"\"\n      }\n    },\n    {\n      \"column\": \"cigsPerDay\",\n      \"properties\": {\n        \"dtype\": \"number\",\n        \"std\": 40.129982912436574,\n        \"min\": -56.054957420290286,\n        \"max\": 144.68477680577647,\n        \"num_unique_values\": 17,\n        \"samples\": [\n          -56.054957420290286,\n          2.0170848128380903,\n          144.68477680577647\n        ],\n        \"semantic_type\": \"\",\n        \"description\": \"\"\n      }\n    },\n    {\n      \"column\": \"BPMeds\",\n      \"properties\": {\n        \"dtype\": \"number\",\n        \"std\": 0.8521395471669347,\n        \"min\": -0.09447591051568442,\n        \"max\": 3.4584176674370184,\n        \"num_unique_values\": 17,\n        \"samples\": [\n          3.4584176674370184,\n          -0.0036101018727133093,\n          -0.09447591051568442\n        ],\n        \"semantic_type\": \"\",\n        \"description\": \"\"\n      }\n    },\n    {\n      \"column\": \"prevalentStroke\",\n      \"properties\": {\n        \"dtype\": \"number\",\n        \"std\": 0.5618519384187436,\n        \"min\": -0.03451417194640153,\n        \"max\": 2.3250519236827465,\n        \"num_unique_values\": 17,\n        \"samples\": [\n          2.3250519236827465,\n          0.00033894802949560186,\n          -0.03451417194640153\n        ],\n        \"semantic_type\": \"\",\n        \"description\": \"\"\n      }\n    },\n    {\n      \"column\": \"prevalentHyp\",\n      \"properties\": {\n        \"dtype\": \"number\",\n        \"std\": 2.3987854270660565,\n        \"min\": -0.4102965897044282,\n        \"max\": 7.253181900073435,\n        \"num_unique_values\": 17,\n        \"samples\": [\n          6.8511184776042375,\n          0.0008466066772762014,\n          -0.4102965897044282\n        ],\n        \"semantic_type\": \"\",\n        \"description\": \"\"\n      }\n    },\n    {\n      \"column\": \"diabetes\",\n      \"properties\": {\n        \"dtype\": \"number\",\n        \"std\": 2.3343211752571533,\n        \"min\": -0.06346827298853944,\n        \"max\": 9.562339591318251,\n        \"num_unique_values\": 17,\n        \"samples\": [\n          9.562339591318251,\n          0.0012715640415837239,\n          -0.06346827298853944\n        ],\n        \"semantic_type\": \"\",\n        \"description\": \"\"\n      }\n    },\n    {\n      \"column\": \"totChol\",\n      \"properties\": {\n        \"dtype\": \"number\",\n        \"std\": 542.7100216544046,\n        \"min\": -980.3120007705219,\n        \"max\": 1952.1317605754577,\n        \"num_unique_values\": 17,\n        \"samples\": [\n          -980.3120007705219,\n          -1.71435154814258,\n          -10.494684979360311\n        ],\n        \"semantic_type\": \"\",\n        \"description\": \"\"\n      }\n    },\n    {\n      \"column\": \"sysBP\",\n      \"properties\": {\n        \"dtype\": \"number\",\n        \"std\": 158.291221472213,\n        \"min\": -290.28672121473693,\n        \"max\": 502.7602325343795,\n        \"num_unique_values\": 17,\n        \"samples\": [\n          -290.28672121473693,\n          -0.4279204876780176,\n          -26.235303981926847\n        ],\n        \"semantic_type\": \"\",\n        \"description\": \"\"\n      }\n    },\n    {\n      \"column\": \"diaBP\",\n      \"properties\": {\n        \"dtype\": \"number\",\n        \"std\": 73.92361045441382,\n        \"min\": -143.01427894913877,\n        \"max\": 213.47236269423985,\n        \"num_unique_values\": 17,\n        \"samples\": [\n          -143.01427894913877,\n          0.3308356697506187,\n          -7.504789040476808\n        ],\n        \"semantic_type\": \"\",\n        \"description\": \"\"\n      }\n    },\n    {\n      \"column\": \"BMI\",\n      \"properties\": {\n        \"dtype\": \"number\",\n        \"std\": 10.112558551749343,\n        \"min\": -4.749083262634338,\n        \"max\": 30.857456996604927,\n        \"num_unique_values\": 17,\n        \"samples\": [\n          16.731031597997433,\n          0.15079114337959681,\n          -4.749083262634338\n        ],\n        \"semantic_type\": \"\",\n        \"description\": \"\"\n      }\n    },\n    {\n      \"column\": \"heartRate\",\n      \"properties\": {\n        \"dtype\": \"number\",\n        \"std\": 152.2883029283329,\n        \"min\": -1.0403572084728872,\n        \"max\": 628.4795697293961,\n        \"num_unique_values\": 17,\n        \"samples\": [\n          628.4795697293961,\n          -0.6590009786742653,\n          9.633936637075724\n        ],\n        \"semantic_type\": \"\",\n        \"description\": \"\"\n      }\n    },\n    {\n      \"column\": \"glucose\",\n      \"properties\": {\n        \"dtype\": \"number\",\n        \"std\": 235.16381809326114,\n        \"min\": -17.416701486027552,\n        \"max\": 850.5534423327769,\n        \"num_unique_values\": 17,\n        \"samples\": [\n          850.5534423327769,\n          0.13162583598274297,\n          -17.416701486027552\n        ],\n        \"semantic_type\": \"\",\n        \"description\": \"\"\n      }\n    },\n    {\n      \"column\": \"TenYearCHD\",\n      \"properties\": {\n        \"dtype\": \"number\",\n        \"std\": 2.091041513488071,\n        \"min\": -7.849198153801992,\n        \"max\": 1.8557837206213235,\n        \"num_unique_values\": 17,\n        \"samples\": [\n          -7.849198153801992,\n          0.01748585044656151,\n          0.2184158709106763\n        ],\n        \"semantic_type\": \"\",\n        \"description\": \"\"\n      }\n    }\n  ]\n}"
            }
          },
          "metadata": {},
          "execution_count": 58
        }
      ]
    },
    {
      "cell_type": "code",
      "source": [
        "df.plot.scatter(y='sysBP',x='totChol')\n"
      ],
      "metadata": {
        "id": "nsAAdoplu1Rx",
        "outputId": "30ad58d1-5e24-4ca7-f401-86b542959ef3",
        "colab": {
          "base_uri": "https://localhost:8080/",
          "height": 466
        }
      },
      "id": "nsAAdoplu1Rx",
      "execution_count": 59,
      "outputs": [
        {
          "output_type": "execute_result",
          "data": {
            "text/plain": [
              "<Axes: xlabel='totChol', ylabel='sysBP'>"
            ]
          },
          "metadata": {},
          "execution_count": 59
        },
        {
          "output_type": "display_data",
          "data": {
            "text/plain": [
              "<Figure size 640x480 with 1 Axes>"
            ],
            "image/png": "[encoded data removed]"
          },
          "metadata": {}
        }
      ]
    },
    {
      "cell_type": "code",
      "source": [
        "# sysBp and diaBP are very correlated, as to be expected.\n",
        "df.plot.scatter(y='sysBP',x='diaBP')"
      ],
      "metadata": {
        "id": "rvbJRtaNu34u",
        "outputId": "5a40eeb4-1e5b-460e-e3cd-b29d2a78df5f",
        "colab": {
          "base_uri": "https://localhost:8080/",
          "height": 466
        }
      },
      "id": "rvbJRtaNu34u",
      "execution_count": 60,
      "outputs": [
        {
          "output_type": "execute_result",
          "data": {
            "text/plain": [
              "<Axes: xlabel='diaBP', ylabel='sysBP'>"
            ]
          },
          "metadata": {},
          "execution_count": 60
        },
        {
          "output_type": "display_data",
          "data": {
            "text/plain": [
              "<Figure size 640x480 with 1 Axes>"
            ],
            "image/png": "[encoded data removed]"
          },
          "metadata": {}
        }
      ]
    },
    {
      "cell_type": "code",
      "source": [
        "df.plot.scatter(y='sysBP',x='BMI')\n"
      ],
      "metadata": {
        "id": "4fHu-y8Au62T",
        "outputId": "e6c8a92e-6835-440d-f514-9992836279c1",
        "colab": {
          "base_uri": "https://localhost:8080/",
          "height": 466
        }
      },
      "id": "4fHu-y8Au62T",
      "execution_count": 61,
      "outputs": [
        {
          "output_type": "execute_result",
          "data": {
            "text/plain": [
              "<Axes: xlabel='BMI', ylabel='sysBP'>"
            ]
          },
          "metadata": {},
          "execution_count": 61
        },
        {
          "output_type": "display_data",
          "data": {
            "text/plain": [
              "<Figure size 640x480 with 1 Axes>"
            ],
            "image/png": "[encoded data removed]"
          },
          "metadata": {}
        }
      ]
    }
  ],
  "metadata": {
    "kernelspec": {
      "display_name": "Python 3 (ipykernel)",
      "language": "python",
      "name": "python3"
    },
    "language_info": {
      "codemirror_mode": {
        "name": "ipython",
        "version": 3
      },
      "file_extension": ".py",
      "mimetype": "text/x-python",
      "name": "python",
      "nbconvert_exporter": "python",
      "pygments_lexer": "ipython3",
      "version": "3.10.4"
    },
    "colab": {
      "provenance": [],
      "include_colab_link": true
    }
  },
  "nbformat": 4,
  "nbformat_minor": 5
}